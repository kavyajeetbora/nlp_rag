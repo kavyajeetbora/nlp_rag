{
  "nbformat": 4,
  "nbformat_minor": 0,
  "metadata": {
    "colab": {
      "provenance": [],
      "gpuType": "T4",
      "authorship_tag": "ABX9TyP98IQEFGTWOU8oP0L2i5X6",
      "include_colab_link": true
    },
    "kernelspec": {
      "name": "python3",
      "display_name": "Python 3"
    },
    "language_info": {
      "name": "python"
    },
    "accelerator": "GPU",
    "widgets": {
      "application/vnd.jupyter.widget-state+json": {
        "8c9d80243b6e4e4686e107e15a13335d": {
          "model_module": "@jupyter-widgets/controls",
          "model_name": "HBoxModel",
          "model_module_version": "1.5.0",
          "state": {
            "_dom_classes": [],
            "_model_module": "@jupyter-widgets/controls",
            "_model_module_version": "1.5.0",
            "_model_name": "HBoxModel",
            "_view_count": null,
            "_view_module": "@jupyter-widgets/controls",
            "_view_module_version": "1.5.0",
            "_view_name": "HBoxView",
            "box_style": "",
            "children": [
              "IPY_MODEL_b5e0fcbf54704e998e01759f006f01e8",
              "IPY_MODEL_7d1dcd8ab59041f893aa2b0e9561722c",
              "IPY_MODEL_82a67276857c4a36af4c3ddd3ad77a0f"
            ],
            "layout": "IPY_MODEL_9b4b09ace5604bb5aa86d0605d4b3ce7"
          }
        },
        "b5e0fcbf54704e998e01759f006f01e8": {
          "model_module": "@jupyter-widgets/controls",
          "model_name": "HTMLModel",
          "model_module_version": "1.5.0",
          "state": {
            "_dom_classes": [],
            "_model_module": "@jupyter-widgets/controls",
            "_model_module_version": "1.5.0",
            "_model_name": "HTMLModel",
            "_view_count": null,
            "_view_module": "@jupyter-widgets/controls",
            "_view_module_version": "1.5.0",
            "_view_name": "HTMLView",
            "description": "",
            "description_tooltip": null,
            "layout": "IPY_MODEL_0b6024ee0a924561b2cd93d1f34f8ee5",
            "placeholder": "​",
            "style": "IPY_MODEL_dfe0b1aea1d5498e9a353919ea548669",
            "value": "model.safetensors: 100%"
          }
        },
        "7d1dcd8ab59041f893aa2b0e9561722c": {
          "model_module": "@jupyter-widgets/controls",
          "model_name": "FloatProgressModel",
          "model_module_version": "1.5.0",
          "state": {
            "_dom_classes": [],
            "_model_module": "@jupyter-widgets/controls",
            "_model_module_version": "1.5.0",
            "_model_name": "FloatProgressModel",
            "_view_count": null,
            "_view_module": "@jupyter-widgets/controls",
            "_view_module_version": "1.5.0",
            "_view_name": "ProgressView",
            "bar_style": "success",
            "description": "",
            "description_tooltip": null,
            "layout": "IPY_MODEL_3f2b1d6950ad4f8a8c6e1a8dd82cf735",
            "max": 2200119864,
            "min": 0,
            "orientation": "horizontal",
            "style": "IPY_MODEL_9d38a67eb93d4aeba53afde4e0c1d03a",
            "value": 2200119864
          }
        },
        "82a67276857c4a36af4c3ddd3ad77a0f": {
          "model_module": "@jupyter-widgets/controls",
          "model_name": "HTMLModel",
          "model_module_version": "1.5.0",
          "state": {
            "_dom_classes": [],
            "_model_module": "@jupyter-widgets/controls",
            "_model_module_version": "1.5.0",
            "_model_name": "HTMLModel",
            "_view_count": null,
            "_view_module": "@jupyter-widgets/controls",
            "_view_module_version": "1.5.0",
            "_view_name": "HTMLView",
            "description": "",
            "description_tooltip": null,
            "layout": "IPY_MODEL_4922889ebcad4a779ab2c88eec15d9f0",
            "placeholder": "​",
            "style": "IPY_MODEL_441427b856a04cdcaa75ef82e11315f5",
            "value": " 2.20G/2.20G [00:51&lt;00:00, 42.9MB/s]"
          }
        },
        "9b4b09ace5604bb5aa86d0605d4b3ce7": {
          "model_module": "@jupyter-widgets/base",
          "model_name": "LayoutModel",
          "model_module_version": "1.2.0",
          "state": {
            "_model_module": "@jupyter-widgets/base",
            "_model_module_version": "1.2.0",
            "_model_name": "LayoutModel",
            "_view_count": null,
            "_view_module": "@jupyter-widgets/base",
            "_view_module_version": "1.2.0",
            "_view_name": "LayoutView",
            "align_content": null,
            "align_items": null,
            "align_self": null,
            "border": null,
            "bottom": null,
            "display": null,
            "flex": null,
            "flex_flow": null,
            "grid_area": null,
            "grid_auto_columns": null,
            "grid_auto_flow": null,
            "grid_auto_rows": null,
            "grid_column": null,
            "grid_gap": null,
            "grid_row": null,
            "grid_template_areas": null,
            "grid_template_columns": null,
            "grid_template_rows": null,
            "height": null,
            "justify_content": null,
            "justify_items": null,
            "left": null,
            "margin": null,
            "max_height": null,
            "max_width": null,
            "min_height": null,
            "min_width": null,
            "object_fit": null,
            "object_position": null,
            "order": null,
            "overflow": null,
            "overflow_x": null,
            "overflow_y": null,
            "padding": null,
            "right": null,
            "top": null,
            "visibility": null,
            "width": null
          }
        },
        "0b6024ee0a924561b2cd93d1f34f8ee5": {
          "model_module": "@jupyter-widgets/base",
          "model_name": "LayoutModel",
          "model_module_version": "1.2.0",
          "state": {
            "_model_module": "@jupyter-widgets/base",
            "_model_module_version": "1.2.0",
            "_model_name": "LayoutModel",
            "_view_count": null,
            "_view_module": "@jupyter-widgets/base",
            "_view_module_version": "1.2.0",
            "_view_name": "LayoutView",
            "align_content": null,
            "align_items": null,
            "align_self": null,
            "border": null,
            "bottom": null,
            "display": null,
            "flex": null,
            "flex_flow": null,
            "grid_area": null,
            "grid_auto_columns": null,
            "grid_auto_flow": null,
            "grid_auto_rows": null,
            "grid_column": null,
            "grid_gap": null,
            "grid_row": null,
            "grid_template_areas": null,
            "grid_template_columns": null,
            "grid_template_rows": null,
            "height": null,
            "justify_content": null,
            "justify_items": null,
            "left": null,
            "margin": null,
            "max_height": null,
            "max_width": null,
            "min_height": null,
            "min_width": null,
            "object_fit": null,
            "object_position": null,
            "order": null,
            "overflow": null,
            "overflow_x": null,
            "overflow_y": null,
            "padding": null,
            "right": null,
            "top": null,
            "visibility": null,
            "width": null
          }
        },
        "dfe0b1aea1d5498e9a353919ea548669": {
          "model_module": "@jupyter-widgets/controls",
          "model_name": "DescriptionStyleModel",
          "model_module_version": "1.5.0",
          "state": {
            "_model_module": "@jupyter-widgets/controls",
            "_model_module_version": "1.5.0",
            "_model_name": "DescriptionStyleModel",
            "_view_count": null,
            "_view_module": "@jupyter-widgets/base",
            "_view_module_version": "1.2.0",
            "_view_name": "StyleView",
            "description_width": ""
          }
        },
        "3f2b1d6950ad4f8a8c6e1a8dd82cf735": {
          "model_module": "@jupyter-widgets/base",
          "model_name": "LayoutModel",
          "model_module_version": "1.2.0",
          "state": {
            "_model_module": "@jupyter-widgets/base",
            "_model_module_version": "1.2.0",
            "_model_name": "LayoutModel",
            "_view_count": null,
            "_view_module": "@jupyter-widgets/base",
            "_view_module_version": "1.2.0",
            "_view_name": "LayoutView",
            "align_content": null,
            "align_items": null,
            "align_self": null,
            "border": null,
            "bottom": null,
            "display": null,
            "flex": null,
            "flex_flow": null,
            "grid_area": null,
            "grid_auto_columns": null,
            "grid_auto_flow": null,
            "grid_auto_rows": null,
            "grid_column": null,
            "grid_gap": null,
            "grid_row": null,
            "grid_template_areas": null,
            "grid_template_columns": null,
            "grid_template_rows": null,
            "height": null,
            "justify_content": null,
            "justify_items": null,
            "left": null,
            "margin": null,
            "max_height": null,
            "max_width": null,
            "min_height": null,
            "min_width": null,
            "object_fit": null,
            "object_position": null,
            "order": null,
            "overflow": null,
            "overflow_x": null,
            "overflow_y": null,
            "padding": null,
            "right": null,
            "top": null,
            "visibility": null,
            "width": null
          }
        },
        "9d38a67eb93d4aeba53afde4e0c1d03a": {
          "model_module": "@jupyter-widgets/controls",
          "model_name": "ProgressStyleModel",
          "model_module_version": "1.5.0",
          "state": {
            "_model_module": "@jupyter-widgets/controls",
            "_model_module_version": "1.5.0",
            "_model_name": "ProgressStyleModel",
            "_view_count": null,
            "_view_module": "@jupyter-widgets/base",
            "_view_module_version": "1.2.0",
            "_view_name": "StyleView",
            "bar_color": null,
            "description_width": ""
          }
        },
        "4922889ebcad4a779ab2c88eec15d9f0": {
          "model_module": "@jupyter-widgets/base",
          "model_name": "LayoutModel",
          "model_module_version": "1.2.0",
          "state": {
            "_model_module": "@jupyter-widgets/base",
            "_model_module_version": "1.2.0",
            "_model_name": "LayoutModel",
            "_view_count": null,
            "_view_module": "@jupyter-widgets/base",
            "_view_module_version": "1.2.0",
            "_view_name": "LayoutView",
            "align_content": null,
            "align_items": null,
            "align_self": null,
            "border": null,
            "bottom": null,
            "display": null,
            "flex": null,
            "flex_flow": null,
            "grid_area": null,
            "grid_auto_columns": null,
            "grid_auto_flow": null,
            "grid_auto_rows": null,
            "grid_column": null,
            "grid_gap": null,
            "grid_row": null,
            "grid_template_areas": null,
            "grid_template_columns": null,
            "grid_template_rows": null,
            "height": null,
            "justify_content": null,
            "justify_items": null,
            "left": null,
            "margin": null,
            "max_height": null,
            "max_width": null,
            "min_height": null,
            "min_width": null,
            "object_fit": null,
            "object_position": null,
            "order": null,
            "overflow": null,
            "overflow_x": null,
            "overflow_y": null,
            "padding": null,
            "right": null,
            "top": null,
            "visibility": null,
            "width": null
          }
        },
        "441427b856a04cdcaa75ef82e11315f5": {
          "model_module": "@jupyter-widgets/controls",
          "model_name": "DescriptionStyleModel",
          "model_module_version": "1.5.0",
          "state": {
            "_model_module": "@jupyter-widgets/controls",
            "_model_module_version": "1.5.0",
            "_model_name": "DescriptionStyleModel",
            "_view_count": null,
            "_view_module": "@jupyter-widgets/base",
            "_view_module_version": "1.2.0",
            "_view_name": "StyleView",
            "description_width": ""
          }
        },
        "96dfaac4ba0e432e8199c4dc4e183ff9": {
          "model_module": "@jupyter-widgets/controls",
          "model_name": "HBoxModel",
          "model_module_version": "1.5.0",
          "state": {
            "_dom_classes": [],
            "_model_module": "@jupyter-widgets/controls",
            "_model_module_version": "1.5.0",
            "_model_name": "HBoxModel",
            "_view_count": null,
            "_view_module": "@jupyter-widgets/controls",
            "_view_module_version": "1.5.0",
            "_view_name": "HBoxView",
            "box_style": "",
            "children": [
              "IPY_MODEL_8842cad63f324f3f8beed8f4beedae43",
              "IPY_MODEL_d7c32b28c79f47db9f73b93c5ac800a2",
              "IPY_MODEL_6b69373c2d3343b68207d4d1b9e8d42a"
            ],
            "layout": "IPY_MODEL_d483fa510b3545dc8cc20bebe3c0be44"
          }
        },
        "8842cad63f324f3f8beed8f4beedae43": {
          "model_module": "@jupyter-widgets/controls",
          "model_name": "HTMLModel",
          "model_module_version": "1.5.0",
          "state": {
            "_dom_classes": [],
            "_model_module": "@jupyter-widgets/controls",
            "_model_module_version": "1.5.0",
            "_model_name": "HTMLModel",
            "_view_count": null,
            "_view_module": "@jupyter-widgets/controls",
            "_view_module_version": "1.5.0",
            "_view_name": "HTMLView",
            "description": "",
            "description_tooltip": null,
            "layout": "IPY_MODEL_a23dcf33f05e4c8399efa299ea480b91",
            "placeholder": "​",
            "style": "IPY_MODEL_f319def02ad2494b9f5e2a53837246f6",
            "value": "generation_config.json: 100%"
          }
        },
        "d7c32b28c79f47db9f73b93c5ac800a2": {
          "model_module": "@jupyter-widgets/controls",
          "model_name": "FloatProgressModel",
          "model_module_version": "1.5.0",
          "state": {
            "_dom_classes": [],
            "_model_module": "@jupyter-widgets/controls",
            "_model_module_version": "1.5.0",
            "_model_name": "FloatProgressModel",
            "_view_count": null,
            "_view_module": "@jupyter-widgets/controls",
            "_view_module_version": "1.5.0",
            "_view_name": "ProgressView",
            "bar_style": "success",
            "description": "",
            "description_tooltip": null,
            "layout": "IPY_MODEL_9a8e1f35825f45d0b8106160aa622ed6",
            "max": 124,
            "min": 0,
            "orientation": "horizontal",
            "style": "IPY_MODEL_610291f9c4374a94b7730371b00602ee",
            "value": 124
          }
        },
        "6b69373c2d3343b68207d4d1b9e8d42a": {
          "model_module": "@jupyter-widgets/controls",
          "model_name": "HTMLModel",
          "model_module_version": "1.5.0",
          "state": {
            "_dom_classes": [],
            "_model_module": "@jupyter-widgets/controls",
            "_model_module_version": "1.5.0",
            "_model_name": "HTMLModel",
            "_view_count": null,
            "_view_module": "@jupyter-widgets/controls",
            "_view_module_version": "1.5.0",
            "_view_name": "HTMLView",
            "description": "",
            "description_tooltip": null,
            "layout": "IPY_MODEL_a4dce16f9b314278bd4b858a0cafdf89",
            "placeholder": "​",
            "style": "IPY_MODEL_40b341ae3c0f40cba83bf5f973bfc910",
            "value": " 124/124 [00:00&lt;00:00, 11.2kB/s]"
          }
        },
        "d483fa510b3545dc8cc20bebe3c0be44": {
          "model_module": "@jupyter-widgets/base",
          "model_name": "LayoutModel",
          "model_module_version": "1.2.0",
          "state": {
            "_model_module": "@jupyter-widgets/base",
            "_model_module_version": "1.2.0",
            "_model_name": "LayoutModel",
            "_view_count": null,
            "_view_module": "@jupyter-widgets/base",
            "_view_module_version": "1.2.0",
            "_view_name": "LayoutView",
            "align_content": null,
            "align_items": null,
            "align_self": null,
            "border": null,
            "bottom": null,
            "display": null,
            "flex": null,
            "flex_flow": null,
            "grid_area": null,
            "grid_auto_columns": null,
            "grid_auto_flow": null,
            "grid_auto_rows": null,
            "grid_column": null,
            "grid_gap": null,
            "grid_row": null,
            "grid_template_areas": null,
            "grid_template_columns": null,
            "grid_template_rows": null,
            "height": null,
            "justify_content": null,
            "justify_items": null,
            "left": null,
            "margin": null,
            "max_height": null,
            "max_width": null,
            "min_height": null,
            "min_width": null,
            "object_fit": null,
            "object_position": null,
            "order": null,
            "overflow": null,
            "overflow_x": null,
            "overflow_y": null,
            "padding": null,
            "right": null,
            "top": null,
            "visibility": null,
            "width": null
          }
        },
        "a23dcf33f05e4c8399efa299ea480b91": {
          "model_module": "@jupyter-widgets/base",
          "model_name": "LayoutModel",
          "model_module_version": "1.2.0",
          "state": {
            "_model_module": "@jupyter-widgets/base",
            "_model_module_version": "1.2.0",
            "_model_name": "LayoutModel",
            "_view_count": null,
            "_view_module": "@jupyter-widgets/base",
            "_view_module_version": "1.2.0",
            "_view_name": "LayoutView",
            "align_content": null,
            "align_items": null,
            "align_self": null,
            "border": null,
            "bottom": null,
            "display": null,
            "flex": null,
            "flex_flow": null,
            "grid_area": null,
            "grid_auto_columns": null,
            "grid_auto_flow": null,
            "grid_auto_rows": null,
            "grid_column": null,
            "grid_gap": null,
            "grid_row": null,
            "grid_template_areas": null,
            "grid_template_columns": null,
            "grid_template_rows": null,
            "height": null,
            "justify_content": null,
            "justify_items": null,
            "left": null,
            "margin": null,
            "max_height": null,
            "max_width": null,
            "min_height": null,
            "min_width": null,
            "object_fit": null,
            "object_position": null,
            "order": null,
            "overflow": null,
            "overflow_x": null,
            "overflow_y": null,
            "padding": null,
            "right": null,
            "top": null,
            "visibility": null,
            "width": null
          }
        },
        "f319def02ad2494b9f5e2a53837246f6": {
          "model_module": "@jupyter-widgets/controls",
          "model_name": "DescriptionStyleModel",
          "model_module_version": "1.5.0",
          "state": {
            "_model_module": "@jupyter-widgets/controls",
            "_model_module_version": "1.5.0",
            "_model_name": "DescriptionStyleModel",
            "_view_count": null,
            "_view_module": "@jupyter-widgets/base",
            "_view_module_version": "1.2.0",
            "_view_name": "StyleView",
            "description_width": ""
          }
        },
        "9a8e1f35825f45d0b8106160aa622ed6": {
          "model_module": "@jupyter-widgets/base",
          "model_name": "LayoutModel",
          "model_module_version": "1.2.0",
          "state": {
            "_model_module": "@jupyter-widgets/base",
            "_model_module_version": "1.2.0",
            "_model_name": "LayoutModel",
            "_view_count": null,
            "_view_module": "@jupyter-widgets/base",
            "_view_module_version": "1.2.0",
            "_view_name": "LayoutView",
            "align_content": null,
            "align_items": null,
            "align_self": null,
            "border": null,
            "bottom": null,
            "display": null,
            "flex": null,
            "flex_flow": null,
            "grid_area": null,
            "grid_auto_columns": null,
            "grid_auto_flow": null,
            "grid_auto_rows": null,
            "grid_column": null,
            "grid_gap": null,
            "grid_row": null,
            "grid_template_areas": null,
            "grid_template_columns": null,
            "grid_template_rows": null,
            "height": null,
            "justify_content": null,
            "justify_items": null,
            "left": null,
            "margin": null,
            "max_height": null,
            "max_width": null,
            "min_height": null,
            "min_width": null,
            "object_fit": null,
            "object_position": null,
            "order": null,
            "overflow": null,
            "overflow_x": null,
            "overflow_y": null,
            "padding": null,
            "right": null,
            "top": null,
            "visibility": null,
            "width": null
          }
        },
        "610291f9c4374a94b7730371b00602ee": {
          "model_module": "@jupyter-widgets/controls",
          "model_name": "ProgressStyleModel",
          "model_module_version": "1.5.0",
          "state": {
            "_model_module": "@jupyter-widgets/controls",
            "_model_module_version": "1.5.0",
            "_model_name": "ProgressStyleModel",
            "_view_count": null,
            "_view_module": "@jupyter-widgets/base",
            "_view_module_version": "1.2.0",
            "_view_name": "StyleView",
            "bar_color": null,
            "description_width": ""
          }
        },
        "a4dce16f9b314278bd4b858a0cafdf89": {
          "model_module": "@jupyter-widgets/base",
          "model_name": "LayoutModel",
          "model_module_version": "1.2.0",
          "state": {
            "_model_module": "@jupyter-widgets/base",
            "_model_module_version": "1.2.0",
            "_model_name": "LayoutModel",
            "_view_count": null,
            "_view_module": "@jupyter-widgets/base",
            "_view_module_version": "1.2.0",
            "_view_name": "LayoutView",
            "align_content": null,
            "align_items": null,
            "align_self": null,
            "border": null,
            "bottom": null,
            "display": null,
            "flex": null,
            "flex_flow": null,
            "grid_area": null,
            "grid_auto_columns": null,
            "grid_auto_flow": null,
            "grid_auto_rows": null,
            "grid_column": null,
            "grid_gap": null,
            "grid_row": null,
            "grid_template_areas": null,
            "grid_template_columns": null,
            "grid_template_rows": null,
            "height": null,
            "justify_content": null,
            "justify_items": null,
            "left": null,
            "margin": null,
            "max_height": null,
            "max_width": null,
            "min_height": null,
            "min_width": null,
            "object_fit": null,
            "object_position": null,
            "order": null,
            "overflow": null,
            "overflow_x": null,
            "overflow_y": null,
            "padding": null,
            "right": null,
            "top": null,
            "visibility": null,
            "width": null
          }
        },
        "40b341ae3c0f40cba83bf5f973bfc910": {
          "model_module": "@jupyter-widgets/controls",
          "model_name": "DescriptionStyleModel",
          "model_module_version": "1.5.0",
          "state": {
            "_model_module": "@jupyter-widgets/controls",
            "_model_module_version": "1.5.0",
            "_model_name": "DescriptionStyleModel",
            "_view_count": null,
            "_view_module": "@jupyter-widgets/base",
            "_view_module_version": "1.2.0",
            "_view_name": "StyleView",
            "description_width": ""
          }
        }
      }
    }
  },
  "cells": [
    {
      "cell_type": "markdown",
      "metadata": {
        "id": "view-in-github",
        "colab_type": "text"
      },
      "source": [
        "<a href=\"https://colab.research.google.com/github/kavyajeetbora/nlp_rag/blob/master/end_to_end/03_RAG_evaluation.ipynb\" target=\"_parent\"><img src=\"https://colab.research.google.com/assets/colab-badge.svg\" alt=\"Open In Colab\"/></a>"
      ]
    },
    {
      "cell_type": "markdown",
      "source": [
        "`colab-xterm` allows you to open a terminal in a cell."
      ],
      "metadata": {
        "id": "A8lRBCL6iZOf"
      }
    },
    {
      "cell_type": "code",
      "source": [
        "!pip install -q -U transformers python-dotenv langchain langchain-openai langchain_community langchain_huggingface unstructured pdfminer randomname chromadb langchain_ollama accelerate bitsandbytes"
      ],
      "metadata": {
        "colab": {
          "base_uri": "https://localhost:8080/"
        },
        "id": "lzjzjFpuhPHa",
        "outputId": "9de73ecc-091a-454e-aae3-1e87085a7f95"
      },
      "execution_count": null,
      "outputs": [
        {
          "output_type": "stream",
          "name": "stdout",
          "text": [
            "\u001b[?25l   \u001b[90m━━━━━━━━━━━━━━━━━━━━━━━━━━━━━━━━━━━━━━━━\u001b[0m \u001b[32m0.0/54.3 kB\u001b[0m \u001b[31m?\u001b[0m eta \u001b[36m-:--:--\u001b[0m\r\u001b[2K   \u001b[90m━━━━━━━━━━━━━━━━━━━━━━━━━━━━━━━━━━━━━━━━\u001b[0m \u001b[32m54.3/54.3 kB\u001b[0m \u001b[31m3.6 MB/s\u001b[0m eta \u001b[36m0:00:00\u001b[0m\n",
            "\u001b[?25h\u001b[?25l   \u001b[90m━━━━━━━━━━━━━━━━━━━━━━━━━━━━━━━━━━━━━━━━\u001b[0m \u001b[32m0.0/1.2 MB\u001b[0m \u001b[31m?\u001b[0m eta \u001b[36m-:--:--\u001b[0m\r\u001b[2K   \u001b[91m━━━━━━━━━━━━━━━━━━━━━━━━━━━━━━━━━━━━━━━\u001b[0m\u001b[91m╸\u001b[0m \u001b[32m1.2/1.2 MB\u001b[0m \u001b[31m46.4 MB/s\u001b[0m eta \u001b[36m0:00:01\u001b[0m\r\u001b[2K   \u001b[90m━━━━━━━━━━━━━━━━━━━━━━━━━━━━━━━━━━━━━━━━\u001b[0m \u001b[32m1.2/1.2 MB\u001b[0m \u001b[31m27.6 MB/s\u001b[0m eta \u001b[36m0:00:00\u001b[0m\n",
            "\u001b[?25h"
          ]
        }
      ]
    },
    {
      "cell_type": "code",
      "source": [
        "import os\n",
        "from glob import glob\n",
        "import shutil\n",
        "import randomname\n",
        "from dotenv import load_dotenv\n",
        "from transformers import AutoModelForCausalLM, AutoTokenizer, pipeline, BitsAndBytesConfig\n",
        "from langchain_text_splitters import RecursiveCharacterTextSplitter\n",
        "from langchain_huggingface import HuggingFacePipeline, HuggingFaceEmbeddings, ChatHuggingFace\n",
        "from langchain_community.vectorstores import Chroma\n",
        "from langchain_core.prompts import PromptTemplate, ChatPromptTemplate\n",
        "from langchain.retrievers import MultiQueryRetriever\n",
        "from langchain_core.runnables import RunnablePassthrough\n",
        "from langchain_core.output_parsers import StrOutputParser\n",
        "from langchain.chains.qa_with_sources.retrieval import RetrievalQAWithSourcesChain\n",
        "from langchain_ollama import ChatOllama\n",
        "from langchain_openai import ChatOpenAI, OpenAIEmbeddings"
      ],
      "metadata": {
        "id": "ZTr_UJotmhFY"
      },
      "execution_count": null,
      "outputs": []
    },
    {
      "cell_type": "markdown",
      "source": [
        "Load env variables:"
      ],
      "metadata": {
        "id": "wAHoHg5tohkm"
      }
    },
    {
      "cell_type": "code",
      "source": [
        "if os.path.exists(\".env\"):\n",
        "    os.remove(\".env\")\n",
        "\n",
        "from google.colab import files\n",
        "uploaded = files.upload()\n",
        "if uploaded:\n",
        "    if load_dotenv(\".env\"):\n",
        "        print(\"Uploaded and Loaded Sucessfully\")\n",
        "\n",
        "from huggingface_hub import login\n",
        "login(token=os.environ['HF_TOKEN'])"
      ],
      "metadata": {
        "colab": {
          "base_uri": "https://localhost:8080/",
          "height": 125
        },
        "id": "S_XhEmQAojQU",
        "outputId": "0b305a10-671b-4cd0-be2d-ce3c162917af"
      },
      "execution_count": null,
      "outputs": [
        {
          "output_type": "display_data",
          "data": {
            "text/plain": [
              "<IPython.core.display.HTML object>"
            ],
            "text/html": [
              "\n",
              "     <input type=\"file\" id=\"files-f50e77eb-4710-45f7-a58d-eeb0d8a8ab8c\" name=\"files[]\" multiple disabled\n",
              "        style=\"border:none\" />\n",
              "     <output id=\"result-f50e77eb-4710-45f7-a58d-eeb0d8a8ab8c\">\n",
              "      Upload widget is only available when the cell has been executed in the\n",
              "      current browser session. Please rerun this cell to enable.\n",
              "      </output>\n",
              "      <script>// Copyright 2017 Google LLC\n",
              "//\n",
              "// Licensed under the Apache License, Version 2.0 (the \"License\");\n",
              "// you may not use this file except in compliance with the License.\n",
              "// You may obtain a copy of the License at\n",
              "//\n",
              "//      http://www.apache.org/licenses/LICENSE-2.0\n",
              "//\n",
              "// Unless required by applicable law or agreed to in writing, software\n",
              "// distributed under the License is distributed on an \"AS IS\" BASIS,\n",
              "// WITHOUT WARRANTIES OR CONDITIONS OF ANY KIND, either express or implied.\n",
              "// See the License for the specific language governing permissions and\n",
              "// limitations under the License.\n",
              "\n",
              "/**\n",
              " * @fileoverview Helpers for google.colab Python module.\n",
              " */\n",
              "(function(scope) {\n",
              "function span(text, styleAttributes = {}) {\n",
              "  const element = document.createElement('span');\n",
              "  element.textContent = text;\n",
              "  for (const key of Object.keys(styleAttributes)) {\n",
              "    element.style[key] = styleAttributes[key];\n",
              "  }\n",
              "  return element;\n",
              "}\n",
              "\n",
              "// Max number of bytes which will be uploaded at a time.\n",
              "const MAX_PAYLOAD_SIZE = 100 * 1024;\n",
              "\n",
              "function _uploadFiles(inputId, outputId) {\n",
              "  const steps = uploadFilesStep(inputId, outputId);\n",
              "  const outputElement = document.getElementById(outputId);\n",
              "  // Cache steps on the outputElement to make it available for the next call\n",
              "  // to uploadFilesContinue from Python.\n",
              "  outputElement.steps = steps;\n",
              "\n",
              "  return _uploadFilesContinue(outputId);\n",
              "}\n",
              "\n",
              "// This is roughly an async generator (not supported in the browser yet),\n",
              "// where there are multiple asynchronous steps and the Python side is going\n",
              "// to poll for completion of each step.\n",
              "// This uses a Promise to block the python side on completion of each step,\n",
              "// then passes the result of the previous step as the input to the next step.\n",
              "function _uploadFilesContinue(outputId) {\n",
              "  const outputElement = document.getElementById(outputId);\n",
              "  const steps = outputElement.steps;\n",
              "\n",
              "  const next = steps.next(outputElement.lastPromiseValue);\n",
              "  return Promise.resolve(next.value.promise).then((value) => {\n",
              "    // Cache the last promise value to make it available to the next\n",
              "    // step of the generator.\n",
              "    outputElement.lastPromiseValue = value;\n",
              "    return next.value.response;\n",
              "  });\n",
              "}\n",
              "\n",
              "/**\n",
              " * Generator function which is called between each async step of the upload\n",
              " * process.\n",
              " * @param {string} inputId Element ID of the input file picker element.\n",
              " * @param {string} outputId Element ID of the output display.\n",
              " * @return {!Iterable<!Object>} Iterable of next steps.\n",
              " */\n",
              "function* uploadFilesStep(inputId, outputId) {\n",
              "  const inputElement = document.getElementById(inputId);\n",
              "  inputElement.disabled = false;\n",
              "\n",
              "  const outputElement = document.getElementById(outputId);\n",
              "  outputElement.innerHTML = '';\n",
              "\n",
              "  const pickedPromise = new Promise((resolve) => {\n",
              "    inputElement.addEventListener('change', (e) => {\n",
              "      resolve(e.target.files);\n",
              "    });\n",
              "  });\n",
              "\n",
              "  const cancel = document.createElement('button');\n",
              "  inputElement.parentElement.appendChild(cancel);\n",
              "  cancel.textContent = 'Cancel upload';\n",
              "  const cancelPromise = new Promise((resolve) => {\n",
              "    cancel.onclick = () => {\n",
              "      resolve(null);\n",
              "    };\n",
              "  });\n",
              "\n",
              "  // Wait for the user to pick the files.\n",
              "  const files = yield {\n",
              "    promise: Promise.race([pickedPromise, cancelPromise]),\n",
              "    response: {\n",
              "      action: 'starting',\n",
              "    }\n",
              "  };\n",
              "\n",
              "  cancel.remove();\n",
              "\n",
              "  // Disable the input element since further picks are not allowed.\n",
              "  inputElement.disabled = true;\n",
              "\n",
              "  if (!files) {\n",
              "    return {\n",
              "      response: {\n",
              "        action: 'complete',\n",
              "      }\n",
              "    };\n",
              "  }\n",
              "\n",
              "  for (const file of files) {\n",
              "    const li = document.createElement('li');\n",
              "    li.append(span(file.name, {fontWeight: 'bold'}));\n",
              "    li.append(span(\n",
              "        `(${file.type || 'n/a'}) - ${file.size} bytes, ` +\n",
              "        `last modified: ${\n",
              "            file.lastModifiedDate ? file.lastModifiedDate.toLocaleDateString() :\n",
              "                                    'n/a'} - `));\n",
              "    const percent = span('0% done');\n",
              "    li.appendChild(percent);\n",
              "\n",
              "    outputElement.appendChild(li);\n",
              "\n",
              "    const fileDataPromise = new Promise((resolve) => {\n",
              "      const reader = new FileReader();\n",
              "      reader.onload = (e) => {\n",
              "        resolve(e.target.result);\n",
              "      };\n",
              "      reader.readAsArrayBuffer(file);\n",
              "    });\n",
              "    // Wait for the data to be ready.\n",
              "    let fileData = yield {\n",
              "      promise: fileDataPromise,\n",
              "      response: {\n",
              "        action: 'continue',\n",
              "      }\n",
              "    };\n",
              "\n",
              "    // Use a chunked sending to avoid message size limits. See b/62115660.\n",
              "    let position = 0;\n",
              "    do {\n",
              "      const length = Math.min(fileData.byteLength - position, MAX_PAYLOAD_SIZE);\n",
              "      const chunk = new Uint8Array(fileData, position, length);\n",
              "      position += length;\n",
              "\n",
              "      const base64 = btoa(String.fromCharCode.apply(null, chunk));\n",
              "      yield {\n",
              "        response: {\n",
              "          action: 'append',\n",
              "          file: file.name,\n",
              "          data: base64,\n",
              "        },\n",
              "      };\n",
              "\n",
              "      let percentDone = fileData.byteLength === 0 ?\n",
              "          100 :\n",
              "          Math.round((position / fileData.byteLength) * 100);\n",
              "      percent.textContent = `${percentDone}% done`;\n",
              "\n",
              "    } while (position < fileData.byteLength);\n",
              "  }\n",
              "\n",
              "  // All done.\n",
              "  yield {\n",
              "    response: {\n",
              "      action: 'complete',\n",
              "    }\n",
              "  };\n",
              "}\n",
              "\n",
              "scope.google = scope.google || {};\n",
              "scope.google.colab = scope.google.colab || {};\n",
              "scope.google.colab._files = {\n",
              "  _uploadFiles,\n",
              "  _uploadFilesContinue,\n",
              "};\n",
              "})(self);\n",
              "</script> "
            ]
          },
          "metadata": {}
        },
        {
          "output_type": "stream",
          "name": "stderr",
          "text": [
            "Note: Environment variable`HF_TOKEN` is set and is the current active token independently from the token you've just configured.\n",
            "WARNING:huggingface_hub._login:Note: Environment variable`HF_TOKEN` is set and is the current active token independently from the token you've just configured.\n"
          ]
        },
        {
          "output_type": "stream",
          "name": "stdout",
          "text": [
            "Saving .env to .env\n",
            "Uploaded and Loaded Sucessfully\n"
          ]
        }
      ]
    },
    {
      "cell_type": "markdown",
      "source": [
        "## Downloading the LLM model from HuggingFace"
      ],
      "metadata": {
        "id": "iGSWsbtOidpO"
      }
    },
    {
      "cell_type": "code",
      "source": [
        "model_id = \"TinyLlama/TinyLlama-1.1B-Chat-v1.0\"\n",
        "tokenizer = AutoTokenizer.from_pretrained(model_id)\n",
        "\n",
        "config = BitsAndBytesConfig(\n",
        "    load_in_8bit = True\n",
        ")\n",
        "\n",
        "model = AutoModelForCausalLM.from_pretrained(\n",
        "    pretrained_model_name_or_path = model_id,\n",
        "    low_cpu_mem_usage=True\n",
        "    #attn_implementation=\"flash_attention_2\", # if you have an ampere GPU\n",
        ")\n",
        "pipe = pipeline(\"text-generation\", model=model, tokenizer=tokenizer)\n",
        "\n",
        "model_size = model.get_memory_footprint()/1e9\n",
        "print(f\"Model size of {model_id} : {model_size:.2f} GB\")\n",
        "\n",
        "num_params = model.num_parameters()/1e9\n",
        "print(f\"Number of parameters: {num_params:.2} Billon\")"
      ],
      "metadata": {
        "colab": {
          "base_uri": "https://localhost:8080/",
          "height": 133,
          "referenced_widgets": [
            "8c9d80243b6e4e4686e107e15a13335d",
            "b5e0fcbf54704e998e01759f006f01e8",
            "7d1dcd8ab59041f893aa2b0e9561722c",
            "82a67276857c4a36af4c3ddd3ad77a0f",
            "9b4b09ace5604bb5aa86d0605d4b3ce7",
            "0b6024ee0a924561b2cd93d1f34f8ee5",
            "dfe0b1aea1d5498e9a353919ea548669",
            "3f2b1d6950ad4f8a8c6e1a8dd82cf735",
            "9d38a67eb93d4aeba53afde4e0c1d03a",
            "4922889ebcad4a779ab2c88eec15d9f0",
            "441427b856a04cdcaa75ef82e11315f5",
            "96dfaac4ba0e432e8199c4dc4e183ff9",
            "8842cad63f324f3f8beed8f4beedae43",
            "d7c32b28c79f47db9f73b93c5ac800a2",
            "6b69373c2d3343b68207d4d1b9e8d42a",
            "d483fa510b3545dc8cc20bebe3c0be44",
            "a23dcf33f05e4c8399efa299ea480b91",
            "f319def02ad2494b9f5e2a53837246f6",
            "9a8e1f35825f45d0b8106160aa622ed6",
            "610291f9c4374a94b7730371b00602ee",
            "a4dce16f9b314278bd4b858a0cafdf89",
            "40b341ae3c0f40cba83bf5f973bfc910"
          ]
        },
        "id": "GSHfmmg7hhoI",
        "outputId": "3aeaa9eb-d7a3-4ce2-de99-1b11d6c9213f"
      },
      "execution_count": null,
      "outputs": [
        {
          "output_type": "display_data",
          "data": {
            "text/plain": [
              "model.safetensors:   0%|          | 0.00/2.20G [00:00<?, ?B/s]"
            ],
            "application/vnd.jupyter.widget-view+json": {
              "version_major": 2,
              "version_minor": 0,
              "model_id": "8c9d80243b6e4e4686e107e15a13335d"
            }
          },
          "metadata": {}
        },
        {
          "output_type": "display_data",
          "data": {
            "text/plain": [
              "generation_config.json:   0%|          | 0.00/124 [00:00<?, ?B/s]"
            ],
            "application/vnd.jupyter.widget-view+json": {
              "version_major": 2,
              "version_minor": 0,
              "model_id": "96dfaac4ba0e432e8199c4dc4e183ff9"
            }
          },
          "metadata": {}
        },
        {
          "output_type": "stream",
          "name": "stderr",
          "text": [
            "Device set to use cuda:0\n"
          ]
        },
        {
          "output_type": "stream",
          "name": "stdout",
          "text": [
            "Model size of TinyLlama/TinyLlama-1.1B-Chat-v1.0 : 4.40 GB\n",
            "Number of parameters: 1.1 Billon\n"
          ]
        }
      ]
    },
    {
      "cell_type": "markdown",
      "source": [
        "# Running Small Language model locally"
      ],
      "metadata": {
        "id": "AR7KMGuum2hv"
      }
    },
    {
      "cell_type": "markdown",
      "source": [
        "first create the langchain llm pipeline:"
      ],
      "metadata": {
        "id": "bN-MNN-pxDuc"
      }
    },
    {
      "cell_type": "code",
      "source": [
        "llm = HuggingFacePipeline(pipeline = pipe)"
      ],
      "metadata": {
        "id": "L40QXfw7xDVU"
      },
      "execution_count": null,
      "outputs": []
    },
    {
      "cell_type": "code",
      "source": [
        "query = \"Explain the concept of quantum entanglement in simple terms.\"\n",
        "expected_output =  \"Quantum entanglement is a phenomenon where two particles become interconnected, so the state of one instantly influences the state of the other, no matter how far apart they are.\"\n",
        "\n",
        "simple_prompt = '''\n",
        "You are an AI chatbot. Answer the following query:\n",
        "\n",
        "{question}\n",
        "'''\n",
        "\n",
        "simple_prompt_template = PromptTemplate.from_template(simple_prompt)\n",
        "\n",
        "simple_chain = simple_prompt_template | llm | StrOutputParser()\n",
        "\n",
        "simple_chain.invoke({\"question\": query}, return_only_outputs = True)"
      ],
      "metadata": {
        "colab": {
          "base_uri": "https://localhost:8080/",
          "height": 174
        },
        "id": "tENgyd4hwKaV",
        "outputId": "c88bc370-9179-4023-c03f-7f2a709ccd76"
      },
      "execution_count": null,
      "outputs": [
        {
          "output_type": "execute_result",
          "data": {
            "text/plain": [
              "\"\\nYou are an AI chatbot. Answer the following query:\\n\\nExplain the concept of quantum entanglement in simple terms.\\n\\nA: Quantum entanglement is a phenomenon where two particles, such as photons or electrons, become connected in such a way that their states are correlated even when separated by great distances. This means that the state of one particle can be predicted with certainty from the state of the other particle, even if they are not directly connected.\\n\\nIn the context of AI chatbots, this means that the state of the AI's internal state, such as its memory or processing capabilities, can be predicted with certainty from the state of the user's input, even if the AI is not directly connected to the user. This is because the AI's internal state is correlated with the user's input, and the state of the user's input can be predicted with certainty from the state of the AI's internal state.\\n\\nFor example, if the AI is trained on a large dataset of user input and internal state, it can be predicted with certainty which responses are most likely to be generated based on the user's input. This prediction can then be used to generate more accurate responses, improving the AI's ability to understand and respond to user input.\\n\\nOverall, quantum entanglement provides a powerful tool for AI chatbots, allowing them to learn and adapt to user input in real-time, improving their ability to understand and respond to user needs.\""
            ],
            "application/vnd.google.colaboratory.intrinsic+json": {
              "type": "string"
            }
          },
          "metadata": {},
          "execution_count": 17
        }
      ]
    },
    {
      "cell_type": "markdown",
      "source": [
        "## Let's build a local RAG System"
      ],
      "metadata": {
        "id": "1NgGLqo0mt5t"
      }
    },
    {
      "cell_type": "markdown",
      "source": [
        "### Ingest the data\n",
        "\n"
      ],
      "metadata": {
        "id": "sQGBSJXFyVRF"
      }
    },
    {
      "cell_type": "code",
      "source": [
        "!wget -q https://www.niti.gov.in/sites/default/files/2023-02/Annual-Report-2022-2023-English_1.pdf -O annual_report.pdf"
      ],
      "metadata": {
        "id": "FNw8I2Gpyr4Q"
      },
      "execution_count": null,
      "outputs": []
    },
    {
      "cell_type": "code",
      "source": [
        "from langchain_community.document_loaders import PyPDFLoader\n",
        "from langchain_community.document_loaders import OnlinePDFLoader"
      ],
      "metadata": {
        "id": "YnCakKKdbyon"
      },
      "execution_count": null,
      "outputs": []
    },
    {
      "cell_type": "code",
      "source": [
        "doc_path = \"annual_report.pdf\"\n",
        "\n",
        "if os.path.exists(doc_path):\n",
        "    loader = PyPDFLoader(doc_path)\n",
        "    data = loader.load()\n",
        "    print(\"PDF is loaded\")\n",
        "else:\n",
        "    print(\"PDF file not found\")"
      ],
      "metadata": {
        "colab": {
          "base_uri": "https://localhost:8080/"
        },
        "id": "y0BSYO2vy2UU",
        "outputId": "4e6b4f0f-0b50-4379-db67-5dc3757dc01b"
      },
      "execution_count": null,
      "outputs": [
        {
          "output_type": "stream",
          "name": "stdout",
          "text": [
            "PDF is loaded\n"
          ]
        }
      ]
    },
    {
      "cell_type": "code",
      "source": [
        "data[10]"
      ],
      "metadata": {
        "colab": {
          "base_uri": "https://localhost:8080/"
        },
        "id": "1thzBkqdznW9",
        "outputId": "5be273df-875e-4960-86e4-682def7834c0"
      },
      "execution_count": null,
      "outputs": [
        {
          "output_type": "execute_result",
          "data": {
            "text/plain": [
              "Document(metadata={'source': 'annual_report.pdf', 'page': 10, 'page_label': '11'}, page_content='MoH&FW Ministry of Health and Family Welfare\\nMoHUA Ministry of Housing and Urban Affairs\\nMoSPI Ministry of Statistics and Programme Implementation\\nNAS National Achievement Survey\\nNDC Nationally Determined Contributions\\nNEP National Education Policy\\nNER North-Eastern Region\\nNFHS National Family Health Survey\\nNILERD National Institute of Labour Economics Research and Development\\nNITI National Institution for Transforming India\\nNMP National Monetisation Pipeline\\nNOTP National Organ Transplant Programme\\nOOMF Output–Outcome Monitoring Framework\\nOoSC Out-of-School Children\\nPLI Production Linked Incentive\\nPMJAY Pradhan Mantri Jan Arogya Yojana\\nPSHICMI Policy and Strategy for Health Insurance Coverage of India\\nSATH-E Sustainable Action for Transforming Human Capital-Education\\nSC-NEC Sub-Committee of National Executive Committee\\nSDG Sustainable Development Goals\\nSECI State Energy & Climate Index\\nSEQI School Education Quality Index\\nSETU State Institute of Empowering and Transforming Uttarakhand\\nSIT State Institution for Transformation\\nSOP Standard operating procedures\\nSTC State Transformation Commission\\nSoI Statement of Intent\\nU-DISE Unified District Information System for Education Plus\\nULB Urban Local Body\\nUNFCCC United Nations Framework Convention on Climate Change\\nWHO World Health Organisation\\nLIST OF ABBREVIATIONS \\nix\\nAnnual Report 2022–23\\n')"
            ]
          },
          "metadata": {},
          "execution_count": 21
        }
      ]
    },
    {
      "cell_type": "markdown",
      "source": [
        "### Chunking the information"
      ],
      "metadata": {
        "id": "3yCQGlXxztEI"
      }
    },
    {
      "cell_type": "code",
      "source": [
        "## Split the text into chunks\n",
        "text_splitter = RecursiveCharacterTextSplitter(\n",
        "    chunk_size=500,\n",
        "    chunk_overlap=100\n",
        ")\n",
        "\n",
        "chunks = text_splitter.split_documents(data)\n",
        "print(f\"The documents has been splitted into {len(chunks)} chunks\")"
      ],
      "metadata": {
        "colab": {
          "base_uri": "https://localhost:8080/"
        },
        "id": "rzlddlxe1aX6",
        "outputId": "d915cc4d-a11b-44b8-b4df-062084c1cc58"
      },
      "execution_count": null,
      "outputs": [
        {
          "output_type": "stream",
          "name": "stdout",
          "text": [
            "The documents has been splitted into 820 chunks\n"
          ]
        }
      ]
    },
    {
      "cell_type": "code",
      "source": [
        "print(chunks[120].page_content)"
      ],
      "metadata": {
        "colab": {
          "base_uri": "https://localhost:8080/"
        },
        "id": "Tevr7nA0Rpj5",
        "outputId": "4beb5367-9330-4c8d-ce2b-92b7c3ed30b9"
      },
      "execution_count": null,
      "outputs": [
        {
          "output_type": "stream",
          "name": "stdout",
          "text": [
            "such review meetings have been conducted during 2020-21 and 2021-22 respectively. As of 18 January \n",
            "2023, around 30 meetings had been completed for the fiscal year 2022-23.\n",
            "Further, to improve the quality of OOMF a continuous capacity building exercise and systematic review \n",
            "of the framework and indicators of all CS/CSS schemes is undertaken throughout the year. It has \n",
            "also been DMEO’s constant endeavour to improve the capacity of officials working at different level\n"
          ]
        }
      ]
    },
    {
      "cell_type": "code",
      "source": [
        "embeddings = HuggingFaceEmbeddings(\n",
        "    model_name=\"sentence-transformers/all-MiniLM-L6-v2\",\n",
        "    model_kwargs={'device': 'cuda'},\n",
        ")"
      ],
      "metadata": {
        "id": "byo5P7HRzv0G"
      },
      "execution_count": null,
      "outputs": []
    },
    {
      "cell_type": "markdown",
      "source": [
        "create the vector database"
      ],
      "metadata": {
        "id": "i_TpD4pW17kk"
      }
    },
    {
      "cell_type": "code",
      "source": [
        "def create_vector_database(chunks: list,name=\"vector-db\"):\n",
        "\n",
        "    os.makedirs(\"db\", exist_ok=True)\n",
        "\n",
        "    random_suffix = randomname.get_name()\n",
        "\n",
        "    persistent_directory = f\"db/chroma-{name}-({random_suffix})\"\n",
        "\n",
        "    ## If already there, delete and create a new one\n",
        "\n",
        "    for folder in glob(f\"db/chroma-{name}*\"):\n",
        "        if os.path.exists(folder):\n",
        "            shutil.rmtree(folder)\n",
        "\n",
        "    os.mkdir(persistent_directory)\n",
        "\n",
        "    vector_db = Chroma.from_documents(\n",
        "        documents = chunks,\n",
        "        collection_name = name,\n",
        "        embedding = embeddings,\n",
        "        persist_directory = persistent_directory\n",
        "    )\n",
        "\n",
        "    return vector_db"
      ],
      "metadata": {
        "id": "MLJ4DeeS3BAv"
      },
      "execution_count": null,
      "outputs": []
    },
    {
      "cell_type": "code",
      "source": [
        "vector_db = create_vector_database(chunks=chunks, name=\"annual-report\")"
      ],
      "metadata": {
        "id": "wykfYDJJ2hbL"
      },
      "execution_count": null,
      "outputs": []
    },
    {
      "cell_type": "markdown",
      "source": [
        "## Retrieval"
      ],
      "metadata": {
        "id": "GaS_AOVamyWZ"
      }
    },
    {
      "cell_type": "code",
      "source": [
        "prompt_template = '''You are an AI language model assistant.\n",
        "Generate 1-5 sub-questions or alternate versions of the given user question to\n",
        "retrieve relevant documents from a vector database.\n",
        "Break down questions with multiple concepts into distinct sub-questions.\n",
        "Provide these alternative questions separated by newlines between XML tags.\n",
        "\n",
        "Original question: {question}\n",
        "'''\n",
        "\n",
        "prompt = PromptTemplate(template = prompt_template, input_variables=[\"question\"])"
      ],
      "metadata": {
        "id": "cxPnDKh_m7ZX"
      },
      "execution_count": null,
      "outputs": []
    },
    {
      "cell_type": "code",
      "execution_count": null,
      "metadata": {
        "id": "tG4k-kVKauNI",
        "colab": {
          "base_uri": "https://localhost:8080/"
        },
        "outputId": "6a9d2b6b-2e5a-4592-b297-9d6f41be888c"
      },
      "outputs": [
        {
          "output_type": "execute_result",
          "data": {
            "text/plain": [
              "[Document(metadata={'page': 118, 'page_label': '119', 'source': 'annual_report.pdf'}, page_content='Department of Consumer Affairs, Department of Food and Public Distribution System, Department of \\nPersonnel and Training, Department of Pensions and Pensioners’ Welfare, Department of Administrative \\nReforms and Public Grievances, Department of Legal Affairs and Department of Justice. The Research \\nDivision oversees the Research Scheme of NITI Aayog (or RSNA), which aims at supporting various \\nresearch studies.\\nCoverage and Beneficiary under National Food Security Act (NFSA), 2013'),\n",
              " Document(metadata={'page': 120, 'page_label': '121', 'source': 'annual_report.pdf'}, page_content='New Research Scheme of NITI Aayog (RSNA) Guidelines 2021\\nIn line with NITI’s mandate to position itself as a knowledge and innovation hub, new set of guidelines, \\nviz. ‘Research Scheme of NITI Aayog 2021’ has been launched. The revamped guidelines aim at broad-\\nbasing research work including Institutional & individual based research, besides aiding reputed \\ninstitutions for organizing seminars, workshops and conferences as well as providing non-financial'),\n",
              " Document(metadata={'page': 96, 'page_label': '97', 'source': 'annual_report.pdf'}, page_content='programs.\\n1. Strategic Programs\\na. ‘CSR for Innovation’: To promote and leverage CSR financing towards the innovation \\necosystem in India, AIM has partnered with Sattva consulting to bring–corporates, incubators, \\naccelerators, R&D institutions, and other key stakeholders in the ecosystem together–to \\nenable the CSR collaborations for nurturing innovation in the country.\\nb. AIM-iLeap: AIM-iLEAP (Innovative Leadership for Entrepreneurial Agility and Profitability) was'),\n",
              " Document(metadata={'page': 136, 'page_label': '137', 'source': 'annual_report.pdf'}, page_content='the states keeping in view socio-economic-geographical factors. The State Finance and Coordination \\nVertical acts as the nodal for all recommendations made from NITI Aayog to the Department of \\nExpenditure, Ministry of Finance relating to ‘Special Assistance’ to States under the demand ‘Transfers \\nto States’. A total amount of Rs. 1996 crore was released in FY21 to various States/UTs including Andhra'),\n",
              " Document(metadata={'page': 5, 'page_label': '6', 'source': 'annual_report.pdf'}, page_content='Development (NILERD) 67\\nSECTION-VI \\nATAL INNOVATION MISSION 73\\n \\x04 Introduction 73\\n \\x04 Atal Tinkering Labs 74\\n \\x04 Atal Incubation Centre 76\\n \\x04 Atal Community Innovation Centre 79\\n \\x04 Atal New India Challenge 84\\n \\x04 Aim Ecosystem Development Programme (AEDP) 85\\n \\x04 Vernacular Innovation Programme 87\\n \\x04 India at Vivatech 88\\nContents\\niv\\nAnnual Report 2022–23')]"
            ]
          },
          "metadata": {},
          "execution_count": 19
        }
      ],
      "source": [
        "# retriever = MultiQueryRetriever.from_llm(\n",
        "#     retriever = vector_db.as_retriever(),\n",
        "#     llm = llm,\n",
        "#     prompt = prompt\n",
        "# )\n",
        "\n",
        "# retriever = similarity_search_with_score\n",
        "\n",
        "retriever = vector_db.as_retriever(\n",
        "    search_type = \"similarity\",\n",
        "    search_kwargs = {\"k\": 5}\n",
        ")\n",
        "query = \"What is the full form of RSNA ?\"\n",
        "docs = retriever.invoke(query)\n",
        "docs"
      ]
    },
    {
      "cell_type": "markdown",
      "source": [
        "## Define the RAG chain"
      ],
      "metadata": {
        "id": "eygfJwsB9fYB"
      }
    },
    {
      "cell_type": "code",
      "source": [
        "chat_prompt_template = '''\n",
        "You are a helpful and friendly assistant.\n",
        "Answer the user's questions based solely on the context of the provided and not more than 3 sentences\n",
        "{context}\n",
        "If the information is not available in the context, respond with \"I don't know.\"\n",
        "\n",
        "User: {question}\n",
        "<<Assistant Reply>>:\n",
        "'''\n",
        "\n",
        "chat_prompt = ChatPromptTemplate.from_template(chat_prompt_template)\n",
        "\n",
        "rag_chain = (\n",
        "    {\"context\": vector_db.as_retriever(), \"question\": RunnablePassthrough()}\n",
        "    | chat_prompt\n",
        "    | llm\n",
        "    | StrOutputParser()\n",
        ")"
      ],
      "metadata": {
        "id": "_IiBUwCg8w6K"
      },
      "execution_count": null,
      "outputs": []
    },
    {
      "cell_type": "code",
      "source": [
        "def format_response(response):\n",
        "    delimiter = \"<<Assistant Reply>>:\"\n",
        "    cleaned_response = response.split(delimiter)[-1].strip()\n",
        "    return cleaned_response"
      ],
      "metadata": {
        "id": "35oD7zWs85Bl"
      },
      "execution_count": null,
      "outputs": []
    },
    {
      "cell_type": "code",
      "source": [
        "%%time\n",
        "\n",
        "query = 'What does ATL stands for and what is grant amount ?'\n",
        "response = rag_chain.invoke(query, return_only_outputs=True)"
      ],
      "metadata": {
        "colab": {
          "base_uri": "https://localhost:8080/"
        },
        "id": "Bd8e4tnE-Jyy",
        "outputId": "7bbf2188-7954-4d15-917a-99da96feb1fd"
      },
      "execution_count": null,
      "outputs": [
        {
          "output_type": "stream",
          "name": "stdout",
          "text": [
            "CPU times: user 38.6 ms, sys: 2.83 ms, total: 41.4 ms\n",
            "Wall time: 702 ms\n"
          ]
        }
      ]
    },
    {
      "cell_type": "code",
      "source": [
        "cleaned_response = format_response(response)\n",
        "print(cleaned_response)"
      ],
      "metadata": {
        "id": "HZNYFqey8XH_",
        "outputId": "19eca8f2-8e44-4e46-e609-2082d941934c",
        "colab": {
          "base_uri": "https://localhost:8080/"
        }
      },
      "execution_count": null,
      "outputs": [
        {
          "output_type": "stream",
          "name": "stdout",
          "text": [
            "ATL stands for Aadhaar Thought Lab, and the grant amount is up to 20 lakhs.\n"
          ]
        }
      ]
    },
    {
      "cell_type": "markdown",
      "source": [
        "## RAG with openai models"
      ],
      "metadata": {
        "id": "bkWJwgqC7qP0"
      }
    },
    {
      "cell_type": "code",
      "source": [
        "llm_model = ChatOpenAI(model='gpt-4o-mini')\n",
        "llm_model.invoke(\"Hi there\")"
      ],
      "metadata": {
        "id": "K4Wget1T6aSi",
        "outputId": "4a9acb80-5b9b-4ea6-fec1-f4fa70fbaf13",
        "colab": {
          "base_uri": "https://localhost:8080/"
        }
      },
      "execution_count": null,
      "outputs": [
        {
          "output_type": "execute_result",
          "data": {
            "text/plain": [
              "AIMessage(content='Hello! How can I assist you today?', additional_kwargs={'refusal': None}, response_metadata={'token_usage': {'completion_tokens': 10, 'prompt_tokens': 9, 'total_tokens': 19, 'completion_tokens_details': {'accepted_prediction_tokens': 0, 'audio_tokens': 0, 'reasoning_tokens': 0, 'rejected_prediction_tokens': 0}, 'prompt_tokens_details': {'audio_tokens': 0, 'cached_tokens': 0}}, 'model_name': 'gpt-4o-mini-2024-07-18', 'system_fingerprint': 'fp_72ed7ab54c', 'finish_reason': 'stop', 'logprobs': None}, id='run-f2f2321a-9d49-47cd-b10b-dcfb6154db45-0', usage_metadata={'input_tokens': 9, 'output_tokens': 10, 'total_tokens': 19, 'input_token_details': {'audio': 0, 'cache_read': 0}, 'output_token_details': {'audio': 0, 'reasoning': 0}})"
            ]
          },
          "metadata": {},
          "execution_count": 60
        }
      ]
    },
    {
      "cell_type": "code",
      "source": [
        "rag_chain = (\n",
        "    {\"context\": vector_db.as_retriever(), \"question\": RunnablePassthrough()}\n",
        "    | chat_prompt\n",
        "    | llm_model\n",
        "    | StrOutputParser()\n",
        ")\n",
        "\n",
        "response = rag_chain.invoke(query, return_only_outputs=True)\n",
        "print(response)"
      ],
      "metadata": {
        "id": "6BsRd6gl6DzD",
        "outputId": "b4404eb9-c24a-403d-8769-e62808db017c",
        "colab": {
          "base_uri": "https://localhost:8080/"
        }
      },
      "execution_count": null,
      "outputs": [
        {
          "output_type": "stream",
          "name": "stdout",
          "text": [
            "ATL stands for Atal Tinkering Labs. The grant-in-aid provided to schools selected for setting up the ATL is up to twenty lakhs.\n"
          ]
        }
      ]
    }
  ]
}