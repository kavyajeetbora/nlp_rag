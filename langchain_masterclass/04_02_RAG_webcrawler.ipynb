{
  "nbformat": 4,
  "nbformat_minor": 0,
  "metadata": {
    "colab": {
      "provenance": [],
      "authorship_tag": "ABX9TyOkvnHSe0aVnu3FygmxcFVV",
      "include_colab_link": true
    },
    "kernelspec": {
      "name": "python3",
      "display_name": "Python 3"
    },
    "language_info": {
      "name": "python"
    }
  },
  "cells": [
    {
      "cell_type": "markdown",
      "metadata": {
        "id": "view-in-github",
        "colab_type": "text"
      },
      "source": [
        "<a href=\"https://colab.research.google.com/github/kavyajeetbora/nlp_rag/blob/master/langchain_masterclass/04_02_RAG_webcrawler.ipynb\" target=\"_parent\"><img src=\"https://colab.research.google.com/assets/colab-badge.svg\" alt=\"Open In Colab\"/></a>"
      ]
    },
    {
      "cell_type": "code",
      "source": [
        "!pip install -q langchain langchain_community langchain-openai chromadb randomname langchain_huggingface firecrawl-py"
      ],
      "metadata": {
        "id": "bw_YolajQ0Hk"
      },
      "execution_count": 29,
      "outputs": []
    },
    {
      "cell_type": "code",
      "execution_count": 27,
      "metadata": {
        "id": "0HHT6XmrQtXa"
      },
      "outputs": [],
      "source": [
        "import os\n",
        "import shutil\n",
        "from langchain_openai import ChatOpenAI, OpenAIEmbeddings\n",
        "\n",
        "from dotenv import load_dotenv\n",
        "\n",
        "from langchain_community.document_loaders import WebBaseLoader, FireCrawlLoader\n",
        "from langchain_community.vectorstores import Chroma\n",
        "from langchain.text_splitter import RecursiveCharacterTextSplitter\n",
        "from langchain.prompts import ChatPromptTemplate\n",
        "from langchain.schema.output_parser  import StrOutputParser\n",
        "import randomname\n",
        "from glob import glob"
      ]
    },
    {
      "cell_type": "code",
      "source": [
        "if os.path.exists(\".env\"):\n",
        "    os.remove(\".env\")\n",
        "\n",
        "from google.colab import files\n",
        "uploaded = files.upload()\n",
        "if uploaded:\n",
        "    if load_dotenv(\".env\"):\n",
        "        print(\"Uploaded and Loaded Sucessfully\")"
      ],
      "metadata": {
        "colab": {
          "base_uri": "https://localhost:8080/",
          "height": 90
        },
        "id": "lWDP6c7hRWdA",
        "outputId": "a9425928-6c2c-4699-e35d-7ba78194f36b"
      },
      "execution_count": 24,
      "outputs": [
        {
          "output_type": "display_data",
          "data": {
            "text/plain": [
              "<IPython.core.display.HTML object>"
            ],
            "text/html": [
              "\n",
              "     <input type=\"file\" id=\"files-21f2d3bf-fe21-4b6e-9dc5-fd5d9c8f3938\" name=\"files[]\" multiple disabled\n",
              "        style=\"border:none\" />\n",
              "     <output id=\"result-21f2d3bf-fe21-4b6e-9dc5-fd5d9c8f3938\">\n",
              "      Upload widget is only available when the cell has been executed in the\n",
              "      current browser session. Please rerun this cell to enable.\n",
              "      </output>\n",
              "      <script>// Copyright 2017 Google LLC\n",
              "//\n",
              "// Licensed under the Apache License, Version 2.0 (the \"License\");\n",
              "// you may not use this file except in compliance with the License.\n",
              "// You may obtain a copy of the License at\n",
              "//\n",
              "//      http://www.apache.org/licenses/LICENSE-2.0\n",
              "//\n",
              "// Unless required by applicable law or agreed to in writing, software\n",
              "// distributed under the License is distributed on an \"AS IS\" BASIS,\n",
              "// WITHOUT WARRANTIES OR CONDITIONS OF ANY KIND, either express or implied.\n",
              "// See the License for the specific language governing permissions and\n",
              "// limitations under the License.\n",
              "\n",
              "/**\n",
              " * @fileoverview Helpers for google.colab Python module.\n",
              " */\n",
              "(function(scope) {\n",
              "function span(text, styleAttributes = {}) {\n",
              "  const element = document.createElement('span');\n",
              "  element.textContent = text;\n",
              "  for (const key of Object.keys(styleAttributes)) {\n",
              "    element.style[key] = styleAttributes[key];\n",
              "  }\n",
              "  return element;\n",
              "}\n",
              "\n",
              "// Max number of bytes which will be uploaded at a time.\n",
              "const MAX_PAYLOAD_SIZE = 100 * 1024;\n",
              "\n",
              "function _uploadFiles(inputId, outputId) {\n",
              "  const steps = uploadFilesStep(inputId, outputId);\n",
              "  const outputElement = document.getElementById(outputId);\n",
              "  // Cache steps on the outputElement to make it available for the next call\n",
              "  // to uploadFilesContinue from Python.\n",
              "  outputElement.steps = steps;\n",
              "\n",
              "  return _uploadFilesContinue(outputId);\n",
              "}\n",
              "\n",
              "// This is roughly an async generator (not supported in the browser yet),\n",
              "// where there are multiple asynchronous steps and the Python side is going\n",
              "// to poll for completion of each step.\n",
              "// This uses a Promise to block the python side on completion of each step,\n",
              "// then passes the result of the previous step as the input to the next step.\n",
              "function _uploadFilesContinue(outputId) {\n",
              "  const outputElement = document.getElementById(outputId);\n",
              "  const steps = outputElement.steps;\n",
              "\n",
              "  const next = steps.next(outputElement.lastPromiseValue);\n",
              "  return Promise.resolve(next.value.promise).then((value) => {\n",
              "    // Cache the last promise value to make it available to the next\n",
              "    // step of the generator.\n",
              "    outputElement.lastPromiseValue = value;\n",
              "    return next.value.response;\n",
              "  });\n",
              "}\n",
              "\n",
              "/**\n",
              " * Generator function which is called between each async step of the upload\n",
              " * process.\n",
              " * @param {string} inputId Element ID of the input file picker element.\n",
              " * @param {string} outputId Element ID of the output display.\n",
              " * @return {!Iterable<!Object>} Iterable of next steps.\n",
              " */\n",
              "function* uploadFilesStep(inputId, outputId) {\n",
              "  const inputElement = document.getElementById(inputId);\n",
              "  inputElement.disabled = false;\n",
              "\n",
              "  const outputElement = document.getElementById(outputId);\n",
              "  outputElement.innerHTML = '';\n",
              "\n",
              "  const pickedPromise = new Promise((resolve) => {\n",
              "    inputElement.addEventListener('change', (e) => {\n",
              "      resolve(e.target.files);\n",
              "    });\n",
              "  });\n",
              "\n",
              "  const cancel = document.createElement('button');\n",
              "  inputElement.parentElement.appendChild(cancel);\n",
              "  cancel.textContent = 'Cancel upload';\n",
              "  const cancelPromise = new Promise((resolve) => {\n",
              "    cancel.onclick = () => {\n",
              "      resolve(null);\n",
              "    };\n",
              "  });\n",
              "\n",
              "  // Wait for the user to pick the files.\n",
              "  const files = yield {\n",
              "    promise: Promise.race([pickedPromise, cancelPromise]),\n",
              "    response: {\n",
              "      action: 'starting',\n",
              "    }\n",
              "  };\n",
              "\n",
              "  cancel.remove();\n",
              "\n",
              "  // Disable the input element since further picks are not allowed.\n",
              "  inputElement.disabled = true;\n",
              "\n",
              "  if (!files) {\n",
              "    return {\n",
              "      response: {\n",
              "        action: 'complete',\n",
              "      }\n",
              "    };\n",
              "  }\n",
              "\n",
              "  for (const file of files) {\n",
              "    const li = document.createElement('li');\n",
              "    li.append(span(file.name, {fontWeight: 'bold'}));\n",
              "    li.append(span(\n",
              "        `(${file.type || 'n/a'}) - ${file.size} bytes, ` +\n",
              "        `last modified: ${\n",
              "            file.lastModifiedDate ? file.lastModifiedDate.toLocaleDateString() :\n",
              "                                    'n/a'} - `));\n",
              "    const percent = span('0% done');\n",
              "    li.appendChild(percent);\n",
              "\n",
              "    outputElement.appendChild(li);\n",
              "\n",
              "    const fileDataPromise = new Promise((resolve) => {\n",
              "      const reader = new FileReader();\n",
              "      reader.onload = (e) => {\n",
              "        resolve(e.target.result);\n",
              "      };\n",
              "      reader.readAsArrayBuffer(file);\n",
              "    });\n",
              "    // Wait for the data to be ready.\n",
              "    let fileData = yield {\n",
              "      promise: fileDataPromise,\n",
              "      response: {\n",
              "        action: 'continue',\n",
              "      }\n",
              "    };\n",
              "\n",
              "    // Use a chunked sending to avoid message size limits. See b/62115660.\n",
              "    let position = 0;\n",
              "    do {\n",
              "      const length = Math.min(fileData.byteLength - position, MAX_PAYLOAD_SIZE);\n",
              "      const chunk = new Uint8Array(fileData, position, length);\n",
              "      position += length;\n",
              "\n",
              "      const base64 = btoa(String.fromCharCode.apply(null, chunk));\n",
              "      yield {\n",
              "        response: {\n",
              "          action: 'append',\n",
              "          file: file.name,\n",
              "          data: base64,\n",
              "        },\n",
              "      };\n",
              "\n",
              "      let percentDone = fileData.byteLength === 0 ?\n",
              "          100 :\n",
              "          Math.round((position / fileData.byteLength) * 100);\n",
              "      percent.textContent = `${percentDone}% done`;\n",
              "\n",
              "    } while (position < fileData.byteLength);\n",
              "  }\n",
              "\n",
              "  // All done.\n",
              "  yield {\n",
              "    response: {\n",
              "      action: 'complete',\n",
              "    }\n",
              "  };\n",
              "}\n",
              "\n",
              "scope.google = scope.google || {};\n",
              "scope.google.colab = scope.google.colab || {};\n",
              "scope.google.colab._files = {\n",
              "  _uploadFiles,\n",
              "  _uploadFilesContinue,\n",
              "};\n",
              "})(self);\n",
              "</script> "
            ]
          },
          "metadata": {}
        },
        {
          "output_type": "stream",
          "name": "stdout",
          "text": [
            "Saving .env to .env\n",
            "Uploaded and Loaded Sucessfully\n"
          ]
        }
      ]
    },
    {
      "cell_type": "markdown",
      "source": [
        "## Using basic WebLoader"
      ],
      "metadata": {
        "id": "xEankj8cQ1zI"
      }
    },
    {
      "cell_type": "code",
      "source": [
        "urls = [\"https://www.motorola.in/\"]\n",
        "\n",
        "web_loader = WebBaseLoader(urls)\n",
        "documents = web_loader.load()"
      ],
      "metadata": {
        "id": "W9uURavXQ34N"
      },
      "execution_count": 32,
      "outputs": []
    },
    {
      "cell_type": "code",
      "source": [
        "for doc in documents:\n",
        "    print(doc.metadata)\n",
        "    print(\"Number of characters:\",len(doc.page_content))"
      ],
      "metadata": {
        "colab": {
          "base_uri": "https://localhost:8080/"
        },
        "id": "w957HhK5R6bM",
        "outputId": "c0b88c75-28de-4261-d462-335b92a09d17"
      },
      "execution_count": 33,
      "outputs": [
        {
          "output_type": "stream",
          "name": "stdout",
          "text": [
            "{'source': 'https://www.motorola.in/', 'title': 'motorola IN | Android phones & Razr', 'description': '#hellomoto | Discover our new unlocked Android phones from motorola and stay informed about our offers and promotions.', 'language': 'en-IN'}\n",
            "Number of characters: 1028\n"
          ]
        }
      ]
    },
    {
      "cell_type": "markdown",
      "source": [
        "## Using FireCrawl AI Scrapper"
      ],
      "metadata": {
        "id": "3d9Rr4S1YYMo"
      }
    },
    {
      "cell_type": "code",
      "source": [
        "firecrawl_loader = FireCrawlLoader(url = urls, api_key = os.environ['FIRECRAWL_API_KEY'], mode='scrape')\n",
        "documents = web_loader.load()\n",
        "\n",
        "for doc in documents:\n",
        "    print(doc.metadata)\n",
        "    print(\"Number of characters:\",len(doc.page_content))"
      ],
      "metadata": {
        "colab": {
          "base_uri": "https://localhost:8080/"
        },
        "id": "oj_mkdOuYY-6",
        "outputId": "c1b8b0bf-54ae-425d-e1e3-541eb5e480db"
      },
      "execution_count": 41,
      "outputs": [
        {
          "output_type": "stream",
          "name": "stdout",
          "text": [
            "{'source': 'https://www.motorola.in/', 'title': 'motorola IN | Android phones & Razr', 'description': '#hellomoto | Discover our new unlocked Android phones from motorola and stay informed about our offers and promotions.', 'language': 'en-IN'}\n",
            "Number of characters: 1028\n"
          ]
        }
      ]
    },
    {
      "cell_type": "markdown",
      "source": [
        "## Splitting the large documents into chunks"
      ],
      "metadata": {
        "id": "e3mrtzbnSi01"
      }
    },
    {
      "cell_type": "code",
      "source": [
        "text_splitter = RecursiveCharacterTextSplitter(\n",
        "    chunk_size= 100,\n",
        "    chunk_overlap=20\n",
        ")\n",
        "chunks = text_splitter.split_documents(documents)\n",
        "\n",
        "print(f\"The documents were splitted into {len(chunks)} chunks\")"
      ],
      "metadata": {
        "colab": {
          "base_uri": "https://localhost:8080/"
        },
        "id": "E0VFE6scShTj",
        "outputId": "bcfa5da8-3389-4576-ddc2-328a1aee8223"
      },
      "execution_count": 42,
      "outputs": [
        {
          "output_type": "stream",
          "name": "stdout",
          "text": [
            "The documents were splitted into 12 chunks\n"
          ]
        }
      ]
    },
    {
      "cell_type": "markdown",
      "source": [
        "## Storing the embeddings into vector database"
      ],
      "metadata": {
        "id": "j_bMRyTQTExT"
      }
    },
    {
      "cell_type": "code",
      "source": [
        "embedding_model = OpenAIEmbeddings(model=\"text-embedding-3-small\")"
      ],
      "metadata": {
        "id": "NTxiXl13TELF"
      },
      "execution_count": 43,
      "outputs": []
    },
    {
      "cell_type": "code",
      "source": [
        "os.makedirs(\"db\", exist_ok=True)\n",
        "\n",
        "def create_vector_database(chunks: list, embedding_model, name=\"vector_store\"):\n",
        "\n",
        "    random_suffix = randomname.get_name()\n",
        "\n",
        "    persistent_directory = f\"db/chroma-{name}-({random_suffix})\"\n",
        "\n",
        "    ## If already there, delete and create a new one\n",
        "\n",
        "    for folder in glob(f\"db/chroma-{name}*\"):\n",
        "        if os.path.exists(folder):\n",
        "            shutil.rmtree(folder)\n",
        "\n",
        "    os.mkdir(persistent_directory)\n",
        "\n",
        "    vector_db = Chroma.from_documents(\n",
        "        documents = chunks,\n",
        "        collection_name = \"movie_embeddings_v2\",\n",
        "        embedding = embedding_model,\n",
        "        persist_directory = persistent_directory\n",
        "    )\n",
        "\n",
        "    return vector_db"
      ],
      "metadata": {
        "id": "7T5bXjQbTXLf"
      },
      "execution_count": 44,
      "outputs": []
    },
    {
      "cell_type": "code",
      "source": [
        "%%time\n",
        "vector_db = create_vector_database(chunks=chunks, embedding_model=embedding_model, name='assam_vector_store')"
      ],
      "metadata": {
        "colab": {
          "base_uri": "https://localhost:8080/"
        },
        "id": "zoqNPQ2BTrFK",
        "outputId": "50b62cfb-c401-4e85-f39e-4f9259e580cd"
      },
      "execution_count": 45,
      "outputs": [
        {
          "output_type": "stream",
          "name": "stdout",
          "text": [
            "CPU times: user 113 ms, sys: 35.1 ms, total: 148 ms\n",
            "Wall time: 962 ms\n"
          ]
        }
      ]
    },
    {
      "cell_type": "markdown",
      "source": [
        "## Retrieving the data using a query"
      ],
      "metadata": {
        "id": "KBfktOVfUHpx"
      }
    },
    {
      "cell_type": "code",
      "source": [
        "retriever = vector_db.as_retriever(search_type=\"similarity\", search_kwargs={\"k\":3})"
      ],
      "metadata": {
        "id": "8dnX4kHNUAlZ"
      },
      "execution_count": 46,
      "outputs": []
    },
    {
      "cell_type": "code",
      "source": [
        "query = \"List the mobiles that are under 20000 Rs ?\"\n",
        "results = retriever.invoke(query)\n",
        "\n",
        "for result in results:\n",
        "    print(result.page_content)\n",
        "    print(\"-\"*30)"
      ],
      "metadata": {
        "colab": {
          "base_uri": "https://localhost:8080/"
        },
        "id": "qcyPMsQ_Yh72",
        "outputId": "e6ab1c34-4971-4c55-d9a6-15e22ca5190a"
      },
      "execution_count": 47,
      "outputs": [
        {
          "output_type": "stream",
          "name": "stdout",
          "text": [
            "Shipping*Fast Delivery* Republic day saleUNBEATABLE OFFERS ON  BEST SELLING SMARTPHONES\n",
            "------------------------------\n",
            "5gDealmoto g34 5g Dealmoto g04s moto g04Dealcomplete familyall phonesEar Budsmoto buds+moto\n",
            "------------------------------\n",
            "razrMotorola  razr 50  Motorola  razr 50 ultra motorola razr  40 ultra complete familymotorola\n",
            "------------------------------\n"
          ]
        }
      ]
    },
    {
      "cell_type": "code",
      "source": [
        "query = \"List the mobiles that are under 20000 Rs ?\"\n",
        "results = retriever.invoke(query)\n",
        "\n",
        "for result in results:\n",
        "    print(result.page_content)\n",
        "    print(\"-\"*30)"
      ],
      "metadata": {
        "colab": {
          "base_uri": "https://localhost:8080/"
        },
        "id": "N0TJ213mUdtQ",
        "outputId": "526341d2-6697-4451-d63f-f99a4a03f8ff"
      },
      "execution_count": 39,
      "outputs": [
        {
          "output_type": "stream",
          "name": "stdout",
          "text": [
            "Shipping*Fast Delivery* Republic day saleUNBEATABLE OFFERS ON  BEST SELLING SMARTPHONES\n",
            "------------------------------\n",
            "5gDealmoto g34 5g Dealmoto g04s moto g04Dealcomplete familyall phonesEar Budsmoto buds+moto\n",
            "------------------------------\n",
            "razrMotorola  razr 50  Motorola  razr 50 ultra motorola razr  40 ultra complete familymotorola\n",
            "------------------------------\n"
          ]
        }
      ]
    }
  ]
}