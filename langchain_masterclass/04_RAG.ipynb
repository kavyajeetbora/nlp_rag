{
  "nbformat": 4,
  "nbformat_minor": 0,
  "metadata": {
    "colab": {
      "provenance": [],
      "authorship_tag": "ABX9TyOdSCt1GJJHL030++kq0qo8",
      "include_colab_link": true
    },
    "kernelspec": {
      "name": "python3",
      "display_name": "Python 3"
    },
    "language_info": {
      "name": "python"
    },
    "widgets": {
      "application/vnd.jupyter.widget-state+json": {
        "9ef34f9403d34672aab63346e34572b5": {
          "model_module": "@jupyter-widgets/controls",
          "model_name": "HBoxModel",
          "model_module_version": "1.5.0",
          "state": {
            "_dom_classes": [],
            "_model_module": "@jupyter-widgets/controls",
            "_model_module_version": "1.5.0",
            "_model_name": "HBoxModel",
            "_view_count": null,
            "_view_module": "@jupyter-widgets/controls",
            "_view_module_version": "1.5.0",
            "_view_name": "HBoxView",
            "box_style": "",
            "children": [
              "IPY_MODEL_05d9db901d4245c4834d27a38ee3620d",
              "IPY_MODEL_7ad971c1022b4f3f961436efa8bdf6f6",
              "IPY_MODEL_3da8c64adeef46f487f8a4ac3e8dba5b"
            ],
            "layout": "IPY_MODEL_6e8e9c0a2e4144b1a7fd55882efa11fc"
          }
        },
        "05d9db901d4245c4834d27a38ee3620d": {
          "model_module": "@jupyter-widgets/controls",
          "model_name": "HTMLModel",
          "model_module_version": "1.5.0",
          "state": {
            "_dom_classes": [],
            "_model_module": "@jupyter-widgets/controls",
            "_model_module_version": "1.5.0",
            "_model_name": "HTMLModel",
            "_view_count": null,
            "_view_module": "@jupyter-widgets/controls",
            "_view_module_version": "1.5.0",
            "_view_name": "HTMLView",
            "description": "",
            "description_tooltip": null,
            "layout": "IPY_MODEL_ed90add37d2c458a9c720d303d145d65",
            "placeholder": "​",
            "style": "IPY_MODEL_bed861bad6c84a268b42d859af7cdd85",
            "value": "modules.json: 100%"
          }
        },
        "7ad971c1022b4f3f961436efa8bdf6f6": {
          "model_module": "@jupyter-widgets/controls",
          "model_name": "FloatProgressModel",
          "model_module_version": "1.5.0",
          "state": {
            "_dom_classes": [],
            "_model_module": "@jupyter-widgets/controls",
            "_model_module_version": "1.5.0",
            "_model_name": "FloatProgressModel",
            "_view_count": null,
            "_view_module": "@jupyter-widgets/controls",
            "_view_module_version": "1.5.0",
            "_view_name": "ProgressView",
            "bar_style": "success",
            "description": "",
            "description_tooltip": null,
            "layout": "IPY_MODEL_58d2370b09da4f488b56267961ff4d0d",
            "max": 349,
            "min": 0,
            "orientation": "horizontal",
            "style": "IPY_MODEL_90be9f824a644c5abac4e545c242c632",
            "value": 349
          }
        },
        "3da8c64adeef46f487f8a4ac3e8dba5b": {
          "model_module": "@jupyter-widgets/controls",
          "model_name": "HTMLModel",
          "model_module_version": "1.5.0",
          "state": {
            "_dom_classes": [],
            "_model_module": "@jupyter-widgets/controls",
            "_model_module_version": "1.5.0",
            "_model_name": "HTMLModel",
            "_view_count": null,
            "_view_module": "@jupyter-widgets/controls",
            "_view_module_version": "1.5.0",
            "_view_name": "HTMLView",
            "description": "",
            "description_tooltip": null,
            "layout": "IPY_MODEL_66928f5bad5b45f28629445c8f27d983",
            "placeholder": "​",
            "style": "IPY_MODEL_73a02de6b76c4b8f822980eab5b90794",
            "value": " 349/349 [00:00&lt;00:00, 11.1kB/s]"
          }
        },
        "6e8e9c0a2e4144b1a7fd55882efa11fc": {
          "model_module": "@jupyter-widgets/base",
          "model_name": "LayoutModel",
          "model_module_version": "1.2.0",
          "state": {
            "_model_module": "@jupyter-widgets/base",
            "_model_module_version": "1.2.0",
            "_model_name": "LayoutModel",
            "_view_count": null,
            "_view_module": "@jupyter-widgets/base",
            "_view_module_version": "1.2.0",
            "_view_name": "LayoutView",
            "align_content": null,
            "align_items": null,
            "align_self": null,
            "border": null,
            "bottom": null,
            "display": null,
            "flex": null,
            "flex_flow": null,
            "grid_area": null,
            "grid_auto_columns": null,
            "grid_auto_flow": null,
            "grid_auto_rows": null,
            "grid_column": null,
            "grid_gap": null,
            "grid_row": null,
            "grid_template_areas": null,
            "grid_template_columns": null,
            "grid_template_rows": null,
            "height": null,
            "justify_content": null,
            "justify_items": null,
            "left": null,
            "margin": null,
            "max_height": null,
            "max_width": null,
            "min_height": null,
            "min_width": null,
            "object_fit": null,
            "object_position": null,
            "order": null,
            "overflow": null,
            "overflow_x": null,
            "overflow_y": null,
            "padding": null,
            "right": null,
            "top": null,
            "visibility": null,
            "width": null
          }
        },
        "ed90add37d2c458a9c720d303d145d65": {
          "model_module": "@jupyter-widgets/base",
          "model_name": "LayoutModel",
          "model_module_version": "1.2.0",
          "state": {
            "_model_module": "@jupyter-widgets/base",
            "_model_module_version": "1.2.0",
            "_model_name": "LayoutModel",
            "_view_count": null,
            "_view_module": "@jupyter-widgets/base",
            "_view_module_version": "1.2.0",
            "_view_name": "LayoutView",
            "align_content": null,
            "align_items": null,
            "align_self": null,
            "border": null,
            "bottom": null,
            "display": null,
            "flex": null,
            "flex_flow": null,
            "grid_area": null,
            "grid_auto_columns": null,
            "grid_auto_flow": null,
            "grid_auto_rows": null,
            "grid_column": null,
            "grid_gap": null,
            "grid_row": null,
            "grid_template_areas": null,
            "grid_template_columns": null,
            "grid_template_rows": null,
            "height": null,
            "justify_content": null,
            "justify_items": null,
            "left": null,
            "margin": null,
            "max_height": null,
            "max_width": null,
            "min_height": null,
            "min_width": null,
            "object_fit": null,
            "object_position": null,
            "order": null,
            "overflow": null,
            "overflow_x": null,
            "overflow_y": null,
            "padding": null,
            "right": null,
            "top": null,
            "visibility": null,
            "width": null
          }
        },
        "bed861bad6c84a268b42d859af7cdd85": {
          "model_module": "@jupyter-widgets/controls",
          "model_name": "DescriptionStyleModel",
          "model_module_version": "1.5.0",
          "state": {
            "_model_module": "@jupyter-widgets/controls",
            "_model_module_version": "1.5.0",
            "_model_name": "DescriptionStyleModel",
            "_view_count": null,
            "_view_module": "@jupyter-widgets/base",
            "_view_module_version": "1.2.0",
            "_view_name": "StyleView",
            "description_width": ""
          }
        },
        "58d2370b09da4f488b56267961ff4d0d": {
          "model_module": "@jupyter-widgets/base",
          "model_name": "LayoutModel",
          "model_module_version": "1.2.0",
          "state": {
            "_model_module": "@jupyter-widgets/base",
            "_model_module_version": "1.2.0",
            "_model_name": "LayoutModel",
            "_view_count": null,
            "_view_module": "@jupyter-widgets/base",
            "_view_module_version": "1.2.0",
            "_view_name": "LayoutView",
            "align_content": null,
            "align_items": null,
            "align_self": null,
            "border": null,
            "bottom": null,
            "display": null,
            "flex": null,
            "flex_flow": null,
            "grid_area": null,
            "grid_auto_columns": null,
            "grid_auto_flow": null,
            "grid_auto_rows": null,
            "grid_column": null,
            "grid_gap": null,
            "grid_row": null,
            "grid_template_areas": null,
            "grid_template_columns": null,
            "grid_template_rows": null,
            "height": null,
            "justify_content": null,
            "justify_items": null,
            "left": null,
            "margin": null,
            "max_height": null,
            "max_width": null,
            "min_height": null,
            "min_width": null,
            "object_fit": null,
            "object_position": null,
            "order": null,
            "overflow": null,
            "overflow_x": null,
            "overflow_y": null,
            "padding": null,
            "right": null,
            "top": null,
            "visibility": null,
            "width": null
          }
        },
        "90be9f824a644c5abac4e545c242c632": {
          "model_module": "@jupyter-widgets/controls",
          "model_name": "ProgressStyleModel",
          "model_module_version": "1.5.0",
          "state": {
            "_model_module": "@jupyter-widgets/controls",
            "_model_module_version": "1.5.0",
            "_model_name": "ProgressStyleModel",
            "_view_count": null,
            "_view_module": "@jupyter-widgets/base",
            "_view_module_version": "1.2.0",
            "_view_name": "StyleView",
            "bar_color": null,
            "description_width": ""
          }
        },
        "66928f5bad5b45f28629445c8f27d983": {
          "model_module": "@jupyter-widgets/base",
          "model_name": "LayoutModel",
          "model_module_version": "1.2.0",
          "state": {
            "_model_module": "@jupyter-widgets/base",
            "_model_module_version": "1.2.0",
            "_model_name": "LayoutModel",
            "_view_count": null,
            "_view_module": "@jupyter-widgets/base",
            "_view_module_version": "1.2.0",
            "_view_name": "LayoutView",
            "align_content": null,
            "align_items": null,
            "align_self": null,
            "border": null,
            "bottom": null,
            "display": null,
            "flex": null,
            "flex_flow": null,
            "grid_area": null,
            "grid_auto_columns": null,
            "grid_auto_flow": null,
            "grid_auto_rows": null,
            "grid_column": null,
            "grid_gap": null,
            "grid_row": null,
            "grid_template_areas": null,
            "grid_template_columns": null,
            "grid_template_rows": null,
            "height": null,
            "justify_content": null,
            "justify_items": null,
            "left": null,
            "margin": null,
            "max_height": null,
            "max_width": null,
            "min_height": null,
            "min_width": null,
            "object_fit": null,
            "object_position": null,
            "order": null,
            "overflow": null,
            "overflow_x": null,
            "overflow_y": null,
            "padding": null,
            "right": null,
            "top": null,
            "visibility": null,
            "width": null
          }
        },
        "73a02de6b76c4b8f822980eab5b90794": {
          "model_module": "@jupyter-widgets/controls",
          "model_name": "DescriptionStyleModel",
          "model_module_version": "1.5.0",
          "state": {
            "_model_module": "@jupyter-widgets/controls",
            "_model_module_version": "1.5.0",
            "_model_name": "DescriptionStyleModel",
            "_view_count": null,
            "_view_module": "@jupyter-widgets/base",
            "_view_module_version": "1.2.0",
            "_view_name": "StyleView",
            "description_width": ""
          }
        },
        "461f1215878240a5a74b91b2efa87d2f": {
          "model_module": "@jupyter-widgets/controls",
          "model_name": "HBoxModel",
          "model_module_version": "1.5.0",
          "state": {
            "_dom_classes": [],
            "_model_module": "@jupyter-widgets/controls",
            "_model_module_version": "1.5.0",
            "_model_name": "HBoxModel",
            "_view_count": null,
            "_view_module": "@jupyter-widgets/controls",
            "_view_module_version": "1.5.0",
            "_view_name": "HBoxView",
            "box_style": "",
            "children": [
              "IPY_MODEL_32db67e96d394737b5cbd3cfd1bd74ad",
              "IPY_MODEL_036a57aa19e5498a8af4f3b90cf3209c",
              "IPY_MODEL_3787d8a10757463ba60c3db139a87f88"
            ],
            "layout": "IPY_MODEL_a2e253e342f345d48a309c42500c0919"
          }
        },
        "32db67e96d394737b5cbd3cfd1bd74ad": {
          "model_module": "@jupyter-widgets/controls",
          "model_name": "HTMLModel",
          "model_module_version": "1.5.0",
          "state": {
            "_dom_classes": [],
            "_model_module": "@jupyter-widgets/controls",
            "_model_module_version": "1.5.0",
            "_model_name": "HTMLModel",
            "_view_count": null,
            "_view_module": "@jupyter-widgets/controls",
            "_view_module_version": "1.5.0",
            "_view_name": "HTMLView",
            "description": "",
            "description_tooltip": null,
            "layout": "IPY_MODEL_594f84eb9c6942c4b04e49c5c93911fe",
            "placeholder": "​",
            "style": "IPY_MODEL_9f99b75aace34dfda925db102cb30a1a",
            "value": "config_sentence_transformers.json: 100%"
          }
        },
        "036a57aa19e5498a8af4f3b90cf3209c": {
          "model_module": "@jupyter-widgets/controls",
          "model_name": "FloatProgressModel",
          "model_module_version": "1.5.0",
          "state": {
            "_dom_classes": [],
            "_model_module": "@jupyter-widgets/controls",
            "_model_module_version": "1.5.0",
            "_model_name": "FloatProgressModel",
            "_view_count": null,
            "_view_module": "@jupyter-widgets/controls",
            "_view_module_version": "1.5.0",
            "_view_name": "ProgressView",
            "bar_style": "success",
            "description": "",
            "description_tooltip": null,
            "layout": "IPY_MODEL_cb8d454bf86945b7bb40c40c6730153c",
            "max": 116,
            "min": 0,
            "orientation": "horizontal",
            "style": "IPY_MODEL_0a3db09e1a054d818129015eeba27c57",
            "value": 116
          }
        },
        "3787d8a10757463ba60c3db139a87f88": {
          "model_module": "@jupyter-widgets/controls",
          "model_name": "HTMLModel",
          "model_module_version": "1.5.0",
          "state": {
            "_dom_classes": [],
            "_model_module": "@jupyter-widgets/controls",
            "_model_module_version": "1.5.0",
            "_model_name": "HTMLModel",
            "_view_count": null,
            "_view_module": "@jupyter-widgets/controls",
            "_view_module_version": "1.5.0",
            "_view_name": "HTMLView",
            "description": "",
            "description_tooltip": null,
            "layout": "IPY_MODEL_1ff626fbb39c489cbee6ec1f98e95567",
            "placeholder": "​",
            "style": "IPY_MODEL_d6294a64600f414ca75c248ef09ef0b1",
            "value": " 116/116 [00:00&lt;00:00, 6.39kB/s]"
          }
        },
        "a2e253e342f345d48a309c42500c0919": {
          "model_module": "@jupyter-widgets/base",
          "model_name": "LayoutModel",
          "model_module_version": "1.2.0",
          "state": {
            "_model_module": "@jupyter-widgets/base",
            "_model_module_version": "1.2.0",
            "_model_name": "LayoutModel",
            "_view_count": null,
            "_view_module": "@jupyter-widgets/base",
            "_view_module_version": "1.2.0",
            "_view_name": "LayoutView",
            "align_content": null,
            "align_items": null,
            "align_self": null,
            "border": null,
            "bottom": null,
            "display": null,
            "flex": null,
            "flex_flow": null,
            "grid_area": null,
            "grid_auto_columns": null,
            "grid_auto_flow": null,
            "grid_auto_rows": null,
            "grid_column": null,
            "grid_gap": null,
            "grid_row": null,
            "grid_template_areas": null,
            "grid_template_columns": null,
            "grid_template_rows": null,
            "height": null,
            "justify_content": null,
            "justify_items": null,
            "left": null,
            "margin": null,
            "max_height": null,
            "max_width": null,
            "min_height": null,
            "min_width": null,
            "object_fit": null,
            "object_position": null,
            "order": null,
            "overflow": null,
            "overflow_x": null,
            "overflow_y": null,
            "padding": null,
            "right": null,
            "top": null,
            "visibility": null,
            "width": null
          }
        },
        "594f84eb9c6942c4b04e49c5c93911fe": {
          "model_module": "@jupyter-widgets/base",
          "model_name": "LayoutModel",
          "model_module_version": "1.2.0",
          "state": {
            "_model_module": "@jupyter-widgets/base",
            "_model_module_version": "1.2.0",
            "_model_name": "LayoutModel",
            "_view_count": null,
            "_view_module": "@jupyter-widgets/base",
            "_view_module_version": "1.2.0",
            "_view_name": "LayoutView",
            "align_content": null,
            "align_items": null,
            "align_self": null,
            "border": null,
            "bottom": null,
            "display": null,
            "flex": null,
            "flex_flow": null,
            "grid_area": null,
            "grid_auto_columns": null,
            "grid_auto_flow": null,
            "grid_auto_rows": null,
            "grid_column": null,
            "grid_gap": null,
            "grid_row": null,
            "grid_template_areas": null,
            "grid_template_columns": null,
            "grid_template_rows": null,
            "height": null,
            "justify_content": null,
            "justify_items": null,
            "left": null,
            "margin": null,
            "max_height": null,
            "max_width": null,
            "min_height": null,
            "min_width": null,
            "object_fit": null,
            "object_position": null,
            "order": null,
            "overflow": null,
            "overflow_x": null,
            "overflow_y": null,
            "padding": null,
            "right": null,
            "top": null,
            "visibility": null,
            "width": null
          }
        },
        "9f99b75aace34dfda925db102cb30a1a": {
          "model_module": "@jupyter-widgets/controls",
          "model_name": "DescriptionStyleModel",
          "model_module_version": "1.5.0",
          "state": {
            "_model_module": "@jupyter-widgets/controls",
            "_model_module_version": "1.5.0",
            "_model_name": "DescriptionStyleModel",
            "_view_count": null,
            "_view_module": "@jupyter-widgets/base",
            "_view_module_version": "1.2.0",
            "_view_name": "StyleView",
            "description_width": ""
          }
        },
        "cb8d454bf86945b7bb40c40c6730153c": {
          "model_module": "@jupyter-widgets/base",
          "model_name": "LayoutModel",
          "model_module_version": "1.2.0",
          "state": {
            "_model_module": "@jupyter-widgets/base",
            "_model_module_version": "1.2.0",
            "_model_name": "LayoutModel",
            "_view_count": null,
            "_view_module": "@jupyter-widgets/base",
            "_view_module_version": "1.2.0",
            "_view_name": "LayoutView",
            "align_content": null,
            "align_items": null,
            "align_self": null,
            "border": null,
            "bottom": null,
            "display": null,
            "flex": null,
            "flex_flow": null,
            "grid_area": null,
            "grid_auto_columns": null,
            "grid_auto_flow": null,
            "grid_auto_rows": null,
            "grid_column": null,
            "grid_gap": null,
            "grid_row": null,
            "grid_template_areas": null,
            "grid_template_columns": null,
            "grid_template_rows": null,
            "height": null,
            "justify_content": null,
            "justify_items": null,
            "left": null,
            "margin": null,
            "max_height": null,
            "max_width": null,
            "min_height": null,
            "min_width": null,
            "object_fit": null,
            "object_position": null,
            "order": null,
            "overflow": null,
            "overflow_x": null,
            "overflow_y": null,
            "padding": null,
            "right": null,
            "top": null,
            "visibility": null,
            "width": null
          }
        },
        "0a3db09e1a054d818129015eeba27c57": {
          "model_module": "@jupyter-widgets/controls",
          "model_name": "ProgressStyleModel",
          "model_module_version": "1.5.0",
          "state": {
            "_model_module": "@jupyter-widgets/controls",
            "_model_module_version": "1.5.0",
            "_model_name": "ProgressStyleModel",
            "_view_count": null,
            "_view_module": "@jupyter-widgets/base",
            "_view_module_version": "1.2.0",
            "_view_name": "StyleView",
            "bar_color": null,
            "description_width": ""
          }
        },
        "1ff626fbb39c489cbee6ec1f98e95567": {
          "model_module": "@jupyter-widgets/base",
          "model_name": "LayoutModel",
          "model_module_version": "1.2.0",
          "state": {
            "_model_module": "@jupyter-widgets/base",
            "_model_module_version": "1.2.0",
            "_model_name": "LayoutModel",
            "_view_count": null,
            "_view_module": "@jupyter-widgets/base",
            "_view_module_version": "1.2.0",
            "_view_name": "LayoutView",
            "align_content": null,
            "align_items": null,
            "align_self": null,
            "border": null,
            "bottom": null,
            "display": null,
            "flex": null,
            "flex_flow": null,
            "grid_area": null,
            "grid_auto_columns": null,
            "grid_auto_flow": null,
            "grid_auto_rows": null,
            "grid_column": null,
            "grid_gap": null,
            "grid_row": null,
            "grid_template_areas": null,
            "grid_template_columns": null,
            "grid_template_rows": null,
            "height": null,
            "justify_content": null,
            "justify_items": null,
            "left": null,
            "margin": null,
            "max_height": null,
            "max_width": null,
            "min_height": null,
            "min_width": null,
            "object_fit": null,
            "object_position": null,
            "order": null,
            "overflow": null,
            "overflow_x": null,
            "overflow_y": null,
            "padding": null,
            "right": null,
            "top": null,
            "visibility": null,
            "width": null
          }
        },
        "d6294a64600f414ca75c248ef09ef0b1": {
          "model_module": "@jupyter-widgets/controls",
          "model_name": "DescriptionStyleModel",
          "model_module_version": "1.5.0",
          "state": {
            "_model_module": "@jupyter-widgets/controls",
            "_model_module_version": "1.5.0",
            "_model_name": "DescriptionStyleModel",
            "_view_count": null,
            "_view_module": "@jupyter-widgets/base",
            "_view_module_version": "1.2.0",
            "_view_name": "StyleView",
            "description_width": ""
          }
        },
        "683d6d0322a1462a820a75b6ba901519": {
          "model_module": "@jupyter-widgets/controls",
          "model_name": "HBoxModel",
          "model_module_version": "1.5.0",
          "state": {
            "_dom_classes": [],
            "_model_module": "@jupyter-widgets/controls",
            "_model_module_version": "1.5.0",
            "_model_name": "HBoxModel",
            "_view_count": null,
            "_view_module": "@jupyter-widgets/controls",
            "_view_module_version": "1.5.0",
            "_view_name": "HBoxView",
            "box_style": "",
            "children": [
              "IPY_MODEL_be269c630341491fac86ee92956d32bc",
              "IPY_MODEL_c627b9809de04e2ab0816f74442d6843",
              "IPY_MODEL_0578c343a68048e29c8f494a746491f6"
            ],
            "layout": "IPY_MODEL_e81022ff41c745ffa8d115e6a792204a"
          }
        },
        "be269c630341491fac86ee92956d32bc": {
          "model_module": "@jupyter-widgets/controls",
          "model_name": "HTMLModel",
          "model_module_version": "1.5.0",
          "state": {
            "_dom_classes": [],
            "_model_module": "@jupyter-widgets/controls",
            "_model_module_version": "1.5.0",
            "_model_name": "HTMLModel",
            "_view_count": null,
            "_view_module": "@jupyter-widgets/controls",
            "_view_module_version": "1.5.0",
            "_view_name": "HTMLView",
            "description": "",
            "description_tooltip": null,
            "layout": "IPY_MODEL_c225a5831a734cedab10f62348bbbd5c",
            "placeholder": "​",
            "style": "IPY_MODEL_213ba1e231c443d48c66f1f7bf551ecf",
            "value": "README.md: 100%"
          }
        },
        "c627b9809de04e2ab0816f74442d6843": {
          "model_module": "@jupyter-widgets/controls",
          "model_name": "FloatProgressModel",
          "model_module_version": "1.5.0",
          "state": {
            "_dom_classes": [],
            "_model_module": "@jupyter-widgets/controls",
            "_model_module_version": "1.5.0",
            "_model_name": "FloatProgressModel",
            "_view_count": null,
            "_view_module": "@jupyter-widgets/controls",
            "_view_module_version": "1.5.0",
            "_view_name": "ProgressView",
            "bar_style": "success",
            "description": "",
            "description_tooltip": null,
            "layout": "IPY_MODEL_28ce042c8a904eff8c5acaf0c956aba7",
            "max": 10659,
            "min": 0,
            "orientation": "horizontal",
            "style": "IPY_MODEL_acf44363f733463b8d86b3d764d41642",
            "value": 10659
          }
        },
        "0578c343a68048e29c8f494a746491f6": {
          "model_module": "@jupyter-widgets/controls",
          "model_name": "HTMLModel",
          "model_module_version": "1.5.0",
          "state": {
            "_dom_classes": [],
            "_model_module": "@jupyter-widgets/controls",
            "_model_module_version": "1.5.0",
            "_model_name": "HTMLModel",
            "_view_count": null,
            "_view_module": "@jupyter-widgets/controls",
            "_view_module_version": "1.5.0",
            "_view_name": "HTMLView",
            "description": "",
            "description_tooltip": null,
            "layout": "IPY_MODEL_7c50475921454029a248230a81098f38",
            "placeholder": "​",
            "style": "IPY_MODEL_85c777a1f8064eeabda6a1e5e06ae765",
            "value": " 10.7k/10.7k [00:00&lt;00:00, 197kB/s]"
          }
        },
        "e81022ff41c745ffa8d115e6a792204a": {
          "model_module": "@jupyter-widgets/base",
          "model_name": "LayoutModel",
          "model_module_version": "1.2.0",
          "state": {
            "_model_module": "@jupyter-widgets/base",
            "_model_module_version": "1.2.0",
            "_model_name": "LayoutModel",
            "_view_count": null,
            "_view_module": "@jupyter-widgets/base",
            "_view_module_version": "1.2.0",
            "_view_name": "LayoutView",
            "align_content": null,
            "align_items": null,
            "align_self": null,
            "border": null,
            "bottom": null,
            "display": null,
            "flex": null,
            "flex_flow": null,
            "grid_area": null,
            "grid_auto_columns": null,
            "grid_auto_flow": null,
            "grid_auto_rows": null,
            "grid_column": null,
            "grid_gap": null,
            "grid_row": null,
            "grid_template_areas": null,
            "grid_template_columns": null,
            "grid_template_rows": null,
            "height": null,
            "justify_content": null,
            "justify_items": null,
            "left": null,
            "margin": null,
            "max_height": null,
            "max_width": null,
            "min_height": null,
            "min_width": null,
            "object_fit": null,
            "object_position": null,
            "order": null,
            "overflow": null,
            "overflow_x": null,
            "overflow_y": null,
            "padding": null,
            "right": null,
            "top": null,
            "visibility": null,
            "width": null
          }
        },
        "c225a5831a734cedab10f62348bbbd5c": {
          "model_module": "@jupyter-widgets/base",
          "model_name": "LayoutModel",
          "model_module_version": "1.2.0",
          "state": {
            "_model_module": "@jupyter-widgets/base",
            "_model_module_version": "1.2.0",
            "_model_name": "LayoutModel",
            "_view_count": null,
            "_view_module": "@jupyter-widgets/base",
            "_view_module_version": "1.2.0",
            "_view_name": "LayoutView",
            "align_content": null,
            "align_items": null,
            "align_self": null,
            "border": null,
            "bottom": null,
            "display": null,
            "flex": null,
            "flex_flow": null,
            "grid_area": null,
            "grid_auto_columns": null,
            "grid_auto_flow": null,
            "grid_auto_rows": null,
            "grid_column": null,
            "grid_gap": null,
            "grid_row": null,
            "grid_template_areas": null,
            "grid_template_columns": null,
            "grid_template_rows": null,
            "height": null,
            "justify_content": null,
            "justify_items": null,
            "left": null,
            "margin": null,
            "max_height": null,
            "max_width": null,
            "min_height": null,
            "min_width": null,
            "object_fit": null,
            "object_position": null,
            "order": null,
            "overflow": null,
            "overflow_x": null,
            "overflow_y": null,
            "padding": null,
            "right": null,
            "top": null,
            "visibility": null,
            "width": null
          }
        },
        "213ba1e231c443d48c66f1f7bf551ecf": {
          "model_module": "@jupyter-widgets/controls",
          "model_name": "DescriptionStyleModel",
          "model_module_version": "1.5.0",
          "state": {
            "_model_module": "@jupyter-widgets/controls",
            "_model_module_version": "1.5.0",
            "_model_name": "DescriptionStyleModel",
            "_view_count": null,
            "_view_module": "@jupyter-widgets/base",
            "_view_module_version": "1.2.0",
            "_view_name": "StyleView",
            "description_width": ""
          }
        },
        "28ce042c8a904eff8c5acaf0c956aba7": {
          "model_module": "@jupyter-widgets/base",
          "model_name": "LayoutModel",
          "model_module_version": "1.2.0",
          "state": {
            "_model_module": "@jupyter-widgets/base",
            "_model_module_version": "1.2.0",
            "_model_name": "LayoutModel",
            "_view_count": null,
            "_view_module": "@jupyter-widgets/base",
            "_view_module_version": "1.2.0",
            "_view_name": "LayoutView",
            "align_content": null,
            "align_items": null,
            "align_self": null,
            "border": null,
            "bottom": null,
            "display": null,
            "flex": null,
            "flex_flow": null,
            "grid_area": null,
            "grid_auto_columns": null,
            "grid_auto_flow": null,
            "grid_auto_rows": null,
            "grid_column": null,
            "grid_gap": null,
            "grid_row": null,
            "grid_template_areas": null,
            "grid_template_columns": null,
            "grid_template_rows": null,
            "height": null,
            "justify_content": null,
            "justify_items": null,
            "left": null,
            "margin": null,
            "max_height": null,
            "max_width": null,
            "min_height": null,
            "min_width": null,
            "object_fit": null,
            "object_position": null,
            "order": null,
            "overflow": null,
            "overflow_x": null,
            "overflow_y": null,
            "padding": null,
            "right": null,
            "top": null,
            "visibility": null,
            "width": null
          }
        },
        "acf44363f733463b8d86b3d764d41642": {
          "model_module": "@jupyter-widgets/controls",
          "model_name": "ProgressStyleModel",
          "model_module_version": "1.5.0",
          "state": {
            "_model_module": "@jupyter-widgets/controls",
            "_model_module_version": "1.5.0",
            "_model_name": "ProgressStyleModel",
            "_view_count": null,
            "_view_module": "@jupyter-widgets/base",
            "_view_module_version": "1.2.0",
            "_view_name": "StyleView",
            "bar_color": null,
            "description_width": ""
          }
        },
        "7c50475921454029a248230a81098f38": {
          "model_module": "@jupyter-widgets/base",
          "model_name": "LayoutModel",
          "model_module_version": "1.2.0",
          "state": {
            "_model_module": "@jupyter-widgets/base",
            "_model_module_version": "1.2.0",
            "_model_name": "LayoutModel",
            "_view_count": null,
            "_view_module": "@jupyter-widgets/base",
            "_view_module_version": "1.2.0",
            "_view_name": "LayoutView",
            "align_content": null,
            "align_items": null,
            "align_self": null,
            "border": null,
            "bottom": null,
            "display": null,
            "flex": null,
            "flex_flow": null,
            "grid_area": null,
            "grid_auto_columns": null,
            "grid_auto_flow": null,
            "grid_auto_rows": null,
            "grid_column": null,
            "grid_gap": null,
            "grid_row": null,
            "grid_template_areas": null,
            "grid_template_columns": null,
            "grid_template_rows": null,
            "height": null,
            "justify_content": null,
            "justify_items": null,
            "left": null,
            "margin": null,
            "max_height": null,
            "max_width": null,
            "min_height": null,
            "min_width": null,
            "object_fit": null,
            "object_position": null,
            "order": null,
            "overflow": null,
            "overflow_x": null,
            "overflow_y": null,
            "padding": null,
            "right": null,
            "top": null,
            "visibility": null,
            "width": null
          }
        },
        "85c777a1f8064eeabda6a1e5e06ae765": {
          "model_module": "@jupyter-widgets/controls",
          "model_name": "DescriptionStyleModel",
          "model_module_version": "1.5.0",
          "state": {
            "_model_module": "@jupyter-widgets/controls",
            "_model_module_version": "1.5.0",
            "_model_name": "DescriptionStyleModel",
            "_view_count": null,
            "_view_module": "@jupyter-widgets/base",
            "_view_module_version": "1.2.0",
            "_view_name": "StyleView",
            "description_width": ""
          }
        },
        "1b55ded9aa7b4c4ba1d54f6cfe6f3514": {
          "model_module": "@jupyter-widgets/controls",
          "model_name": "HBoxModel",
          "model_module_version": "1.5.0",
          "state": {
            "_dom_classes": [],
            "_model_module": "@jupyter-widgets/controls",
            "_model_module_version": "1.5.0",
            "_model_name": "HBoxModel",
            "_view_count": null,
            "_view_module": "@jupyter-widgets/controls",
            "_view_module_version": "1.5.0",
            "_view_name": "HBoxView",
            "box_style": "",
            "children": [
              "IPY_MODEL_f5329d8a8fdd4d379611446a9e53dc50",
              "IPY_MODEL_f643257a61714d01a67bfde97f50f70d",
              "IPY_MODEL_17232434c54f4faeb51e81ec7d88c87f"
            ],
            "layout": "IPY_MODEL_ab79c363851646ee8d8cf779e4e30907"
          }
        },
        "f5329d8a8fdd4d379611446a9e53dc50": {
          "model_module": "@jupyter-widgets/controls",
          "model_name": "HTMLModel",
          "model_module_version": "1.5.0",
          "state": {
            "_dom_classes": [],
            "_model_module": "@jupyter-widgets/controls",
            "_model_module_version": "1.5.0",
            "_model_name": "HTMLModel",
            "_view_count": null,
            "_view_module": "@jupyter-widgets/controls",
            "_view_module_version": "1.5.0",
            "_view_name": "HTMLView",
            "description": "",
            "description_tooltip": null,
            "layout": "IPY_MODEL_1dfaf8180e1a4083a0156ee1776e8729",
            "placeholder": "​",
            "style": "IPY_MODEL_4f2df7ef80c142ae8e98502676a3287e",
            "value": "sentence_bert_config.json: 100%"
          }
        },
        "f643257a61714d01a67bfde97f50f70d": {
          "model_module": "@jupyter-widgets/controls",
          "model_name": "FloatProgressModel",
          "model_module_version": "1.5.0",
          "state": {
            "_dom_classes": [],
            "_model_module": "@jupyter-widgets/controls",
            "_model_module_version": "1.5.0",
            "_model_name": "FloatProgressModel",
            "_view_count": null,
            "_view_module": "@jupyter-widgets/controls",
            "_view_module_version": "1.5.0",
            "_view_name": "ProgressView",
            "bar_style": "success",
            "description": "",
            "description_tooltip": null,
            "layout": "IPY_MODEL_bf2bbf805802490da3cc8e8950deab30",
            "max": 53,
            "min": 0,
            "orientation": "horizontal",
            "style": "IPY_MODEL_02657c6cd6574284a12f93a7041c7ff9",
            "value": 53
          }
        },
        "17232434c54f4faeb51e81ec7d88c87f": {
          "model_module": "@jupyter-widgets/controls",
          "model_name": "HTMLModel",
          "model_module_version": "1.5.0",
          "state": {
            "_dom_classes": [],
            "_model_module": "@jupyter-widgets/controls",
            "_model_module_version": "1.5.0",
            "_model_name": "HTMLModel",
            "_view_count": null,
            "_view_module": "@jupyter-widgets/controls",
            "_view_module_version": "1.5.0",
            "_view_name": "HTMLView",
            "description": "",
            "description_tooltip": null,
            "layout": "IPY_MODEL_2f4e0ccf540347588db7cf5aed978498",
            "placeholder": "​",
            "style": "IPY_MODEL_fb587959b72e488b9ff752616725658a",
            "value": " 53.0/53.0 [00:00&lt;00:00, 1.23kB/s]"
          }
        },
        "ab79c363851646ee8d8cf779e4e30907": {
          "model_module": "@jupyter-widgets/base",
          "model_name": "LayoutModel",
          "model_module_version": "1.2.0",
          "state": {
            "_model_module": "@jupyter-widgets/base",
            "_model_module_version": "1.2.0",
            "_model_name": "LayoutModel",
            "_view_count": null,
            "_view_module": "@jupyter-widgets/base",
            "_view_module_version": "1.2.0",
            "_view_name": "LayoutView",
            "align_content": null,
            "align_items": null,
            "align_self": null,
            "border": null,
            "bottom": null,
            "display": null,
            "flex": null,
            "flex_flow": null,
            "grid_area": null,
            "grid_auto_columns": null,
            "grid_auto_flow": null,
            "grid_auto_rows": null,
            "grid_column": null,
            "grid_gap": null,
            "grid_row": null,
            "grid_template_areas": null,
            "grid_template_columns": null,
            "grid_template_rows": null,
            "height": null,
            "justify_content": null,
            "justify_items": null,
            "left": null,
            "margin": null,
            "max_height": null,
            "max_width": null,
            "min_height": null,
            "min_width": null,
            "object_fit": null,
            "object_position": null,
            "order": null,
            "overflow": null,
            "overflow_x": null,
            "overflow_y": null,
            "padding": null,
            "right": null,
            "top": null,
            "visibility": null,
            "width": null
          }
        },
        "1dfaf8180e1a4083a0156ee1776e8729": {
          "model_module": "@jupyter-widgets/base",
          "model_name": "LayoutModel",
          "model_module_version": "1.2.0",
          "state": {
            "_model_module": "@jupyter-widgets/base",
            "_model_module_version": "1.2.0",
            "_model_name": "LayoutModel",
            "_view_count": null,
            "_view_module": "@jupyter-widgets/base",
            "_view_module_version": "1.2.0",
            "_view_name": "LayoutView",
            "align_content": null,
            "align_items": null,
            "align_self": null,
            "border": null,
            "bottom": null,
            "display": null,
            "flex": null,
            "flex_flow": null,
            "grid_area": null,
            "grid_auto_columns": null,
            "grid_auto_flow": null,
            "grid_auto_rows": null,
            "grid_column": null,
            "grid_gap": null,
            "grid_row": null,
            "grid_template_areas": null,
            "grid_template_columns": null,
            "grid_template_rows": null,
            "height": null,
            "justify_content": null,
            "justify_items": null,
            "left": null,
            "margin": null,
            "max_height": null,
            "max_width": null,
            "min_height": null,
            "min_width": null,
            "object_fit": null,
            "object_position": null,
            "order": null,
            "overflow": null,
            "overflow_x": null,
            "overflow_y": null,
            "padding": null,
            "right": null,
            "top": null,
            "visibility": null,
            "width": null
          }
        },
        "4f2df7ef80c142ae8e98502676a3287e": {
          "model_module": "@jupyter-widgets/controls",
          "model_name": "DescriptionStyleModel",
          "model_module_version": "1.5.0",
          "state": {
            "_model_module": "@jupyter-widgets/controls",
            "_model_module_version": "1.5.0",
            "_model_name": "DescriptionStyleModel",
            "_view_count": null,
            "_view_module": "@jupyter-widgets/base",
            "_view_module_version": "1.2.0",
            "_view_name": "StyleView",
            "description_width": ""
          }
        },
        "bf2bbf805802490da3cc8e8950deab30": {
          "model_module": "@jupyter-widgets/base",
          "model_name": "LayoutModel",
          "model_module_version": "1.2.0",
          "state": {
            "_model_module": "@jupyter-widgets/base",
            "_model_module_version": "1.2.0",
            "_model_name": "LayoutModel",
            "_view_count": null,
            "_view_module": "@jupyter-widgets/base",
            "_view_module_version": "1.2.0",
            "_view_name": "LayoutView",
            "align_content": null,
            "align_items": null,
            "align_self": null,
            "border": null,
            "bottom": null,
            "display": null,
            "flex": null,
            "flex_flow": null,
            "grid_area": null,
            "grid_auto_columns": null,
            "grid_auto_flow": null,
            "grid_auto_rows": null,
            "grid_column": null,
            "grid_gap": null,
            "grid_row": null,
            "grid_template_areas": null,
            "grid_template_columns": null,
            "grid_template_rows": null,
            "height": null,
            "justify_content": null,
            "justify_items": null,
            "left": null,
            "margin": null,
            "max_height": null,
            "max_width": null,
            "min_height": null,
            "min_width": null,
            "object_fit": null,
            "object_position": null,
            "order": null,
            "overflow": null,
            "overflow_x": null,
            "overflow_y": null,
            "padding": null,
            "right": null,
            "top": null,
            "visibility": null,
            "width": null
          }
        },
        "02657c6cd6574284a12f93a7041c7ff9": {
          "model_module": "@jupyter-widgets/controls",
          "model_name": "ProgressStyleModel",
          "model_module_version": "1.5.0",
          "state": {
            "_model_module": "@jupyter-widgets/controls",
            "_model_module_version": "1.5.0",
            "_model_name": "ProgressStyleModel",
            "_view_count": null,
            "_view_module": "@jupyter-widgets/base",
            "_view_module_version": "1.2.0",
            "_view_name": "StyleView",
            "bar_color": null,
            "description_width": ""
          }
        },
        "2f4e0ccf540347588db7cf5aed978498": {
          "model_module": "@jupyter-widgets/base",
          "model_name": "LayoutModel",
          "model_module_version": "1.2.0",
          "state": {
            "_model_module": "@jupyter-widgets/base",
            "_model_module_version": "1.2.0",
            "_model_name": "LayoutModel",
            "_view_count": null,
            "_view_module": "@jupyter-widgets/base",
            "_view_module_version": "1.2.0",
            "_view_name": "LayoutView",
            "align_content": null,
            "align_items": null,
            "align_self": null,
            "border": null,
            "bottom": null,
            "display": null,
            "flex": null,
            "flex_flow": null,
            "grid_area": null,
            "grid_auto_columns": null,
            "grid_auto_flow": null,
            "grid_auto_rows": null,
            "grid_column": null,
            "grid_gap": null,
            "grid_row": null,
            "grid_template_areas": null,
            "grid_template_columns": null,
            "grid_template_rows": null,
            "height": null,
            "justify_content": null,
            "justify_items": null,
            "left": null,
            "margin": null,
            "max_height": null,
            "max_width": null,
            "min_height": null,
            "min_width": null,
            "object_fit": null,
            "object_position": null,
            "order": null,
            "overflow": null,
            "overflow_x": null,
            "overflow_y": null,
            "padding": null,
            "right": null,
            "top": null,
            "visibility": null,
            "width": null
          }
        },
        "fb587959b72e488b9ff752616725658a": {
          "model_module": "@jupyter-widgets/controls",
          "model_name": "DescriptionStyleModel",
          "model_module_version": "1.5.0",
          "state": {
            "_model_module": "@jupyter-widgets/controls",
            "_model_module_version": "1.5.0",
            "_model_name": "DescriptionStyleModel",
            "_view_count": null,
            "_view_module": "@jupyter-widgets/base",
            "_view_module_version": "1.2.0",
            "_view_name": "StyleView",
            "description_width": ""
          }
        },
        "7a5414f8bca146e1ae86b6efcbb9abb8": {
          "model_module": "@jupyter-widgets/controls",
          "model_name": "HBoxModel",
          "model_module_version": "1.5.0",
          "state": {
            "_dom_classes": [],
            "_model_module": "@jupyter-widgets/controls",
            "_model_module_version": "1.5.0",
            "_model_name": "HBoxModel",
            "_view_count": null,
            "_view_module": "@jupyter-widgets/controls",
            "_view_module_version": "1.5.0",
            "_view_name": "HBoxView",
            "box_style": "",
            "children": [
              "IPY_MODEL_d17894abe254462e9e245b145cc86723",
              "IPY_MODEL_851377d39958472e84963257cde6b5c4",
              "IPY_MODEL_b950bed6d69044a7abd3e5a4aa5704c6"
            ],
            "layout": "IPY_MODEL_b296261641ed4824af8f46e0cb0b43c0"
          }
        },
        "d17894abe254462e9e245b145cc86723": {
          "model_module": "@jupyter-widgets/controls",
          "model_name": "HTMLModel",
          "model_module_version": "1.5.0",
          "state": {
            "_dom_classes": [],
            "_model_module": "@jupyter-widgets/controls",
            "_model_module_version": "1.5.0",
            "_model_name": "HTMLModel",
            "_view_count": null,
            "_view_module": "@jupyter-widgets/controls",
            "_view_module_version": "1.5.0",
            "_view_name": "HTMLView",
            "description": "",
            "description_tooltip": null,
            "layout": "IPY_MODEL_df1e37589b6e44b2a8ed9729d6b6fb1c",
            "placeholder": "​",
            "style": "IPY_MODEL_c37a6f90399449e59db7099b24747774",
            "value": "config.json: 100%"
          }
        },
        "851377d39958472e84963257cde6b5c4": {
          "model_module": "@jupyter-widgets/controls",
          "model_name": "FloatProgressModel",
          "model_module_version": "1.5.0",
          "state": {
            "_dom_classes": [],
            "_model_module": "@jupyter-widgets/controls",
            "_model_module_version": "1.5.0",
            "_model_name": "FloatProgressModel",
            "_view_count": null,
            "_view_module": "@jupyter-widgets/controls",
            "_view_module_version": "1.5.0",
            "_view_name": "ProgressView",
            "bar_style": "success",
            "description": "",
            "description_tooltip": null,
            "layout": "IPY_MODEL_d7ee2853b3814faea1e29654504b99fc",
            "max": 612,
            "min": 0,
            "orientation": "horizontal",
            "style": "IPY_MODEL_095470094e004704b7a39bf65d8a10f7",
            "value": 612
          }
        },
        "b950bed6d69044a7abd3e5a4aa5704c6": {
          "model_module": "@jupyter-widgets/controls",
          "model_name": "HTMLModel",
          "model_module_version": "1.5.0",
          "state": {
            "_dom_classes": [],
            "_model_module": "@jupyter-widgets/controls",
            "_model_module_version": "1.5.0",
            "_model_name": "HTMLModel",
            "_view_count": null,
            "_view_module": "@jupyter-widgets/controls",
            "_view_module_version": "1.5.0",
            "_view_name": "HTMLView",
            "description": "",
            "description_tooltip": null,
            "layout": "IPY_MODEL_f1ec8e4bdb6f45089aee7601607b6580",
            "placeholder": "​",
            "style": "IPY_MODEL_4d1b14da4a6947bdb91a597d748822df",
            "value": " 612/612 [00:00&lt;00:00, 14.6kB/s]"
          }
        },
        "b296261641ed4824af8f46e0cb0b43c0": {
          "model_module": "@jupyter-widgets/base",
          "model_name": "LayoutModel",
          "model_module_version": "1.2.0",
          "state": {
            "_model_module": "@jupyter-widgets/base",
            "_model_module_version": "1.2.0",
            "_model_name": "LayoutModel",
            "_view_count": null,
            "_view_module": "@jupyter-widgets/base",
            "_view_module_version": "1.2.0",
            "_view_name": "LayoutView",
            "align_content": null,
            "align_items": null,
            "align_self": null,
            "border": null,
            "bottom": null,
            "display": null,
            "flex": null,
            "flex_flow": null,
            "grid_area": null,
            "grid_auto_columns": null,
            "grid_auto_flow": null,
            "grid_auto_rows": null,
            "grid_column": null,
            "grid_gap": null,
            "grid_row": null,
            "grid_template_areas": null,
            "grid_template_columns": null,
            "grid_template_rows": null,
            "height": null,
            "justify_content": null,
            "justify_items": null,
            "left": null,
            "margin": null,
            "max_height": null,
            "max_width": null,
            "min_height": null,
            "min_width": null,
            "object_fit": null,
            "object_position": null,
            "order": null,
            "overflow": null,
            "overflow_x": null,
            "overflow_y": null,
            "padding": null,
            "right": null,
            "top": null,
            "visibility": null,
            "width": null
          }
        },
        "df1e37589b6e44b2a8ed9729d6b6fb1c": {
          "model_module": "@jupyter-widgets/base",
          "model_name": "LayoutModel",
          "model_module_version": "1.2.0",
          "state": {
            "_model_module": "@jupyter-widgets/base",
            "_model_module_version": "1.2.0",
            "_model_name": "LayoutModel",
            "_view_count": null,
            "_view_module": "@jupyter-widgets/base",
            "_view_module_version": "1.2.0",
            "_view_name": "LayoutView",
            "align_content": null,
            "align_items": null,
            "align_self": null,
            "border": null,
            "bottom": null,
            "display": null,
            "flex": null,
            "flex_flow": null,
            "grid_area": null,
            "grid_auto_columns": null,
            "grid_auto_flow": null,
            "grid_auto_rows": null,
            "grid_column": null,
            "grid_gap": null,
            "grid_row": null,
            "grid_template_areas": null,
            "grid_template_columns": null,
            "grid_template_rows": null,
            "height": null,
            "justify_content": null,
            "justify_items": null,
            "left": null,
            "margin": null,
            "max_height": null,
            "max_width": null,
            "min_height": null,
            "min_width": null,
            "object_fit": null,
            "object_position": null,
            "order": null,
            "overflow": null,
            "overflow_x": null,
            "overflow_y": null,
            "padding": null,
            "right": null,
            "top": null,
            "visibility": null,
            "width": null
          }
        },
        "c37a6f90399449e59db7099b24747774": {
          "model_module": "@jupyter-widgets/controls",
          "model_name": "DescriptionStyleModel",
          "model_module_version": "1.5.0",
          "state": {
            "_model_module": "@jupyter-widgets/controls",
            "_model_module_version": "1.5.0",
            "_model_name": "DescriptionStyleModel",
            "_view_count": null,
            "_view_module": "@jupyter-widgets/base",
            "_view_module_version": "1.2.0",
            "_view_name": "StyleView",
            "description_width": ""
          }
        },
        "d7ee2853b3814faea1e29654504b99fc": {
          "model_module": "@jupyter-widgets/base",
          "model_name": "LayoutModel",
          "model_module_version": "1.2.0",
          "state": {
            "_model_module": "@jupyter-widgets/base",
            "_model_module_version": "1.2.0",
            "_model_name": "LayoutModel",
            "_view_count": null,
            "_view_module": "@jupyter-widgets/base",
            "_view_module_version": "1.2.0",
            "_view_name": "LayoutView",
            "align_content": null,
            "align_items": null,
            "align_self": null,
            "border": null,
            "bottom": null,
            "display": null,
            "flex": null,
            "flex_flow": null,
            "grid_area": null,
            "grid_auto_columns": null,
            "grid_auto_flow": null,
            "grid_auto_rows": null,
            "grid_column": null,
            "grid_gap": null,
            "grid_row": null,
            "grid_template_areas": null,
            "grid_template_columns": null,
            "grid_template_rows": null,
            "height": null,
            "justify_content": null,
            "justify_items": null,
            "left": null,
            "margin": null,
            "max_height": null,
            "max_width": null,
            "min_height": null,
            "min_width": null,
            "object_fit": null,
            "object_position": null,
            "order": null,
            "overflow": null,
            "overflow_x": null,
            "overflow_y": null,
            "padding": null,
            "right": null,
            "top": null,
            "visibility": null,
            "width": null
          }
        },
        "095470094e004704b7a39bf65d8a10f7": {
          "model_module": "@jupyter-widgets/controls",
          "model_name": "ProgressStyleModel",
          "model_module_version": "1.5.0",
          "state": {
            "_model_module": "@jupyter-widgets/controls",
            "_model_module_version": "1.5.0",
            "_model_name": "ProgressStyleModel",
            "_view_count": null,
            "_view_module": "@jupyter-widgets/base",
            "_view_module_version": "1.2.0",
            "_view_name": "StyleView",
            "bar_color": null,
            "description_width": ""
          }
        },
        "f1ec8e4bdb6f45089aee7601607b6580": {
          "model_module": "@jupyter-widgets/base",
          "model_name": "LayoutModel",
          "model_module_version": "1.2.0",
          "state": {
            "_model_module": "@jupyter-widgets/base",
            "_model_module_version": "1.2.0",
            "_model_name": "LayoutModel",
            "_view_count": null,
            "_view_module": "@jupyter-widgets/base",
            "_view_module_version": "1.2.0",
            "_view_name": "LayoutView",
            "align_content": null,
            "align_items": null,
            "align_self": null,
            "border": null,
            "bottom": null,
            "display": null,
            "flex": null,
            "flex_flow": null,
            "grid_area": null,
            "grid_auto_columns": null,
            "grid_auto_flow": null,
            "grid_auto_rows": null,
            "grid_column": null,
            "grid_gap": null,
            "grid_row": null,
            "grid_template_areas": null,
            "grid_template_columns": null,
            "grid_template_rows": null,
            "height": null,
            "justify_content": null,
            "justify_items": null,
            "left": null,
            "margin": null,
            "max_height": null,
            "max_width": null,
            "min_height": null,
            "min_width": null,
            "object_fit": null,
            "object_position": null,
            "order": null,
            "overflow": null,
            "overflow_x": null,
            "overflow_y": null,
            "padding": null,
            "right": null,
            "top": null,
            "visibility": null,
            "width": null
          }
        },
        "4d1b14da4a6947bdb91a597d748822df": {
          "model_module": "@jupyter-widgets/controls",
          "model_name": "DescriptionStyleModel",
          "model_module_version": "1.5.0",
          "state": {
            "_model_module": "@jupyter-widgets/controls",
            "_model_module_version": "1.5.0",
            "_model_name": "DescriptionStyleModel",
            "_view_count": null,
            "_view_module": "@jupyter-widgets/base",
            "_view_module_version": "1.2.0",
            "_view_name": "StyleView",
            "description_width": ""
          }
        },
        "29d23ad41209447d8c55be2600239ee4": {
          "model_module": "@jupyter-widgets/controls",
          "model_name": "HBoxModel",
          "model_module_version": "1.5.0",
          "state": {
            "_dom_classes": [],
            "_model_module": "@jupyter-widgets/controls",
            "_model_module_version": "1.5.0",
            "_model_name": "HBoxModel",
            "_view_count": null,
            "_view_module": "@jupyter-widgets/controls",
            "_view_module_version": "1.5.0",
            "_view_name": "HBoxView",
            "box_style": "",
            "children": [
              "IPY_MODEL_d196f734c30c48599749ecf7316f8469",
              "IPY_MODEL_4451bbe609994068b5b183b27106cc5d",
              "IPY_MODEL_5e4f43caa081450a8098bcb4f9b42da4"
            ],
            "layout": "IPY_MODEL_0b22b4c1a3ce4d2281f6755fab4eca9a"
          }
        },
        "d196f734c30c48599749ecf7316f8469": {
          "model_module": "@jupyter-widgets/controls",
          "model_name": "HTMLModel",
          "model_module_version": "1.5.0",
          "state": {
            "_dom_classes": [],
            "_model_module": "@jupyter-widgets/controls",
            "_model_module_version": "1.5.0",
            "_model_name": "HTMLModel",
            "_view_count": null,
            "_view_module": "@jupyter-widgets/controls",
            "_view_module_version": "1.5.0",
            "_view_name": "HTMLView",
            "description": "",
            "description_tooltip": null,
            "layout": "IPY_MODEL_7655260846884729959a08f88b45e951",
            "placeholder": "​",
            "style": "IPY_MODEL_5bc1cba71eaa4150a95174a3f626259b",
            "value": "model.safetensors: 100%"
          }
        },
        "4451bbe609994068b5b183b27106cc5d": {
          "model_module": "@jupyter-widgets/controls",
          "model_name": "FloatProgressModel",
          "model_module_version": "1.5.0",
          "state": {
            "_dom_classes": [],
            "_model_module": "@jupyter-widgets/controls",
            "_model_module_version": "1.5.0",
            "_model_name": "FloatProgressModel",
            "_view_count": null,
            "_view_module": "@jupyter-widgets/controls",
            "_view_module_version": "1.5.0",
            "_view_name": "ProgressView",
            "bar_style": "success",
            "description": "",
            "description_tooltip": null,
            "layout": "IPY_MODEL_46edb5858c6f49d580023b822db189f8",
            "max": 90868376,
            "min": 0,
            "orientation": "horizontal",
            "style": "IPY_MODEL_8444ece1d0b44fbeaf6f7d2e0dfc620c",
            "value": 90868376
          }
        },
        "5e4f43caa081450a8098bcb4f9b42da4": {
          "model_module": "@jupyter-widgets/controls",
          "model_name": "HTMLModel",
          "model_module_version": "1.5.0",
          "state": {
            "_dom_classes": [],
            "_model_module": "@jupyter-widgets/controls",
            "_model_module_version": "1.5.0",
            "_model_name": "HTMLModel",
            "_view_count": null,
            "_view_module": "@jupyter-widgets/controls",
            "_view_module_version": "1.5.0",
            "_view_name": "HTMLView",
            "description": "",
            "description_tooltip": null,
            "layout": "IPY_MODEL_e98cef2a8bb34a58b598bf1b1eff0a1e",
            "placeholder": "​",
            "style": "IPY_MODEL_d4c3018b4ee34245a6115349e05a02ec",
            "value": " 90.9M/90.9M [00:01&lt;00:00, 114MB/s]"
          }
        },
        "0b22b4c1a3ce4d2281f6755fab4eca9a": {
          "model_module": "@jupyter-widgets/base",
          "model_name": "LayoutModel",
          "model_module_version": "1.2.0",
          "state": {
            "_model_module": "@jupyter-widgets/base",
            "_model_module_version": "1.2.0",
            "_model_name": "LayoutModel",
            "_view_count": null,
            "_view_module": "@jupyter-widgets/base",
            "_view_module_version": "1.2.0",
            "_view_name": "LayoutView",
            "align_content": null,
            "align_items": null,
            "align_self": null,
            "border": null,
            "bottom": null,
            "display": null,
            "flex": null,
            "flex_flow": null,
            "grid_area": null,
            "grid_auto_columns": null,
            "grid_auto_flow": null,
            "grid_auto_rows": null,
            "grid_column": null,
            "grid_gap": null,
            "grid_row": null,
            "grid_template_areas": null,
            "grid_template_columns": null,
            "grid_template_rows": null,
            "height": null,
            "justify_content": null,
            "justify_items": null,
            "left": null,
            "margin": null,
            "max_height": null,
            "max_width": null,
            "min_height": null,
            "min_width": null,
            "object_fit": null,
            "object_position": null,
            "order": null,
            "overflow": null,
            "overflow_x": null,
            "overflow_y": null,
            "padding": null,
            "right": null,
            "top": null,
            "visibility": null,
            "width": null
          }
        },
        "7655260846884729959a08f88b45e951": {
          "model_module": "@jupyter-widgets/base",
          "model_name": "LayoutModel",
          "model_module_version": "1.2.0",
          "state": {
            "_model_module": "@jupyter-widgets/base",
            "_model_module_version": "1.2.0",
            "_model_name": "LayoutModel",
            "_view_count": null,
            "_view_module": "@jupyter-widgets/base",
            "_view_module_version": "1.2.0",
            "_view_name": "LayoutView",
            "align_content": null,
            "align_items": null,
            "align_self": null,
            "border": null,
            "bottom": null,
            "display": null,
            "flex": null,
            "flex_flow": null,
            "grid_area": null,
            "grid_auto_columns": null,
            "grid_auto_flow": null,
            "grid_auto_rows": null,
            "grid_column": null,
            "grid_gap": null,
            "grid_row": null,
            "grid_template_areas": null,
            "grid_template_columns": null,
            "grid_template_rows": null,
            "height": null,
            "justify_content": null,
            "justify_items": null,
            "left": null,
            "margin": null,
            "max_height": null,
            "max_width": null,
            "min_height": null,
            "min_width": null,
            "object_fit": null,
            "object_position": null,
            "order": null,
            "overflow": null,
            "overflow_x": null,
            "overflow_y": null,
            "padding": null,
            "right": null,
            "top": null,
            "visibility": null,
            "width": null
          }
        },
        "5bc1cba71eaa4150a95174a3f626259b": {
          "model_module": "@jupyter-widgets/controls",
          "model_name": "DescriptionStyleModel",
          "model_module_version": "1.5.0",
          "state": {
            "_model_module": "@jupyter-widgets/controls",
            "_model_module_version": "1.5.0",
            "_model_name": "DescriptionStyleModel",
            "_view_count": null,
            "_view_module": "@jupyter-widgets/base",
            "_view_module_version": "1.2.0",
            "_view_name": "StyleView",
            "description_width": ""
          }
        },
        "46edb5858c6f49d580023b822db189f8": {
          "model_module": "@jupyter-widgets/base",
          "model_name": "LayoutModel",
          "model_module_version": "1.2.0",
          "state": {
            "_model_module": "@jupyter-widgets/base",
            "_model_module_version": "1.2.0",
            "_model_name": "LayoutModel",
            "_view_count": null,
            "_view_module": "@jupyter-widgets/base",
            "_view_module_version": "1.2.0",
            "_view_name": "LayoutView",
            "align_content": null,
            "align_items": null,
            "align_self": null,
            "border": null,
            "bottom": null,
            "display": null,
            "flex": null,
            "flex_flow": null,
            "grid_area": null,
            "grid_auto_columns": null,
            "grid_auto_flow": null,
            "grid_auto_rows": null,
            "grid_column": null,
            "grid_gap": null,
            "grid_row": null,
            "grid_template_areas": null,
            "grid_template_columns": null,
            "grid_template_rows": null,
            "height": null,
            "justify_content": null,
            "justify_items": null,
            "left": null,
            "margin": null,
            "max_height": null,
            "max_width": null,
            "min_height": null,
            "min_width": null,
            "object_fit": null,
            "object_position": null,
            "order": null,
            "overflow": null,
            "overflow_x": null,
            "overflow_y": null,
            "padding": null,
            "right": null,
            "top": null,
            "visibility": null,
            "width": null
          }
        },
        "8444ece1d0b44fbeaf6f7d2e0dfc620c": {
          "model_module": "@jupyter-widgets/controls",
          "model_name": "ProgressStyleModel",
          "model_module_version": "1.5.0",
          "state": {
            "_model_module": "@jupyter-widgets/controls",
            "_model_module_version": "1.5.0",
            "_model_name": "ProgressStyleModel",
            "_view_count": null,
            "_view_module": "@jupyter-widgets/base",
            "_view_module_version": "1.2.0",
            "_view_name": "StyleView",
            "bar_color": null,
            "description_width": ""
          }
        },
        "e98cef2a8bb34a58b598bf1b1eff0a1e": {
          "model_module": "@jupyter-widgets/base",
          "model_name": "LayoutModel",
          "model_module_version": "1.2.0",
          "state": {
            "_model_module": "@jupyter-widgets/base",
            "_model_module_version": "1.2.0",
            "_model_name": "LayoutModel",
            "_view_count": null,
            "_view_module": "@jupyter-widgets/base",
            "_view_module_version": "1.2.0",
            "_view_name": "LayoutView",
            "align_content": null,
            "align_items": null,
            "align_self": null,
            "border": null,
            "bottom": null,
            "display": null,
            "flex": null,
            "flex_flow": null,
            "grid_area": null,
            "grid_auto_columns": null,
            "grid_auto_flow": null,
            "grid_auto_rows": null,
            "grid_column": null,
            "grid_gap": null,
            "grid_row": null,
            "grid_template_areas": null,
            "grid_template_columns": null,
            "grid_template_rows": null,
            "height": null,
            "justify_content": null,
            "justify_items": null,
            "left": null,
            "margin": null,
            "max_height": null,
            "max_width": null,
            "min_height": null,
            "min_width": null,
            "object_fit": null,
            "object_position": null,
            "order": null,
            "overflow": null,
            "overflow_x": null,
            "overflow_y": null,
            "padding": null,
            "right": null,
            "top": null,
            "visibility": null,
            "width": null
          }
        },
        "d4c3018b4ee34245a6115349e05a02ec": {
          "model_module": "@jupyter-widgets/controls",
          "model_name": "DescriptionStyleModel",
          "model_module_version": "1.5.0",
          "state": {
            "_model_module": "@jupyter-widgets/controls",
            "_model_module_version": "1.5.0",
            "_model_name": "DescriptionStyleModel",
            "_view_count": null,
            "_view_module": "@jupyter-widgets/base",
            "_view_module_version": "1.2.0",
            "_view_name": "StyleView",
            "description_width": ""
          }
        },
        "c40a5a790d47400092c5a2519fb21604": {
          "model_module": "@jupyter-widgets/controls",
          "model_name": "HBoxModel",
          "model_module_version": "1.5.0",
          "state": {
            "_dom_classes": [],
            "_model_module": "@jupyter-widgets/controls",
            "_model_module_version": "1.5.0",
            "_model_name": "HBoxModel",
            "_view_count": null,
            "_view_module": "@jupyter-widgets/controls",
            "_view_module_version": "1.5.0",
            "_view_name": "HBoxView",
            "box_style": "",
            "children": [
              "IPY_MODEL_b0dca0bb081b405e8ebb02abe02d75df",
              "IPY_MODEL_9e256bd547c84d67b5e8b46354a2bac6",
              "IPY_MODEL_1e04f1eedee04440a6a3bbfa782d6f8e"
            ],
            "layout": "IPY_MODEL_df008ecbcc3e47fdb815531a628aadb9"
          }
        },
        "b0dca0bb081b405e8ebb02abe02d75df": {
          "model_module": "@jupyter-widgets/controls",
          "model_name": "HTMLModel",
          "model_module_version": "1.5.0",
          "state": {
            "_dom_classes": [],
            "_model_module": "@jupyter-widgets/controls",
            "_model_module_version": "1.5.0",
            "_model_name": "HTMLModel",
            "_view_count": null,
            "_view_module": "@jupyter-widgets/controls",
            "_view_module_version": "1.5.0",
            "_view_name": "HTMLView",
            "description": "",
            "description_tooltip": null,
            "layout": "IPY_MODEL_e7ffe2ab5f9d4d1ebcb7a60eaa194104",
            "placeholder": "​",
            "style": "IPY_MODEL_bd1e228f66c84b95a5fb908bcdd6aa0e",
            "value": "tokenizer_config.json: 100%"
          }
        },
        "9e256bd547c84d67b5e8b46354a2bac6": {
          "model_module": "@jupyter-widgets/controls",
          "model_name": "FloatProgressModel",
          "model_module_version": "1.5.0",
          "state": {
            "_dom_classes": [],
            "_model_module": "@jupyter-widgets/controls",
            "_model_module_version": "1.5.0",
            "_model_name": "FloatProgressModel",
            "_view_count": null,
            "_view_module": "@jupyter-widgets/controls",
            "_view_module_version": "1.5.0",
            "_view_name": "ProgressView",
            "bar_style": "success",
            "description": "",
            "description_tooltip": null,
            "layout": "IPY_MODEL_7322012d3ebc4d3c994ad420f28f53fe",
            "max": 350,
            "min": 0,
            "orientation": "horizontal",
            "style": "IPY_MODEL_342a7d6d61cb4ba19d549449eb41bcb5",
            "value": 350
          }
        },
        "1e04f1eedee04440a6a3bbfa782d6f8e": {
          "model_module": "@jupyter-widgets/controls",
          "model_name": "HTMLModel",
          "model_module_version": "1.5.0",
          "state": {
            "_dom_classes": [],
            "_model_module": "@jupyter-widgets/controls",
            "_model_module_version": "1.5.0",
            "_model_name": "HTMLModel",
            "_view_count": null,
            "_view_module": "@jupyter-widgets/controls",
            "_view_module_version": "1.5.0",
            "_view_name": "HTMLView",
            "description": "",
            "description_tooltip": null,
            "layout": "IPY_MODEL_fc749d3be10b4d05a0e0442f063354d7",
            "placeholder": "​",
            "style": "IPY_MODEL_5035bac18b4546e8835f7f6001d54a28",
            "value": " 350/350 [00:00&lt;00:00, 15.4kB/s]"
          }
        },
        "df008ecbcc3e47fdb815531a628aadb9": {
          "model_module": "@jupyter-widgets/base",
          "model_name": "LayoutModel",
          "model_module_version": "1.2.0",
          "state": {
            "_model_module": "@jupyter-widgets/base",
            "_model_module_version": "1.2.0",
            "_model_name": "LayoutModel",
            "_view_count": null,
            "_view_module": "@jupyter-widgets/base",
            "_view_module_version": "1.2.0",
            "_view_name": "LayoutView",
            "align_content": null,
            "align_items": null,
            "align_self": null,
            "border": null,
            "bottom": null,
            "display": null,
            "flex": null,
            "flex_flow": null,
            "grid_area": null,
            "grid_auto_columns": null,
            "grid_auto_flow": null,
            "grid_auto_rows": null,
            "grid_column": null,
            "grid_gap": null,
            "grid_row": null,
            "grid_template_areas": null,
            "grid_template_columns": null,
            "grid_template_rows": null,
            "height": null,
            "justify_content": null,
            "justify_items": null,
            "left": null,
            "margin": null,
            "max_height": null,
            "max_width": null,
            "min_height": null,
            "min_width": null,
            "object_fit": null,
            "object_position": null,
            "order": null,
            "overflow": null,
            "overflow_x": null,
            "overflow_y": null,
            "padding": null,
            "right": null,
            "top": null,
            "visibility": null,
            "width": null
          }
        },
        "e7ffe2ab5f9d4d1ebcb7a60eaa194104": {
          "model_module": "@jupyter-widgets/base",
          "model_name": "LayoutModel",
          "model_module_version": "1.2.0",
          "state": {
            "_model_module": "@jupyter-widgets/base",
            "_model_module_version": "1.2.0",
            "_model_name": "LayoutModel",
            "_view_count": null,
            "_view_module": "@jupyter-widgets/base",
            "_view_module_version": "1.2.0",
            "_view_name": "LayoutView",
            "align_content": null,
            "align_items": null,
            "align_self": null,
            "border": null,
            "bottom": null,
            "display": null,
            "flex": null,
            "flex_flow": null,
            "grid_area": null,
            "grid_auto_columns": null,
            "grid_auto_flow": null,
            "grid_auto_rows": null,
            "grid_column": null,
            "grid_gap": null,
            "grid_row": null,
            "grid_template_areas": null,
            "grid_template_columns": null,
            "grid_template_rows": null,
            "height": null,
            "justify_content": null,
            "justify_items": null,
            "left": null,
            "margin": null,
            "max_height": null,
            "max_width": null,
            "min_height": null,
            "min_width": null,
            "object_fit": null,
            "object_position": null,
            "order": null,
            "overflow": null,
            "overflow_x": null,
            "overflow_y": null,
            "padding": null,
            "right": null,
            "top": null,
            "visibility": null,
            "width": null
          }
        },
        "bd1e228f66c84b95a5fb908bcdd6aa0e": {
          "model_module": "@jupyter-widgets/controls",
          "model_name": "DescriptionStyleModel",
          "model_module_version": "1.5.0",
          "state": {
            "_model_module": "@jupyter-widgets/controls",
            "_model_module_version": "1.5.0",
            "_model_name": "DescriptionStyleModel",
            "_view_count": null,
            "_view_module": "@jupyter-widgets/base",
            "_view_module_version": "1.2.0",
            "_view_name": "StyleView",
            "description_width": ""
          }
        },
        "7322012d3ebc4d3c994ad420f28f53fe": {
          "model_module": "@jupyter-widgets/base",
          "model_name": "LayoutModel",
          "model_module_version": "1.2.0",
          "state": {
            "_model_module": "@jupyter-widgets/base",
            "_model_module_version": "1.2.0",
            "_model_name": "LayoutModel",
            "_view_count": null,
            "_view_module": "@jupyter-widgets/base",
            "_view_module_version": "1.2.0",
            "_view_name": "LayoutView",
            "align_content": null,
            "align_items": null,
            "align_self": null,
            "border": null,
            "bottom": null,
            "display": null,
            "flex": null,
            "flex_flow": null,
            "grid_area": null,
            "grid_auto_columns": null,
            "grid_auto_flow": null,
            "grid_auto_rows": null,
            "grid_column": null,
            "grid_gap": null,
            "grid_row": null,
            "grid_template_areas": null,
            "grid_template_columns": null,
            "grid_template_rows": null,
            "height": null,
            "justify_content": null,
            "justify_items": null,
            "left": null,
            "margin": null,
            "max_height": null,
            "max_width": null,
            "min_height": null,
            "min_width": null,
            "object_fit": null,
            "object_position": null,
            "order": null,
            "overflow": null,
            "overflow_x": null,
            "overflow_y": null,
            "padding": null,
            "right": null,
            "top": null,
            "visibility": null,
            "width": null
          }
        },
        "342a7d6d61cb4ba19d549449eb41bcb5": {
          "model_module": "@jupyter-widgets/controls",
          "model_name": "ProgressStyleModel",
          "model_module_version": "1.5.0",
          "state": {
            "_model_module": "@jupyter-widgets/controls",
            "_model_module_version": "1.5.0",
            "_model_name": "ProgressStyleModel",
            "_view_count": null,
            "_view_module": "@jupyter-widgets/base",
            "_view_module_version": "1.2.0",
            "_view_name": "StyleView",
            "bar_color": null,
            "description_width": ""
          }
        },
        "fc749d3be10b4d05a0e0442f063354d7": {
          "model_module": "@jupyter-widgets/base",
          "model_name": "LayoutModel",
          "model_module_version": "1.2.0",
          "state": {
            "_model_module": "@jupyter-widgets/base",
            "_model_module_version": "1.2.0",
            "_model_name": "LayoutModel",
            "_view_count": null,
            "_view_module": "@jupyter-widgets/base",
            "_view_module_version": "1.2.0",
            "_view_name": "LayoutView",
            "align_content": null,
            "align_items": null,
            "align_self": null,
            "border": null,
            "bottom": null,
            "display": null,
            "flex": null,
            "flex_flow": null,
            "grid_area": null,
            "grid_auto_columns": null,
            "grid_auto_flow": null,
            "grid_auto_rows": null,
            "grid_column": null,
            "grid_gap": null,
            "grid_row": null,
            "grid_template_areas": null,
            "grid_template_columns": null,
            "grid_template_rows": null,
            "height": null,
            "justify_content": null,
            "justify_items": null,
            "left": null,
            "margin": null,
            "max_height": null,
            "max_width": null,
            "min_height": null,
            "min_width": null,
            "object_fit": null,
            "object_position": null,
            "order": null,
            "overflow": null,
            "overflow_x": null,
            "overflow_y": null,
            "padding": null,
            "right": null,
            "top": null,
            "visibility": null,
            "width": null
          }
        },
        "5035bac18b4546e8835f7f6001d54a28": {
          "model_module": "@jupyter-widgets/controls",
          "model_name": "DescriptionStyleModel",
          "model_module_version": "1.5.0",
          "state": {
            "_model_module": "@jupyter-widgets/controls",
            "_model_module_version": "1.5.0",
            "_model_name": "DescriptionStyleModel",
            "_view_count": null,
            "_view_module": "@jupyter-widgets/base",
            "_view_module_version": "1.2.0",
            "_view_name": "StyleView",
            "description_width": ""
          }
        },
        "494d3480a6b349fd8a105d6570e7244f": {
          "model_module": "@jupyter-widgets/controls",
          "model_name": "HBoxModel",
          "model_module_version": "1.5.0",
          "state": {
            "_dom_classes": [],
            "_model_module": "@jupyter-widgets/controls",
            "_model_module_version": "1.5.0",
            "_model_name": "HBoxModel",
            "_view_count": null,
            "_view_module": "@jupyter-widgets/controls",
            "_view_module_version": "1.5.0",
            "_view_name": "HBoxView",
            "box_style": "",
            "children": [
              "IPY_MODEL_eadcd9b45ab54215b96903a93cd06996",
              "IPY_MODEL_1a82c66b46034e72a050755d14b98976",
              "IPY_MODEL_b8deb408339648f18378066cbdd3fc9e"
            ],
            "layout": "IPY_MODEL_02b9c4ef04ff46ffb3b1e4c5e7b25e20"
          }
        },
        "eadcd9b45ab54215b96903a93cd06996": {
          "model_module": "@jupyter-widgets/controls",
          "model_name": "HTMLModel",
          "model_module_version": "1.5.0",
          "state": {
            "_dom_classes": [],
            "_model_module": "@jupyter-widgets/controls",
            "_model_module_version": "1.5.0",
            "_model_name": "HTMLModel",
            "_view_count": null,
            "_view_module": "@jupyter-widgets/controls",
            "_view_module_version": "1.5.0",
            "_view_name": "HTMLView",
            "description": "",
            "description_tooltip": null,
            "layout": "IPY_MODEL_696c09078c454792aa69a50eebea3343",
            "placeholder": "​",
            "style": "IPY_MODEL_64283e5af33342f092688d88c43aaa82",
            "value": "vocab.txt: 100%"
          }
        },
        "1a82c66b46034e72a050755d14b98976": {
          "model_module": "@jupyter-widgets/controls",
          "model_name": "FloatProgressModel",
          "model_module_version": "1.5.0",
          "state": {
            "_dom_classes": [],
            "_model_module": "@jupyter-widgets/controls",
            "_model_module_version": "1.5.0",
            "_model_name": "FloatProgressModel",
            "_view_count": null,
            "_view_module": "@jupyter-widgets/controls",
            "_view_module_version": "1.5.0",
            "_view_name": "ProgressView",
            "bar_style": "success",
            "description": "",
            "description_tooltip": null,
            "layout": "IPY_MODEL_7d1282c92eed4ccdb12f5023c139cd2b",
            "max": 231508,
            "min": 0,
            "orientation": "horizontal",
            "style": "IPY_MODEL_16636fa44e364e19acf778149cf32d63",
            "value": 231508
          }
        },
        "b8deb408339648f18378066cbdd3fc9e": {
          "model_module": "@jupyter-widgets/controls",
          "model_name": "HTMLModel",
          "model_module_version": "1.5.0",
          "state": {
            "_dom_classes": [],
            "_model_module": "@jupyter-widgets/controls",
            "_model_module_version": "1.5.0",
            "_model_name": "HTMLModel",
            "_view_count": null,
            "_view_module": "@jupyter-widgets/controls",
            "_view_module_version": "1.5.0",
            "_view_name": "HTMLView",
            "description": "",
            "description_tooltip": null,
            "layout": "IPY_MODEL_9d9eb8f45ad04e0eb712bc91fd8dd6f2",
            "placeholder": "​",
            "style": "IPY_MODEL_f8999995f04f4c41a6c93950e867da2e",
            "value": " 232k/232k [00:00&lt;00:00, 3.22MB/s]"
          }
        },
        "02b9c4ef04ff46ffb3b1e4c5e7b25e20": {
          "model_module": "@jupyter-widgets/base",
          "model_name": "LayoutModel",
          "model_module_version": "1.2.0",
          "state": {
            "_model_module": "@jupyter-widgets/base",
            "_model_module_version": "1.2.0",
            "_model_name": "LayoutModel",
            "_view_count": null,
            "_view_module": "@jupyter-widgets/base",
            "_view_module_version": "1.2.0",
            "_view_name": "LayoutView",
            "align_content": null,
            "align_items": null,
            "align_self": null,
            "border": null,
            "bottom": null,
            "display": null,
            "flex": null,
            "flex_flow": null,
            "grid_area": null,
            "grid_auto_columns": null,
            "grid_auto_flow": null,
            "grid_auto_rows": null,
            "grid_column": null,
            "grid_gap": null,
            "grid_row": null,
            "grid_template_areas": null,
            "grid_template_columns": null,
            "grid_template_rows": null,
            "height": null,
            "justify_content": null,
            "justify_items": null,
            "left": null,
            "margin": null,
            "max_height": null,
            "max_width": null,
            "min_height": null,
            "min_width": null,
            "object_fit": null,
            "object_position": null,
            "order": null,
            "overflow": null,
            "overflow_x": null,
            "overflow_y": null,
            "padding": null,
            "right": null,
            "top": null,
            "visibility": null,
            "width": null
          }
        },
        "696c09078c454792aa69a50eebea3343": {
          "model_module": "@jupyter-widgets/base",
          "model_name": "LayoutModel",
          "model_module_version": "1.2.0",
          "state": {
            "_model_module": "@jupyter-widgets/base",
            "_model_module_version": "1.2.0",
            "_model_name": "LayoutModel",
            "_view_count": null,
            "_view_module": "@jupyter-widgets/base",
            "_view_module_version": "1.2.0",
            "_view_name": "LayoutView",
            "align_content": null,
            "align_items": null,
            "align_self": null,
            "border": null,
            "bottom": null,
            "display": null,
            "flex": null,
            "flex_flow": null,
            "grid_area": null,
            "grid_auto_columns": null,
            "grid_auto_flow": null,
            "grid_auto_rows": null,
            "grid_column": null,
            "grid_gap": null,
            "grid_row": null,
            "grid_template_areas": null,
            "grid_template_columns": null,
            "grid_template_rows": null,
            "height": null,
            "justify_content": null,
            "justify_items": null,
            "left": null,
            "margin": null,
            "max_height": null,
            "max_width": null,
            "min_height": null,
            "min_width": null,
            "object_fit": null,
            "object_position": null,
            "order": null,
            "overflow": null,
            "overflow_x": null,
            "overflow_y": null,
            "padding": null,
            "right": null,
            "top": null,
            "visibility": null,
            "width": null
          }
        },
        "64283e5af33342f092688d88c43aaa82": {
          "model_module": "@jupyter-widgets/controls",
          "model_name": "DescriptionStyleModel",
          "model_module_version": "1.5.0",
          "state": {
            "_model_module": "@jupyter-widgets/controls",
            "_model_module_version": "1.5.0",
            "_model_name": "DescriptionStyleModel",
            "_view_count": null,
            "_view_module": "@jupyter-widgets/base",
            "_view_module_version": "1.2.0",
            "_view_name": "StyleView",
            "description_width": ""
          }
        },
        "7d1282c92eed4ccdb12f5023c139cd2b": {
          "model_module": "@jupyter-widgets/base",
          "model_name": "LayoutModel",
          "model_module_version": "1.2.0",
          "state": {
            "_model_module": "@jupyter-widgets/base",
            "_model_module_version": "1.2.0",
            "_model_name": "LayoutModel",
            "_view_count": null,
            "_view_module": "@jupyter-widgets/base",
            "_view_module_version": "1.2.0",
            "_view_name": "LayoutView",
            "align_content": null,
            "align_items": null,
            "align_self": null,
            "border": null,
            "bottom": null,
            "display": null,
            "flex": null,
            "flex_flow": null,
            "grid_area": null,
            "grid_auto_columns": null,
            "grid_auto_flow": null,
            "grid_auto_rows": null,
            "grid_column": null,
            "grid_gap": null,
            "grid_row": null,
            "grid_template_areas": null,
            "grid_template_columns": null,
            "grid_template_rows": null,
            "height": null,
            "justify_content": null,
            "justify_items": null,
            "left": null,
            "margin": null,
            "max_height": null,
            "max_width": null,
            "min_height": null,
            "min_width": null,
            "object_fit": null,
            "object_position": null,
            "order": null,
            "overflow": null,
            "overflow_x": null,
            "overflow_y": null,
            "padding": null,
            "right": null,
            "top": null,
            "visibility": null,
            "width": null
          }
        },
        "16636fa44e364e19acf778149cf32d63": {
          "model_module": "@jupyter-widgets/controls",
          "model_name": "ProgressStyleModel",
          "model_module_version": "1.5.0",
          "state": {
            "_model_module": "@jupyter-widgets/controls",
            "_model_module_version": "1.5.0",
            "_model_name": "ProgressStyleModel",
            "_view_count": null,
            "_view_module": "@jupyter-widgets/base",
            "_view_module_version": "1.2.0",
            "_view_name": "StyleView",
            "bar_color": null,
            "description_width": ""
          }
        },
        "9d9eb8f45ad04e0eb712bc91fd8dd6f2": {
          "model_module": "@jupyter-widgets/base",
          "model_name": "LayoutModel",
          "model_module_version": "1.2.0",
          "state": {
            "_model_module": "@jupyter-widgets/base",
            "_model_module_version": "1.2.0",
            "_model_name": "LayoutModel",
            "_view_count": null,
            "_view_module": "@jupyter-widgets/base",
            "_view_module_version": "1.2.0",
            "_view_name": "LayoutView",
            "align_content": null,
            "align_items": null,
            "align_self": null,
            "border": null,
            "bottom": null,
            "display": null,
            "flex": null,
            "flex_flow": null,
            "grid_area": null,
            "grid_auto_columns": null,
            "grid_auto_flow": null,
            "grid_auto_rows": null,
            "grid_column": null,
            "grid_gap": null,
            "grid_row": null,
            "grid_template_areas": null,
            "grid_template_columns": null,
            "grid_template_rows": null,
            "height": null,
            "justify_content": null,
            "justify_items": null,
            "left": null,
            "margin": null,
            "max_height": null,
            "max_width": null,
            "min_height": null,
            "min_width": null,
            "object_fit": null,
            "object_position": null,
            "order": null,
            "overflow": null,
            "overflow_x": null,
            "overflow_y": null,
            "padding": null,
            "right": null,
            "top": null,
            "visibility": null,
            "width": null
          }
        },
        "f8999995f04f4c41a6c93950e867da2e": {
          "model_module": "@jupyter-widgets/controls",
          "model_name": "DescriptionStyleModel",
          "model_module_version": "1.5.0",
          "state": {
            "_model_module": "@jupyter-widgets/controls",
            "_model_module_version": "1.5.0",
            "_model_name": "DescriptionStyleModel",
            "_view_count": null,
            "_view_module": "@jupyter-widgets/base",
            "_view_module_version": "1.2.0",
            "_view_name": "StyleView",
            "description_width": ""
          }
        },
        "647553f491b14f76b131e4df2c103988": {
          "model_module": "@jupyter-widgets/controls",
          "model_name": "HBoxModel",
          "model_module_version": "1.5.0",
          "state": {
            "_dom_classes": [],
            "_model_module": "@jupyter-widgets/controls",
            "_model_module_version": "1.5.0",
            "_model_name": "HBoxModel",
            "_view_count": null,
            "_view_module": "@jupyter-widgets/controls",
            "_view_module_version": "1.5.0",
            "_view_name": "HBoxView",
            "box_style": "",
            "children": [
              "IPY_MODEL_bcb9a9b0c00142afb5fad97337b23c1e",
              "IPY_MODEL_8ee67846afe0476fbd5f5cb1bc354291",
              "IPY_MODEL_18e5d3d17e56442abab633dd4df1714f"
            ],
            "layout": "IPY_MODEL_b31055ebca7b441a86a9f66931b41fd0"
          }
        },
        "bcb9a9b0c00142afb5fad97337b23c1e": {
          "model_module": "@jupyter-widgets/controls",
          "model_name": "HTMLModel",
          "model_module_version": "1.5.0",
          "state": {
            "_dom_classes": [],
            "_model_module": "@jupyter-widgets/controls",
            "_model_module_version": "1.5.0",
            "_model_name": "HTMLModel",
            "_view_count": null,
            "_view_module": "@jupyter-widgets/controls",
            "_view_module_version": "1.5.0",
            "_view_name": "HTMLView",
            "description": "",
            "description_tooltip": null,
            "layout": "IPY_MODEL_326ecaee7558472ebaf0e9320a85d540",
            "placeholder": "​",
            "style": "IPY_MODEL_7413ce027e5f44f09f1ecfcf58c5ae13",
            "value": "tokenizer.json: 100%"
          }
        },
        "8ee67846afe0476fbd5f5cb1bc354291": {
          "model_module": "@jupyter-widgets/controls",
          "model_name": "FloatProgressModel",
          "model_module_version": "1.5.0",
          "state": {
            "_dom_classes": [],
            "_model_module": "@jupyter-widgets/controls",
            "_model_module_version": "1.5.0",
            "_model_name": "FloatProgressModel",
            "_view_count": null,
            "_view_module": "@jupyter-widgets/controls",
            "_view_module_version": "1.5.0",
            "_view_name": "ProgressView",
            "bar_style": "success",
            "description": "",
            "description_tooltip": null,
            "layout": "IPY_MODEL_d8be5ab038ba4c968ed37a75c28b5093",
            "max": 466247,
            "min": 0,
            "orientation": "horizontal",
            "style": "IPY_MODEL_f4fc49789eb54dbf9fdd5f1184674ce9",
            "value": 466247
          }
        },
        "18e5d3d17e56442abab633dd4df1714f": {
          "model_module": "@jupyter-widgets/controls",
          "model_name": "HTMLModel",
          "model_module_version": "1.5.0",
          "state": {
            "_dom_classes": [],
            "_model_module": "@jupyter-widgets/controls",
            "_model_module_version": "1.5.0",
            "_model_name": "HTMLModel",
            "_view_count": null,
            "_view_module": "@jupyter-widgets/controls",
            "_view_module_version": "1.5.0",
            "_view_name": "HTMLView",
            "description": "",
            "description_tooltip": null,
            "layout": "IPY_MODEL_a633df1d1d5c4f29a990242fb066e950",
            "placeholder": "​",
            "style": "IPY_MODEL_d054d57e810549e8b719e30bce1918a8",
            "value": " 466k/466k [00:00&lt;00:00, 5.77MB/s]"
          }
        },
        "b31055ebca7b441a86a9f66931b41fd0": {
          "model_module": "@jupyter-widgets/base",
          "model_name": "LayoutModel",
          "model_module_version": "1.2.0",
          "state": {
            "_model_module": "@jupyter-widgets/base",
            "_model_module_version": "1.2.0",
            "_model_name": "LayoutModel",
            "_view_count": null,
            "_view_module": "@jupyter-widgets/base",
            "_view_module_version": "1.2.0",
            "_view_name": "LayoutView",
            "align_content": null,
            "align_items": null,
            "align_self": null,
            "border": null,
            "bottom": null,
            "display": null,
            "flex": null,
            "flex_flow": null,
            "grid_area": null,
            "grid_auto_columns": null,
            "grid_auto_flow": null,
            "grid_auto_rows": null,
            "grid_column": null,
            "grid_gap": null,
            "grid_row": null,
            "grid_template_areas": null,
            "grid_template_columns": null,
            "grid_template_rows": null,
            "height": null,
            "justify_content": null,
            "justify_items": null,
            "left": null,
            "margin": null,
            "max_height": null,
            "max_width": null,
            "min_height": null,
            "min_width": null,
            "object_fit": null,
            "object_position": null,
            "order": null,
            "overflow": null,
            "overflow_x": null,
            "overflow_y": null,
            "padding": null,
            "right": null,
            "top": null,
            "visibility": null,
            "width": null
          }
        },
        "326ecaee7558472ebaf0e9320a85d540": {
          "model_module": "@jupyter-widgets/base",
          "model_name": "LayoutModel",
          "model_module_version": "1.2.0",
          "state": {
            "_model_module": "@jupyter-widgets/base",
            "_model_module_version": "1.2.0",
            "_model_name": "LayoutModel",
            "_view_count": null,
            "_view_module": "@jupyter-widgets/base",
            "_view_module_version": "1.2.0",
            "_view_name": "LayoutView",
            "align_content": null,
            "align_items": null,
            "align_self": null,
            "border": null,
            "bottom": null,
            "display": null,
            "flex": null,
            "flex_flow": null,
            "grid_area": null,
            "grid_auto_columns": null,
            "grid_auto_flow": null,
            "grid_auto_rows": null,
            "grid_column": null,
            "grid_gap": null,
            "grid_row": null,
            "grid_template_areas": null,
            "grid_template_columns": null,
            "grid_template_rows": null,
            "height": null,
            "justify_content": null,
            "justify_items": null,
            "left": null,
            "margin": null,
            "max_height": null,
            "max_width": null,
            "min_height": null,
            "min_width": null,
            "object_fit": null,
            "object_position": null,
            "order": null,
            "overflow": null,
            "overflow_x": null,
            "overflow_y": null,
            "padding": null,
            "right": null,
            "top": null,
            "visibility": null,
            "width": null
          }
        },
        "7413ce027e5f44f09f1ecfcf58c5ae13": {
          "model_module": "@jupyter-widgets/controls",
          "model_name": "DescriptionStyleModel",
          "model_module_version": "1.5.0",
          "state": {
            "_model_module": "@jupyter-widgets/controls",
            "_model_module_version": "1.5.0",
            "_model_name": "DescriptionStyleModel",
            "_view_count": null,
            "_view_module": "@jupyter-widgets/base",
            "_view_module_version": "1.2.0",
            "_view_name": "StyleView",
            "description_width": ""
          }
        },
        "d8be5ab038ba4c968ed37a75c28b5093": {
          "model_module": "@jupyter-widgets/base",
          "model_name": "LayoutModel",
          "model_module_version": "1.2.0",
          "state": {
            "_model_module": "@jupyter-widgets/base",
            "_model_module_version": "1.2.0",
            "_model_name": "LayoutModel",
            "_view_count": null,
            "_view_module": "@jupyter-widgets/base",
            "_view_module_version": "1.2.0",
            "_view_name": "LayoutView",
            "align_content": null,
            "align_items": null,
            "align_self": null,
            "border": null,
            "bottom": null,
            "display": null,
            "flex": null,
            "flex_flow": null,
            "grid_area": null,
            "grid_auto_columns": null,
            "grid_auto_flow": null,
            "grid_auto_rows": null,
            "grid_column": null,
            "grid_gap": null,
            "grid_row": null,
            "grid_template_areas": null,
            "grid_template_columns": null,
            "grid_template_rows": null,
            "height": null,
            "justify_content": null,
            "justify_items": null,
            "left": null,
            "margin": null,
            "max_height": null,
            "max_width": null,
            "min_height": null,
            "min_width": null,
            "object_fit": null,
            "object_position": null,
            "order": null,
            "overflow": null,
            "overflow_x": null,
            "overflow_y": null,
            "padding": null,
            "right": null,
            "top": null,
            "visibility": null,
            "width": null
          }
        },
        "f4fc49789eb54dbf9fdd5f1184674ce9": {
          "model_module": "@jupyter-widgets/controls",
          "model_name": "ProgressStyleModel",
          "model_module_version": "1.5.0",
          "state": {
            "_model_module": "@jupyter-widgets/controls",
            "_model_module_version": "1.5.0",
            "_model_name": "ProgressStyleModel",
            "_view_count": null,
            "_view_module": "@jupyter-widgets/base",
            "_view_module_version": "1.2.0",
            "_view_name": "StyleView",
            "bar_color": null,
            "description_width": ""
          }
        },
        "a633df1d1d5c4f29a990242fb066e950": {
          "model_module": "@jupyter-widgets/base",
          "model_name": "LayoutModel",
          "model_module_version": "1.2.0",
          "state": {
            "_model_module": "@jupyter-widgets/base",
            "_model_module_version": "1.2.0",
            "_model_name": "LayoutModel",
            "_view_count": null,
            "_view_module": "@jupyter-widgets/base",
            "_view_module_version": "1.2.0",
            "_view_name": "LayoutView",
            "align_content": null,
            "align_items": null,
            "align_self": null,
            "border": null,
            "bottom": null,
            "display": null,
            "flex": null,
            "flex_flow": null,
            "grid_area": null,
            "grid_auto_columns": null,
            "grid_auto_flow": null,
            "grid_auto_rows": null,
            "grid_column": null,
            "grid_gap": null,
            "grid_row": null,
            "grid_template_areas": null,
            "grid_template_columns": null,
            "grid_template_rows": null,
            "height": null,
            "justify_content": null,
            "justify_items": null,
            "left": null,
            "margin": null,
            "max_height": null,
            "max_width": null,
            "min_height": null,
            "min_width": null,
            "object_fit": null,
            "object_position": null,
            "order": null,
            "overflow": null,
            "overflow_x": null,
            "overflow_y": null,
            "padding": null,
            "right": null,
            "top": null,
            "visibility": null,
            "width": null
          }
        },
        "d054d57e810549e8b719e30bce1918a8": {
          "model_module": "@jupyter-widgets/controls",
          "model_name": "DescriptionStyleModel",
          "model_module_version": "1.5.0",
          "state": {
            "_model_module": "@jupyter-widgets/controls",
            "_model_module_version": "1.5.0",
            "_model_name": "DescriptionStyleModel",
            "_view_count": null,
            "_view_module": "@jupyter-widgets/base",
            "_view_module_version": "1.2.0",
            "_view_name": "StyleView",
            "description_width": ""
          }
        },
        "86b8455a25eb496fb08f99777c01c236": {
          "model_module": "@jupyter-widgets/controls",
          "model_name": "HBoxModel",
          "model_module_version": "1.5.0",
          "state": {
            "_dom_classes": [],
            "_model_module": "@jupyter-widgets/controls",
            "_model_module_version": "1.5.0",
            "_model_name": "HBoxModel",
            "_view_count": null,
            "_view_module": "@jupyter-widgets/controls",
            "_view_module_version": "1.5.0",
            "_view_name": "HBoxView",
            "box_style": "",
            "children": [
              "IPY_MODEL_07afc3dad4984eddb4ea6c640be3a1e7",
              "IPY_MODEL_10832792ee944354b5d34b1a62e6b3da",
              "IPY_MODEL_2c2614a84b7b4531b11e6086747aae33"
            ],
            "layout": "IPY_MODEL_7359fd10d01d4e709497a8329def7470"
          }
        },
        "07afc3dad4984eddb4ea6c640be3a1e7": {
          "model_module": "@jupyter-widgets/controls",
          "model_name": "HTMLModel",
          "model_module_version": "1.5.0",
          "state": {
            "_dom_classes": [],
            "_model_module": "@jupyter-widgets/controls",
            "_model_module_version": "1.5.0",
            "_model_name": "HTMLModel",
            "_view_count": null,
            "_view_module": "@jupyter-widgets/controls",
            "_view_module_version": "1.5.0",
            "_view_name": "HTMLView",
            "description": "",
            "description_tooltip": null,
            "layout": "IPY_MODEL_80003c463db54512bb82590b1698c597",
            "placeholder": "​",
            "style": "IPY_MODEL_a4862882b72d40939a711b30674616ac",
            "value": "special_tokens_map.json: 100%"
          }
        },
        "10832792ee944354b5d34b1a62e6b3da": {
          "model_module": "@jupyter-widgets/controls",
          "model_name": "FloatProgressModel",
          "model_module_version": "1.5.0",
          "state": {
            "_dom_classes": [],
            "_model_module": "@jupyter-widgets/controls",
            "_model_module_version": "1.5.0",
            "_model_name": "FloatProgressModel",
            "_view_count": null,
            "_view_module": "@jupyter-widgets/controls",
            "_view_module_version": "1.5.0",
            "_view_name": "ProgressView",
            "bar_style": "success",
            "description": "",
            "description_tooltip": null,
            "layout": "IPY_MODEL_b378c176e5624f76a4c54c8e7c7f8631",
            "max": 112,
            "min": 0,
            "orientation": "horizontal",
            "style": "IPY_MODEL_fe65a216b4bc48c6962a4400ff4fe148",
            "value": 112
          }
        },
        "2c2614a84b7b4531b11e6086747aae33": {
          "model_module": "@jupyter-widgets/controls",
          "model_name": "HTMLModel",
          "model_module_version": "1.5.0",
          "state": {
            "_dom_classes": [],
            "_model_module": "@jupyter-widgets/controls",
            "_model_module_version": "1.5.0",
            "_model_name": "HTMLModel",
            "_view_count": null,
            "_view_module": "@jupyter-widgets/controls",
            "_view_module_version": "1.5.0",
            "_view_name": "HTMLView",
            "description": "",
            "description_tooltip": null,
            "layout": "IPY_MODEL_e23ffb9a1b1f461396e578bdcd87d609",
            "placeholder": "​",
            "style": "IPY_MODEL_a09a816d16a44bf2858610bc0dd532c0",
            "value": " 112/112 [00:00&lt;00:00, 2.15kB/s]"
          }
        },
        "7359fd10d01d4e709497a8329def7470": {
          "model_module": "@jupyter-widgets/base",
          "model_name": "LayoutModel",
          "model_module_version": "1.2.0",
          "state": {
            "_model_module": "@jupyter-widgets/base",
            "_model_module_version": "1.2.0",
            "_model_name": "LayoutModel",
            "_view_count": null,
            "_view_module": "@jupyter-widgets/base",
            "_view_module_version": "1.2.0",
            "_view_name": "LayoutView",
            "align_content": null,
            "align_items": null,
            "align_self": null,
            "border": null,
            "bottom": null,
            "display": null,
            "flex": null,
            "flex_flow": null,
            "grid_area": null,
            "grid_auto_columns": null,
            "grid_auto_flow": null,
            "grid_auto_rows": null,
            "grid_column": null,
            "grid_gap": null,
            "grid_row": null,
            "grid_template_areas": null,
            "grid_template_columns": null,
            "grid_template_rows": null,
            "height": null,
            "justify_content": null,
            "justify_items": null,
            "left": null,
            "margin": null,
            "max_height": null,
            "max_width": null,
            "min_height": null,
            "min_width": null,
            "object_fit": null,
            "object_position": null,
            "order": null,
            "overflow": null,
            "overflow_x": null,
            "overflow_y": null,
            "padding": null,
            "right": null,
            "top": null,
            "visibility": null,
            "width": null
          }
        },
        "80003c463db54512bb82590b1698c597": {
          "model_module": "@jupyter-widgets/base",
          "model_name": "LayoutModel",
          "model_module_version": "1.2.0",
          "state": {
            "_model_module": "@jupyter-widgets/base",
            "_model_module_version": "1.2.0",
            "_model_name": "LayoutModel",
            "_view_count": null,
            "_view_module": "@jupyter-widgets/base",
            "_view_module_version": "1.2.0",
            "_view_name": "LayoutView",
            "align_content": null,
            "align_items": null,
            "align_self": null,
            "border": null,
            "bottom": null,
            "display": null,
            "flex": null,
            "flex_flow": null,
            "grid_area": null,
            "grid_auto_columns": null,
            "grid_auto_flow": null,
            "grid_auto_rows": null,
            "grid_column": null,
            "grid_gap": null,
            "grid_row": null,
            "grid_template_areas": null,
            "grid_template_columns": null,
            "grid_template_rows": null,
            "height": null,
            "justify_content": null,
            "justify_items": null,
            "left": null,
            "margin": null,
            "max_height": null,
            "max_width": null,
            "min_height": null,
            "min_width": null,
            "object_fit": null,
            "object_position": null,
            "order": null,
            "overflow": null,
            "overflow_x": null,
            "overflow_y": null,
            "padding": null,
            "right": null,
            "top": null,
            "visibility": null,
            "width": null
          }
        },
        "a4862882b72d40939a711b30674616ac": {
          "model_module": "@jupyter-widgets/controls",
          "model_name": "DescriptionStyleModel",
          "model_module_version": "1.5.0",
          "state": {
            "_model_module": "@jupyter-widgets/controls",
            "_model_module_version": "1.5.0",
            "_model_name": "DescriptionStyleModel",
            "_view_count": null,
            "_view_module": "@jupyter-widgets/base",
            "_view_module_version": "1.2.0",
            "_view_name": "StyleView",
            "description_width": ""
          }
        },
        "b378c176e5624f76a4c54c8e7c7f8631": {
          "model_module": "@jupyter-widgets/base",
          "model_name": "LayoutModel",
          "model_module_version": "1.2.0",
          "state": {
            "_model_module": "@jupyter-widgets/base",
            "_model_module_version": "1.2.0",
            "_model_name": "LayoutModel",
            "_view_count": null,
            "_view_module": "@jupyter-widgets/base",
            "_view_module_version": "1.2.0",
            "_view_name": "LayoutView",
            "align_content": null,
            "align_items": null,
            "align_self": null,
            "border": null,
            "bottom": null,
            "display": null,
            "flex": null,
            "flex_flow": null,
            "grid_area": null,
            "grid_auto_columns": null,
            "grid_auto_flow": null,
            "grid_auto_rows": null,
            "grid_column": null,
            "grid_gap": null,
            "grid_row": null,
            "grid_template_areas": null,
            "grid_template_columns": null,
            "grid_template_rows": null,
            "height": null,
            "justify_content": null,
            "justify_items": null,
            "left": null,
            "margin": null,
            "max_height": null,
            "max_width": null,
            "min_height": null,
            "min_width": null,
            "object_fit": null,
            "object_position": null,
            "order": null,
            "overflow": null,
            "overflow_x": null,
            "overflow_y": null,
            "padding": null,
            "right": null,
            "top": null,
            "visibility": null,
            "width": null
          }
        },
        "fe65a216b4bc48c6962a4400ff4fe148": {
          "model_module": "@jupyter-widgets/controls",
          "model_name": "ProgressStyleModel",
          "model_module_version": "1.5.0",
          "state": {
            "_model_module": "@jupyter-widgets/controls",
            "_model_module_version": "1.5.0",
            "_model_name": "ProgressStyleModel",
            "_view_count": null,
            "_view_module": "@jupyter-widgets/base",
            "_view_module_version": "1.2.0",
            "_view_name": "StyleView",
            "bar_color": null,
            "description_width": ""
          }
        },
        "e23ffb9a1b1f461396e578bdcd87d609": {
          "model_module": "@jupyter-widgets/base",
          "model_name": "LayoutModel",
          "model_module_version": "1.2.0",
          "state": {
            "_model_module": "@jupyter-widgets/base",
            "_model_module_version": "1.2.0",
            "_model_name": "LayoutModel",
            "_view_count": null,
            "_view_module": "@jupyter-widgets/base",
            "_view_module_version": "1.2.0",
            "_view_name": "LayoutView",
            "align_content": null,
            "align_items": null,
            "align_self": null,
            "border": null,
            "bottom": null,
            "display": null,
            "flex": null,
            "flex_flow": null,
            "grid_area": null,
            "grid_auto_columns": null,
            "grid_auto_flow": null,
            "grid_auto_rows": null,
            "grid_column": null,
            "grid_gap": null,
            "grid_row": null,
            "grid_template_areas": null,
            "grid_template_columns": null,
            "grid_template_rows": null,
            "height": null,
            "justify_content": null,
            "justify_items": null,
            "left": null,
            "margin": null,
            "max_height": null,
            "max_width": null,
            "min_height": null,
            "min_width": null,
            "object_fit": null,
            "object_position": null,
            "order": null,
            "overflow": null,
            "overflow_x": null,
            "overflow_y": null,
            "padding": null,
            "right": null,
            "top": null,
            "visibility": null,
            "width": null
          }
        },
        "a09a816d16a44bf2858610bc0dd532c0": {
          "model_module": "@jupyter-widgets/controls",
          "model_name": "DescriptionStyleModel",
          "model_module_version": "1.5.0",
          "state": {
            "_model_module": "@jupyter-widgets/controls",
            "_model_module_version": "1.5.0",
            "_model_name": "DescriptionStyleModel",
            "_view_count": null,
            "_view_module": "@jupyter-widgets/base",
            "_view_module_version": "1.2.0",
            "_view_name": "StyleView",
            "description_width": ""
          }
        },
        "a1b22e7da92c440b8160cc6a6f25fd48": {
          "model_module": "@jupyter-widgets/controls",
          "model_name": "HBoxModel",
          "model_module_version": "1.5.0",
          "state": {
            "_dom_classes": [],
            "_model_module": "@jupyter-widgets/controls",
            "_model_module_version": "1.5.0",
            "_model_name": "HBoxModel",
            "_view_count": null,
            "_view_module": "@jupyter-widgets/controls",
            "_view_module_version": "1.5.0",
            "_view_name": "HBoxView",
            "box_style": "",
            "children": [
              "IPY_MODEL_4ba25d494c964035afed335e40313f85",
              "IPY_MODEL_a13c1ef53036491ba8c99932e9921928",
              "IPY_MODEL_64c519a8edd541608c7e12d338fedf3d"
            ],
            "layout": "IPY_MODEL_1b9445ad14614e498e5ec7b95276f887"
          }
        },
        "4ba25d494c964035afed335e40313f85": {
          "model_module": "@jupyter-widgets/controls",
          "model_name": "HTMLModel",
          "model_module_version": "1.5.0",
          "state": {
            "_dom_classes": [],
            "_model_module": "@jupyter-widgets/controls",
            "_model_module_version": "1.5.0",
            "_model_name": "HTMLModel",
            "_view_count": null,
            "_view_module": "@jupyter-widgets/controls",
            "_view_module_version": "1.5.0",
            "_view_name": "HTMLView",
            "description": "",
            "description_tooltip": null,
            "layout": "IPY_MODEL_ccf7c7f354ab40faa91e594e1ac53066",
            "placeholder": "​",
            "style": "IPY_MODEL_da99ec9645bc4bb8a0711d2644315069",
            "value": "1_Pooling/config.json: 100%"
          }
        },
        "a13c1ef53036491ba8c99932e9921928": {
          "model_module": "@jupyter-widgets/controls",
          "model_name": "FloatProgressModel",
          "model_module_version": "1.5.0",
          "state": {
            "_dom_classes": [],
            "_model_module": "@jupyter-widgets/controls",
            "_model_module_version": "1.5.0",
            "_model_name": "FloatProgressModel",
            "_view_count": null,
            "_view_module": "@jupyter-widgets/controls",
            "_view_module_version": "1.5.0",
            "_view_name": "ProgressView",
            "bar_style": "success",
            "description": "",
            "description_tooltip": null,
            "layout": "IPY_MODEL_202e7fec42694722bb6290d61e12e5b8",
            "max": 190,
            "min": 0,
            "orientation": "horizontal",
            "style": "IPY_MODEL_37807010ed4b4b0d8ef9871d8ca028d4",
            "value": 190
          }
        },
        "64c519a8edd541608c7e12d338fedf3d": {
          "model_module": "@jupyter-widgets/controls",
          "model_name": "HTMLModel",
          "model_module_version": "1.5.0",
          "state": {
            "_dom_classes": [],
            "_model_module": "@jupyter-widgets/controls",
            "_model_module_version": "1.5.0",
            "_model_name": "HTMLModel",
            "_view_count": null,
            "_view_module": "@jupyter-widgets/controls",
            "_view_module_version": "1.5.0",
            "_view_name": "HTMLView",
            "description": "",
            "description_tooltip": null,
            "layout": "IPY_MODEL_6f32647887d04788b3c86e4cdb037a21",
            "placeholder": "​",
            "style": "IPY_MODEL_2dfe43ee61a44357817fd92956bf408e",
            "value": " 190/190 [00:00&lt;00:00, 7.21kB/s]"
          }
        },
        "1b9445ad14614e498e5ec7b95276f887": {
          "model_module": "@jupyter-widgets/base",
          "model_name": "LayoutModel",
          "model_module_version": "1.2.0",
          "state": {
            "_model_module": "@jupyter-widgets/base",
            "_model_module_version": "1.2.0",
            "_model_name": "LayoutModel",
            "_view_count": null,
            "_view_module": "@jupyter-widgets/base",
            "_view_module_version": "1.2.0",
            "_view_name": "LayoutView",
            "align_content": null,
            "align_items": null,
            "align_self": null,
            "border": null,
            "bottom": null,
            "display": null,
            "flex": null,
            "flex_flow": null,
            "grid_area": null,
            "grid_auto_columns": null,
            "grid_auto_flow": null,
            "grid_auto_rows": null,
            "grid_column": null,
            "grid_gap": null,
            "grid_row": null,
            "grid_template_areas": null,
            "grid_template_columns": null,
            "grid_template_rows": null,
            "height": null,
            "justify_content": null,
            "justify_items": null,
            "left": null,
            "margin": null,
            "max_height": null,
            "max_width": null,
            "min_height": null,
            "min_width": null,
            "object_fit": null,
            "object_position": null,
            "order": null,
            "overflow": null,
            "overflow_x": null,
            "overflow_y": null,
            "padding": null,
            "right": null,
            "top": null,
            "visibility": null,
            "width": null
          }
        },
        "ccf7c7f354ab40faa91e594e1ac53066": {
          "model_module": "@jupyter-widgets/base",
          "model_name": "LayoutModel",
          "model_module_version": "1.2.0",
          "state": {
            "_model_module": "@jupyter-widgets/base",
            "_model_module_version": "1.2.0",
            "_model_name": "LayoutModel",
            "_view_count": null,
            "_view_module": "@jupyter-widgets/base",
            "_view_module_version": "1.2.0",
            "_view_name": "LayoutView",
            "align_content": null,
            "align_items": null,
            "align_self": null,
            "border": null,
            "bottom": null,
            "display": null,
            "flex": null,
            "flex_flow": null,
            "grid_area": null,
            "grid_auto_columns": null,
            "grid_auto_flow": null,
            "grid_auto_rows": null,
            "grid_column": null,
            "grid_gap": null,
            "grid_row": null,
            "grid_template_areas": null,
            "grid_template_columns": null,
            "grid_template_rows": null,
            "height": null,
            "justify_content": null,
            "justify_items": null,
            "left": null,
            "margin": null,
            "max_height": null,
            "max_width": null,
            "min_height": null,
            "min_width": null,
            "object_fit": null,
            "object_position": null,
            "order": null,
            "overflow": null,
            "overflow_x": null,
            "overflow_y": null,
            "padding": null,
            "right": null,
            "top": null,
            "visibility": null,
            "width": null
          }
        },
        "da99ec9645bc4bb8a0711d2644315069": {
          "model_module": "@jupyter-widgets/controls",
          "model_name": "DescriptionStyleModel",
          "model_module_version": "1.5.0",
          "state": {
            "_model_module": "@jupyter-widgets/controls",
            "_model_module_version": "1.5.0",
            "_model_name": "DescriptionStyleModel",
            "_view_count": null,
            "_view_module": "@jupyter-widgets/base",
            "_view_module_version": "1.2.0",
            "_view_name": "StyleView",
            "description_width": ""
          }
        },
        "202e7fec42694722bb6290d61e12e5b8": {
          "model_module": "@jupyter-widgets/base",
          "model_name": "LayoutModel",
          "model_module_version": "1.2.0",
          "state": {
            "_model_module": "@jupyter-widgets/base",
            "_model_module_version": "1.2.0",
            "_model_name": "LayoutModel",
            "_view_count": null,
            "_view_module": "@jupyter-widgets/base",
            "_view_module_version": "1.2.0",
            "_view_name": "LayoutView",
            "align_content": null,
            "align_items": null,
            "align_self": null,
            "border": null,
            "bottom": null,
            "display": null,
            "flex": null,
            "flex_flow": null,
            "grid_area": null,
            "grid_auto_columns": null,
            "grid_auto_flow": null,
            "grid_auto_rows": null,
            "grid_column": null,
            "grid_gap": null,
            "grid_row": null,
            "grid_template_areas": null,
            "grid_template_columns": null,
            "grid_template_rows": null,
            "height": null,
            "justify_content": null,
            "justify_items": null,
            "left": null,
            "margin": null,
            "max_height": null,
            "max_width": null,
            "min_height": null,
            "min_width": null,
            "object_fit": null,
            "object_position": null,
            "order": null,
            "overflow": null,
            "overflow_x": null,
            "overflow_y": null,
            "padding": null,
            "right": null,
            "top": null,
            "visibility": null,
            "width": null
          }
        },
        "37807010ed4b4b0d8ef9871d8ca028d4": {
          "model_module": "@jupyter-widgets/controls",
          "model_name": "ProgressStyleModel",
          "model_module_version": "1.5.0",
          "state": {
            "_model_module": "@jupyter-widgets/controls",
            "_model_module_version": "1.5.0",
            "_model_name": "ProgressStyleModel",
            "_view_count": null,
            "_view_module": "@jupyter-widgets/base",
            "_view_module_version": "1.2.0",
            "_view_name": "StyleView",
            "bar_color": null,
            "description_width": ""
          }
        },
        "6f32647887d04788b3c86e4cdb037a21": {
          "model_module": "@jupyter-widgets/base",
          "model_name": "LayoutModel",
          "model_module_version": "1.2.0",
          "state": {
            "_model_module": "@jupyter-widgets/base",
            "_model_module_version": "1.2.0",
            "_model_name": "LayoutModel",
            "_view_count": null,
            "_view_module": "@jupyter-widgets/base",
            "_view_module_version": "1.2.0",
            "_view_name": "LayoutView",
            "align_content": null,
            "align_items": null,
            "align_self": null,
            "border": null,
            "bottom": null,
            "display": null,
            "flex": null,
            "flex_flow": null,
            "grid_area": null,
            "grid_auto_columns": null,
            "grid_auto_flow": null,
            "grid_auto_rows": null,
            "grid_column": null,
            "grid_gap": null,
            "grid_row": null,
            "grid_template_areas": null,
            "grid_template_columns": null,
            "grid_template_rows": null,
            "height": null,
            "justify_content": null,
            "justify_items": null,
            "left": null,
            "margin": null,
            "max_height": null,
            "max_width": null,
            "min_height": null,
            "min_width": null,
            "object_fit": null,
            "object_position": null,
            "order": null,
            "overflow": null,
            "overflow_x": null,
            "overflow_y": null,
            "padding": null,
            "right": null,
            "top": null,
            "visibility": null,
            "width": null
          }
        },
        "2dfe43ee61a44357817fd92956bf408e": {
          "model_module": "@jupyter-widgets/controls",
          "model_name": "DescriptionStyleModel",
          "model_module_version": "1.5.0",
          "state": {
            "_model_module": "@jupyter-widgets/controls",
            "_model_module_version": "1.5.0",
            "_model_name": "DescriptionStyleModel",
            "_view_count": null,
            "_view_module": "@jupyter-widgets/base",
            "_view_module_version": "1.2.0",
            "_view_name": "StyleView",
            "description_width": ""
          }
        }
      }
    }
  },
  "cells": [
    {
      "cell_type": "markdown",
      "metadata": {
        "id": "view-in-github",
        "colab_type": "text"
      },
      "source": [
        "<a href=\"https://colab.research.google.com/github/kavyajeetbora/nlp_rag/blob/master/langchain_masterclass/04_RAG.ipynb\" target=\"_parent\"><img src=\"https://colab.research.google.com/assets/colab-badge.svg\" alt=\"Open In Colab\"/></a>"
      ]
    },
    {
      "cell_type": "markdown",
      "source": [
        "# RAG - Retrieval Augmented Generated\n",
        "\n",
        "Retrieval-Augmented Generation (RAG) is an AI framework that enhances the accuracy and relevance of responses generated by large language models (LLMs). It combines two techniques:\n",
        "\n",
        "1. Retrieval: The model first retrieves relevant information from external sources, such as databases, documents, or the web.\n",
        "2. Generation: It then uses this retrieved information to inform and enhance the generation of responses.\n",
        "\n",
        "This approach ensures that the responses are accurate, relevant, and contextually enriched by the most up-to-date and specific information available2. RAG is particularly useful for creating more reliable and effective AI systems across various applications"
      ],
      "metadata": {
        "id": "V6W0uI0yZoPc"
      }
    },
    {
      "cell_type": "markdown",
      "source": [
        "# Setup environment"
      ],
      "metadata": {
        "id": "hiqUmqwLmoj7"
      }
    },
    {
      "cell_type": "code",
      "execution_count": 21,
      "metadata": {
        "id": "oTK7tlp1qc7B"
      },
      "outputs": [],
      "source": [
        "!pip install -q langchain langchain_community langchain-openai chromadb randomname langchain_huggingface"
      ]
    },
    {
      "cell_type": "code",
      "source": [
        "import os\n",
        "import shutil\n",
        "from langchain_openai import ChatOpenAI, OpenAIEmbeddings\n",
        "from langchain_huggingface import HuggingFaceEmbeddings\n",
        "from dotenv import load_dotenv\n",
        "\n",
        "from langchain_community.document_loaders import TextLoader\n",
        "from langchain_community.vectorstores import Chroma\n",
        "from langchain.text_splitter import CharacterTextSplitter, RecursiveCharacterTextSplitter, TokenTextSplitter\n",
        "import randomname\n",
        "from glob import glob\n",
        "from langchain.prompts import ChatPromptTemplate\n",
        "from langchain.schema.output_parser  import StrOutputParser\n",
        "from langchain.schema.runnable import RunnableLambda"
      ],
      "metadata": {
        "id": "y5CQ__6Hq7SM"
      },
      "execution_count": 69,
      "outputs": []
    },
    {
      "cell_type": "code",
      "source": [
        "if os.path.exists(\".env\"):\n",
        "    os.remove(\".env\")\n",
        "\n",
        "from google.colab import files\n",
        "uploaded = files.upload()\n",
        "if uploaded:\n",
        "    if load_dotenv(\".env\"):\n",
        "        print(\"Uploaded and Loaded Sucessfully\")"
      ],
      "metadata": {
        "colab": {
          "base_uri": "https://localhost:8080/",
          "height": 90
        },
        "id": "dg40UC0iq47h",
        "outputId": "9b3998c4-2aad-479b-83b5-630f9ab4a571"
      },
      "execution_count": 3,
      "outputs": [
        {
          "output_type": "display_data",
          "data": {
            "text/plain": [
              "<IPython.core.display.HTML object>"
            ],
            "text/html": [
              "\n",
              "     <input type=\"file\" id=\"files-01cc43d9-40bf-46e9-9b26-e37844907b76\" name=\"files[]\" multiple disabled\n",
              "        style=\"border:none\" />\n",
              "     <output id=\"result-01cc43d9-40bf-46e9-9b26-e37844907b76\">\n",
              "      Upload widget is only available when the cell has been executed in the\n",
              "      current browser session. Please rerun this cell to enable.\n",
              "      </output>\n",
              "      <script>// Copyright 2017 Google LLC\n",
              "//\n",
              "// Licensed under the Apache License, Version 2.0 (the \"License\");\n",
              "// you may not use this file except in compliance with the License.\n",
              "// You may obtain a copy of the License at\n",
              "//\n",
              "//      http://www.apache.org/licenses/LICENSE-2.0\n",
              "//\n",
              "// Unless required by applicable law or agreed to in writing, software\n",
              "// distributed under the License is distributed on an \"AS IS\" BASIS,\n",
              "// WITHOUT WARRANTIES OR CONDITIONS OF ANY KIND, either express or implied.\n",
              "// See the License for the specific language governing permissions and\n",
              "// limitations under the License.\n",
              "\n",
              "/**\n",
              " * @fileoverview Helpers for google.colab Python module.\n",
              " */\n",
              "(function(scope) {\n",
              "function span(text, styleAttributes = {}) {\n",
              "  const element = document.createElement('span');\n",
              "  element.textContent = text;\n",
              "  for (const key of Object.keys(styleAttributes)) {\n",
              "    element.style[key] = styleAttributes[key];\n",
              "  }\n",
              "  return element;\n",
              "}\n",
              "\n",
              "// Max number of bytes which will be uploaded at a time.\n",
              "const MAX_PAYLOAD_SIZE = 100 * 1024;\n",
              "\n",
              "function _uploadFiles(inputId, outputId) {\n",
              "  const steps = uploadFilesStep(inputId, outputId);\n",
              "  const outputElement = document.getElementById(outputId);\n",
              "  // Cache steps on the outputElement to make it available for the next call\n",
              "  // to uploadFilesContinue from Python.\n",
              "  outputElement.steps = steps;\n",
              "\n",
              "  return _uploadFilesContinue(outputId);\n",
              "}\n",
              "\n",
              "// This is roughly an async generator (not supported in the browser yet),\n",
              "// where there are multiple asynchronous steps and the Python side is going\n",
              "// to poll for completion of each step.\n",
              "// This uses a Promise to block the python side on completion of each step,\n",
              "// then passes the result of the previous step as the input to the next step.\n",
              "function _uploadFilesContinue(outputId) {\n",
              "  const outputElement = document.getElementById(outputId);\n",
              "  const steps = outputElement.steps;\n",
              "\n",
              "  const next = steps.next(outputElement.lastPromiseValue);\n",
              "  return Promise.resolve(next.value.promise).then((value) => {\n",
              "    // Cache the last promise value to make it available to the next\n",
              "    // step of the generator.\n",
              "    outputElement.lastPromiseValue = value;\n",
              "    return next.value.response;\n",
              "  });\n",
              "}\n",
              "\n",
              "/**\n",
              " * Generator function which is called between each async step of the upload\n",
              " * process.\n",
              " * @param {string} inputId Element ID of the input file picker element.\n",
              " * @param {string} outputId Element ID of the output display.\n",
              " * @return {!Iterable<!Object>} Iterable of next steps.\n",
              " */\n",
              "function* uploadFilesStep(inputId, outputId) {\n",
              "  const inputElement = document.getElementById(inputId);\n",
              "  inputElement.disabled = false;\n",
              "\n",
              "  const outputElement = document.getElementById(outputId);\n",
              "  outputElement.innerHTML = '';\n",
              "\n",
              "  const pickedPromise = new Promise((resolve) => {\n",
              "    inputElement.addEventListener('change', (e) => {\n",
              "      resolve(e.target.files);\n",
              "    });\n",
              "  });\n",
              "\n",
              "  const cancel = document.createElement('button');\n",
              "  inputElement.parentElement.appendChild(cancel);\n",
              "  cancel.textContent = 'Cancel upload';\n",
              "  const cancelPromise = new Promise((resolve) => {\n",
              "    cancel.onclick = () => {\n",
              "      resolve(null);\n",
              "    };\n",
              "  });\n",
              "\n",
              "  // Wait for the user to pick the files.\n",
              "  const files = yield {\n",
              "    promise: Promise.race([pickedPromise, cancelPromise]),\n",
              "    response: {\n",
              "      action: 'starting',\n",
              "    }\n",
              "  };\n",
              "\n",
              "  cancel.remove();\n",
              "\n",
              "  // Disable the input element since further picks are not allowed.\n",
              "  inputElement.disabled = true;\n",
              "\n",
              "  if (!files) {\n",
              "    return {\n",
              "      response: {\n",
              "        action: 'complete',\n",
              "      }\n",
              "    };\n",
              "  }\n",
              "\n",
              "  for (const file of files) {\n",
              "    const li = document.createElement('li');\n",
              "    li.append(span(file.name, {fontWeight: 'bold'}));\n",
              "    li.append(span(\n",
              "        `(${file.type || 'n/a'}) - ${file.size} bytes, ` +\n",
              "        `last modified: ${\n",
              "            file.lastModifiedDate ? file.lastModifiedDate.toLocaleDateString() :\n",
              "                                    'n/a'} - `));\n",
              "    const percent = span('0% done');\n",
              "    li.appendChild(percent);\n",
              "\n",
              "    outputElement.appendChild(li);\n",
              "\n",
              "    const fileDataPromise = new Promise((resolve) => {\n",
              "      const reader = new FileReader();\n",
              "      reader.onload = (e) => {\n",
              "        resolve(e.target.result);\n",
              "      };\n",
              "      reader.readAsArrayBuffer(file);\n",
              "    });\n",
              "    // Wait for the data to be ready.\n",
              "    let fileData = yield {\n",
              "      promise: fileDataPromise,\n",
              "      response: {\n",
              "        action: 'continue',\n",
              "      }\n",
              "    };\n",
              "\n",
              "    // Use a chunked sending to avoid message size limits. See b/62115660.\n",
              "    let position = 0;\n",
              "    do {\n",
              "      const length = Math.min(fileData.byteLength - position, MAX_PAYLOAD_SIZE);\n",
              "      const chunk = new Uint8Array(fileData, position, length);\n",
              "      position += length;\n",
              "\n",
              "      const base64 = btoa(String.fromCharCode.apply(null, chunk));\n",
              "      yield {\n",
              "        response: {\n",
              "          action: 'append',\n",
              "          file: file.name,\n",
              "          data: base64,\n",
              "        },\n",
              "      };\n",
              "\n",
              "      let percentDone = fileData.byteLength === 0 ?\n",
              "          100 :\n",
              "          Math.round((position / fileData.byteLength) * 100);\n",
              "      percent.textContent = `${percentDone}% done`;\n",
              "\n",
              "    } while (position < fileData.byteLength);\n",
              "  }\n",
              "\n",
              "  // All done.\n",
              "  yield {\n",
              "    response: {\n",
              "      action: 'complete',\n",
              "    }\n",
              "  };\n",
              "}\n",
              "\n",
              "scope.google = scope.google || {};\n",
              "scope.google.colab = scope.google.colab || {};\n",
              "scope.google.colab._files = {\n",
              "  _uploadFiles,\n",
              "  _uploadFilesContinue,\n",
              "};\n",
              "})(self);\n",
              "</script> "
            ]
          },
          "metadata": {}
        },
        {
          "output_type": "stream",
          "name": "stdout",
          "text": [
            "Saving .env to .env\n",
            "Uploaded and Loaded Sucessfully\n"
          ]
        }
      ]
    },
    {
      "cell_type": "markdown",
      "source": [
        "## 1. Load LLM Model"
      ],
      "metadata": {
        "id": "A62umtqwtTDl"
      }
    },
    {
      "cell_type": "code",
      "source": [
        "model = ChatOpenAI(model='gpt-3.5-turbo-0125')"
      ],
      "metadata": {
        "id": "zC2OigdescDJ"
      },
      "execution_count": 4,
      "outputs": []
    },
    {
      "cell_type": "markdown",
      "source": [
        "# High level RAG Pipeline using LangChain"
      ],
      "metadata": {
        "id": "hf95_V5bZ9Gl"
      }
    },
    {
      "cell_type": "markdown",
      "source": [
        "## Load the source text"
      ],
      "metadata": {
        "id": "tp9f4odiaTgf"
      }
    },
    {
      "cell_type": "code",
      "source": [
        "!wget -q https://raw.githubusercontent.com/kavyajeetbora/nlp_rag/refs/heads/master/data/taare_zameen_par.txt -O taare_zameen_par.txt\n",
        "!wget -q https://raw.githubusercontent.com/kavyajeetbora/nlp_rag/refs/heads/master/data/swades.txt -O swades.txt\n",
        "!wget -q https://raw.githubusercontent.com/kavyajeetbora/nlp_rag/refs/heads/master/data/munna_bhai.txt -O munna_bhai.txt\n",
        "!wget -q https://raw.githubusercontent.com/kavyajeetbora/nlp_rag/refs/heads/master/data/lagaan.txt -O lagaan.txt"
      ],
      "metadata": {
        "id": "nuQFERGsznnl"
      },
      "execution_count": 5,
      "outputs": []
    },
    {
      "cell_type": "code",
      "source": [
        "text_file_path = \"taare_zameen_par.txt\"\n",
        "\n",
        "if os.path.exists(text_file_path):\n",
        "    loader = TextLoader(text_file_path)\n",
        "    documents = loader.load()\n",
        "    print(\"Source Document Loaded Sucessfully\")\n",
        "else:\n",
        "    print(f\"No file called {text_file_path} found\")"
      ],
      "metadata": {
        "colab": {
          "base_uri": "https://localhost:8080/"
        },
        "id": "fi-yAyyNaSIZ",
        "outputId": "ca0b38e9-abf5-49c9-e8a7-bc4d8567c394"
      },
      "execution_count": null,
      "outputs": [
        {
          "output_type": "stream",
          "name": "stdout",
          "text": [
            "Source Document Loaded Sucessfully\n"
          ]
        }
      ]
    },
    {
      "cell_type": "code",
      "source": [
        "documents[0].metadata"
      ],
      "metadata": {
        "colab": {
          "base_uri": "https://localhost:8080/"
        },
        "id": "pueGutvUflhk",
        "outputId": "74b82a17-bf4b-4be0-aa98-6f4b6adf6502"
      },
      "execution_count": null,
      "outputs": [
        {
          "output_type": "execute_result",
          "data": {
            "text/plain": [
              "{'source': 'taare_zameen_par.txt'}"
            ]
          },
          "metadata": {},
          "execution_count": 177
        }
      ]
    },
    {
      "cell_type": "markdown",
      "source": [
        "## Split the text into Chunks\n",
        "\n",
        "Why chunking? as we know there is limited number of characters/tokens we can pass on to our LLM model for generation. So we need to break down our large chunk of text into smaller consumable pieces"
      ],
      "metadata": {
        "id": "kn0tB4u4f80O"
      }
    },
    {
      "cell_type": "code",
      "source": [
        "text_splitter = CharacterTextSplitter(separator = \" \", chunk_size=300, chunk_overlap=0)\n",
        "docs = text_splitter.split_documents(documents)\n",
        "len(docs)"
      ],
      "metadata": {
        "colab": {
          "base_uri": "https://localhost:8080/"
        },
        "id": "Jmb-x4K_gLbd",
        "outputId": "65ea3bc6-cc72-431f-ce82-54849b4a4ee7"
      },
      "execution_count": null,
      "outputs": [
        {
          "output_type": "execute_result",
          "data": {
            "text/plain": [
              "14"
            ]
          },
          "metadata": {},
          "execution_count": 178
        }
      ]
    },
    {
      "cell_type": "code",
      "source": [
        "## Here is the first chunk\n",
        "docs[0]"
      ],
      "metadata": {
        "colab": {
          "base_uri": "https://localhost:8080/"
        },
        "id": "VWvM4bSogp8D",
        "outputId": "3848d8d4-48c6-4c70-b1dc-c78099884afb"
      },
      "execution_count": null,
      "outputs": [
        {
          "output_type": "execute_result",
          "data": {
            "text/plain": [
              "Document(metadata={'source': 'taare_zameen_par.txt'}, page_content=\"Ishaan is an 8-year-old boy living in Mumbai, who has trouble following school. He is assumed by all to simply hate learning and deemed a troublemaker, and is belittled for it. He has even repeated the 3rd standard due to his academic failures from the previous year. Ishaan's imagination,\")"
            ]
          },
          "metadata": {},
          "execution_count": 179
        }
      ]
    },
    {
      "cell_type": "markdown",
      "source": [
        "## Load Embedding Model\n",
        "\n",
        "Embedding models are mostly encoder based model (for example BERT and RoBERTa architecture)\n",
        "\n",
        "Here is a brief of encoder only models:\n",
        "\n",
        "1. An encoder-only model is a type of machine learning model that focuses on understanding text, but doesn't generate new text:\n",
        "2. What they do ?\n",
        "\n",
        "    Encoder-only models are designed to analyze the meaning of words and sentences in a text, and produce task-specific outputs like labels or token predictions.\n",
        "3. What they're good for?\n",
        "\n",
        "    They're well-suited for tasks that require understanding text, like text classification, question answering, and sentiment analysis.\n",
        "4. How they work\n",
        "    \n",
        "    Encoder-only models process input text in a bidirectional manner, considering the context of each word from both the left and right sides. This allows them to understand the full meaning of a text.\n",
        "5. Examples\n",
        "    \n",
        "    BERT (Bidirectional Encoder Representations from Transformers) and RoBERTa are examples of encoder-only models.\n",
        "\n",
        "Encoder-only models are different from decoder-only models, which are used for other types of generative tasks like Q&A"
      ],
      "metadata": {
        "id": "zYWEgRRmhNce"
      }
    },
    {
      "cell_type": "code",
      "source": [
        "embeddings = OpenAIEmbeddings(model='text-embedding-3-small')"
      ],
      "metadata": {
        "id": "b-Zli62Ykb7-"
      },
      "execution_count": null,
      "outputs": []
    },
    {
      "cell_type": "markdown",
      "source": [
        "## Create a Vector Database\n",
        "\n",
        "We will store all the embeddings from the source in Vector Database.\n",
        "\n",
        "We will use [`langchain_community.Chroma.from_documents`](https://api.python.langchain.com/en/latest/vectorstores/langchain_community.vectorstores.chroma.Chroma.html#langchain_community.vectorstores.chroma.Chroma.from_documents)"
      ],
      "metadata": {
        "id": "9tfkvsGAdwm4"
      }
    },
    {
      "cell_type": "code",
      "source": [
        "os.makedirs(\"db\", exist_ok=True)\n",
        "\n",
        "random_suffix = randomname.get_name()\n",
        "\n",
        "persistent_directory = f\"db/chroma-({random_suffix})\"\n",
        "\n",
        "## If already there, delete and create a new one\n",
        "for folder in glob(\"db/chroma*\"):\n",
        "    if os.path.exists(folder):\n",
        "        shutil.rmtree(folder)\n",
        "\n",
        "os.mkdir(persistent_directory)\n",
        "\n",
        "vector_db = Chroma.from_documents(\n",
        "    documents = docs,\n",
        "    collection_name = \"movie_embeddings_v1\",\n",
        "    embedding = embeddings,\n",
        "    persist_directory = persistent_directory\n",
        ")"
      ],
      "metadata": {
        "id": "utfrRaoJdQPi"
      },
      "execution_count": null,
      "outputs": []
    },
    {
      "cell_type": "markdown",
      "source": [
        "## Retrieving Relevant Chunks based on a query"
      ],
      "metadata": {
        "id": "0LMvOaNqvWGq"
      }
    },
    {
      "cell_type": "code",
      "source": [
        "query = \"Who was Ishaan ?\"\n",
        "\n",
        "retriever = vector_db.as_retriever(\n",
        "    search_type = \"similarity_score_threshold\",\n",
        "    search_kwargs = {\"k\": 2, \"score_threshold\": 0.5}\n",
        ")\n",
        "\n",
        "relevant_docs = retriever.invoke(query)"
      ],
      "metadata": {
        "id": "vjDNAIylmDs3"
      },
      "execution_count": null,
      "outputs": []
    },
    {
      "cell_type": "code",
      "source": [
        "for doc in relevant_docs:\n",
        "    print(\"Source:\",doc.metadata['source'])\n",
        "    print(doc.page_content)\n",
        "    print(\"-\"*30)"
      ],
      "metadata": {
        "colab": {
          "base_uri": "https://localhost:8080/"
        },
        "id": "v2p0eNYNv6lq",
        "outputId": "3d74a326-a722-4f8f-fc8f-94ff120bdf90"
      },
      "execution_count": null,
      "outputs": [
        {
          "output_type": "stream",
          "name": "stdout",
          "text": [
            "Source: taare_zameen_par.txt\n",
            "Ishaan is an 8-year-old boy living in Mumbai, who has trouble following school. He is assumed by all to simply hate learning and deemed a troublemaker, and is belittled for it. He has even repeated the 3rd standard due to his academic failures from the previous year. Ishaan's imagination,\n",
            "------------------------------\n"
          ]
        }
      ]
    },
    {
      "cell_type": "markdown",
      "source": [
        "## Creating Metadata for documents\n",
        "\n",
        "while embedding the documents, it is always a good idea to add metadata to each document like adding title, filename, filesize, pages, author etc etc\n",
        "\n",
        "This is important when retrieving any document as we may want to know the reference when our LLM is generating any text for validation purpose"
      ],
      "metadata": {
        "id": "x06lBZg9zCWx"
      }
    },
    {
      "cell_type": "code",
      "source": [
        "## creating a vector database from many documents\n",
        "documents = []\n",
        "for txt_file_path in glob(\"*.txt\"):\n",
        "\n",
        "    loader = TextLoader(txt_file_path)\n",
        "    docs = loader.load()\n",
        "\n",
        "    for doc in docs:\n",
        "        doc.metadata = {\"soure\": txt_file_path}\n",
        "        documents.append(doc)"
      ],
      "metadata": {
        "id": "XLkPva-jzB8b"
      },
      "execution_count": null,
      "outputs": []
    },
    {
      "cell_type": "code",
      "source": [
        "## Split the documents into chunks\n",
        "text_splitter = CharacterTextSplitter(separator=\" \", chunk_size=500, chunk_overlap=0)\n",
        "chunks = text_splitter.split_documents(documents)\n",
        "len(chunks)"
      ],
      "metadata": {
        "colab": {
          "base_uri": "https://localhost:8080/"
        },
        "id": "h72cO89t1YHj",
        "outputId": "c8cd7448-d960-40d2-91a5-c324cb66babd"
      },
      "execution_count": null,
      "outputs": [
        {
          "output_type": "execute_result",
          "data": {
            "text/plain": [
              "62"
            ]
          },
          "metadata": {},
          "execution_count": 231
        }
      ]
    },
    {
      "cell_type": "code",
      "source": [
        "len(chunks[0].page_content)"
      ],
      "metadata": {
        "colab": {
          "base_uri": "https://localhost:8080/"
        },
        "id": "OUq2Huju2Ul8",
        "outputId": "ff4e5968-65e9-4f83-f9ed-5a4b70f40170"
      },
      "execution_count": null,
      "outputs": [
        {
          "output_type": "execute_result",
          "data": {
            "text/plain": [
              "494"
            ]
          },
          "metadata": {},
          "execution_count": 232
        }
      ]
    },
    {
      "cell_type": "code",
      "source": [
        "os.makedirs(\"db\", exist_ok=True)"
      ],
      "metadata": {
        "id": "x2UO2mqp_XZo"
      },
      "execution_count": null,
      "outputs": []
    },
    {
      "cell_type": "code",
      "source": [
        "def create_vector_database(chunks: list,name=\"\"):\n",
        "\n",
        "    random_suffix = randomname.get_name()\n",
        "\n",
        "    persistent_directory = f\"db/chroma-{name}-({random_suffix})\"\n",
        "\n",
        "    ## If already there, delete and create a new one\n",
        "\n",
        "    for folder in glob(f\"db/chroma-{name}*\"):\n",
        "        if os.path.exists(folder):\n",
        "            shutil.rmtree(folder)\n",
        "\n",
        "    os.mkdir(persistent_directory)\n",
        "\n",
        "    vector_db = Chroma.from_documents(\n",
        "        documents = chunks,\n",
        "        collection_name = \"movie_embeddings_v2\",\n",
        "        embedding = embeddings,\n",
        "        persist_directory = persistent_directory\n",
        "    )\n",
        "\n",
        "    return vector_db"
      ],
      "metadata": {
        "id": "3w1xSgQW2dGj"
      },
      "execution_count": null,
      "outputs": []
    },
    {
      "cell_type": "markdown",
      "source": [
        "Retrive the text using a query:"
      ],
      "metadata": {
        "id": "tZXoPON024aZ"
      }
    },
    {
      "cell_type": "code",
      "source": [
        "vector_db = create_vector_database(chunks, name='first')\n",
        "\n",
        "retriever = vector_db.as_retriever(\n",
        "    search_type = \"similarity_score_threshold\",\n",
        "    search_kwargs = {\"k\": 3, \"score_threshold\": 0.1}\n",
        ")"
      ],
      "metadata": {
        "id": "E_crZzrC23r3"
      },
      "execution_count": null,
      "outputs": []
    },
    {
      "cell_type": "code",
      "source": [
        "query = \"Explain the character of Munna\"\n",
        "retriever.invoke(query)"
      ],
      "metadata": {
        "colab": {
          "base_uri": "https://localhost:8080/"
        },
        "id": "ihlh0X-m3pRC",
        "outputId": "8c9a76d8-85e2-449e-be83-cd03744ed702"
      },
      "execution_count": null,
      "outputs": [
        {
          "output_type": "execute_result",
          "data": {
            "text/plain": [
              "[Document(metadata={'soure': 'munna_bhai.txt'}, page_content='and forgive him. Munna ends up marrying Suman after learning of her true identity as \"Chinki\", and together, they open a real hospital in Munna\\'s family village. Circuit also gets married a year later and has a son nicknamed \"Short Circuit\". Asthana resigns as the dean and becomes the head doctor, employing Munna\\'s methods, while Rustom succeeds him. As the film concludes, Anand, restored to normal mental health, narrates the story to a few children at the hospital as he is about to leave for'),\n",
              " Document(metadata={'soure': 'munna_bhai.txt'}, page_content=\"Munna Bhai film series, the film follows Munna Bhai, a don in the Mumbai underworld, trying to please his father by pretending to be a doctor, but when a doctor, Asthana (Irani), exposes his lies and tarnishes his father's honor, Munna enrolls in a medical college. Chaos ensues when Munna, upon finding that Asthana is the dean of the college, vows revenge, while also sparking a romance with a house doctor, Suman (Singh), unaware that she is his childhood friend and Asthana's daughter. The film\"),\n",
              " Document(metadata={'soure': 'munna_bhai.txt'}, page_content='patients, especially those who are deemed incurable by conventional medicine. His behavior is well-received by the hospital staff and patients, who are able to see the good-natured intent behind his anti-establishment actions. Asthana, perceiving this as chaos, is unable to stop it and resorts to laughter therapy to deal with his stress.\\n\\nMunna simultaneously develops a friendly relationship with Dr. Suman, who works at the hospital, unaware that she is \"Chinki\", an ignorance she hilariously')]"
            ]
          },
          "metadata": {},
          "execution_count": 247
        }
      ]
    },
    {
      "cell_type": "code",
      "source": [
        "query = \"A.R Rahman composed the music of which movies ?\"\n",
        "retriever.invoke(query)"
      ],
      "metadata": {
        "colab": {
          "base_uri": "https://localhost:8080/"
        },
        "id": "XBXr4fz33sjp",
        "outputId": "39a4c148-18f0-4c86-afd1-a42e4449619c"
      },
      "execution_count": null,
      "outputs": [
        {
          "output_type": "execute_result",
          "data": {
            "text/plain": [
              "[Document(metadata={'soure': 'swades.txt'}, page_content='was composed by A. R. Rahman, with lyrics penned by Javed Akhtar.\\n\\nSwades was theatrically released on 17 December 2004, and it opened to rave reviews from critics, with praise for the performances of Khan, Joshi and Ballal, and the story, screenplay, and soundtrack. However, it emerged as a commercial failure at the box office.\\n\\nAt the 50th Filmfare Awards, Swades received 8 nominations, including Best Film, Best Director (Gowarikar) and Best Music Director (Rahman), and won Best Actor (Khan)'),\n",
              " Document(metadata={'soure': 'swades.txt'}, page_content=\"and Best Background Score (Rahman).\\n\\nIt was dubbed in Tamil as Desam and released on 26 January 2005, coinciding with Indian Republic Day. Despite its commercial failure, Swades is regarded ahead of its time and is now considered a cult classic of Hindi cinema and one of the best films in Shah Rukh Khan's filmography. [10][11] The film is owned by Red Chillies Entertainment.[12]\\n\\nPlot\\nMohan Bhargava is a non-resident Indian who works as a Project Manager on the Global Precipitation Measurement\"),\n",
              " Document(metadata={'soure': 'lagaan.txt'}, page_content=\"director, while Bhanu Athaiya was the costume designer. The original soundtrack was composed by A. R. Rahman, with lyrics written by Javed Akhtar.\\n\\nLagaan was theatrically released in India on 15 June 2001, clashing with Gadar: Ek Prem Katha. It received widespread critical acclaim for Gowariker's direction, Khan's performance, dialogues, soundtrack, and the film's anti-imperialist stance. With earnings of ₹65.97 crore (US$13.98 million) during its initial release, the film was the third\")]"
            ]
          },
          "metadata": {},
          "execution_count": 248
        }
      ]
    },
    {
      "cell_type": "code",
      "source": [
        "query = \"In which movies the director was Ashutosh Gowariker ?\"\n",
        "retriever.invoke(query)"
      ],
      "metadata": {
        "colab": {
          "base_uri": "https://localhost:8080/"
        },
        "id": "0D8fgEw932ib",
        "outputId": "e1340eb5-33a4-4052-d434-92a3cff25814"
      },
      "execution_count": null,
      "outputs": [
        {
          "output_type": "execute_result",
          "data": {
            "text/plain": [
              "[Document(metadata={'soure': 'lagaan.txt'}, page_content='Lagaan: Once Upon a Time in India, or simply Lagaan, (transl.\\u2009Land tax) is a 2001 Indian Hindi-language epic period musical[5] sports drama film written and directed by Ashutosh Gowariker. The film was produced by Aamir Khan, who stars alongside debutant Gracy Singh and British actors Rachel Shelley and Paul Blackthorne. Set in 1893, during the late Victorian period of British colonial rule in India, the film follows the inhabitants of a village in Central India, who, burdened by high taxes and'),\n",
              " Document(metadata={'soure': 'swades.txt'}, page_content=\"Swades: We, the People (transl.\\u2009Homeland) is a 2004 Indian Hindi-language drama film co-written, directed and produced by Ashutosh Gowariker.[3] The film stars Shah Rukh Khan, Gayatri Joshi and Kishori Ballal while Daya Shankar Pandey, Rajesh Vivek, Lekh Tandon appear in supporting roles.\\n\\nThe plot was based on two episodes of the series Vaapsi on Zee TV's Yule Love Stories (1994–95) which had Gowariker playing the role of Mohan Bhargav.[4] The story of the lead role setting up a micro\"),\n",
              " Document(metadata={'soure': 'lagaan.txt'}, page_content=\"prospective producers called for budget cuts and script modifications. Eventually, the film would become the maiden project of Aamir Khan Productions, and mark Khan's foray into film production. Gowariker was inspired by aspects of sports drama Naya Daur (1957) in developing the film. The language featured in the film was based on Awadhi, but was diluted with standard Hindi for modern audiences. Principal photography took place in villages near Bhuj. Nitin Chandrakant Desai served as art\")]"
            ]
          },
          "metadata": {},
          "execution_count": 249
        }
      ]
    },
    {
      "cell_type": "markdown",
      "source": [
        "## Text Splitters\n",
        "\n",
        "There are different strategies when splitting the whole text into small chunks:\n",
        "\n",
        "- RecursiveTextSplitter\n",
        "- CharacterTextSplitter\n",
        "etc etc\n",
        "\n",
        "Refer to more splitters in the [docs](https://js.langchain.com/docs/concepts/text_splitters/)"
      ],
      "metadata": {
        "id": "p9RND46M5xlc"
      }
    },
    {
      "cell_type": "code",
      "source": [
        "## Create the text splitters\n",
        "\n",
        "char_text_splitter = CharacterTextSplitter(chunk_size=500, chunk_overlap=0, separator=\".\")\n",
        "token_text_splitter = TokenTextSplitter(chunk_size=300)\n",
        "recursive_text_splitter = RecursiveCharacterTextSplitter(chunk_size=500, chunk_overlap=100)\n",
        "\n",
        "## Split the texts\n",
        "char_docs = char_text_splitter.split_documents(documents)\n",
        "token_docs = token_text_splitter.split_documents(documents)\n",
        "recr_docs = recursive_text_splitter.split_documents(documents)\n",
        "\n",
        "\n",
        "## Now create the vector database for each of the splitter\n",
        "char_db = create_vector_database(char_docs, name='char')\n",
        "token_db = create_vector_database(token_docs, name='token')\n",
        "recr_db = create_vector_database(recr_docs,name=\"recr\")\n",
        "\n",
        "## Create the retriever objects\n",
        "char_db_retriever = char_db.as_retriever(\n",
        "    search_type = \"similarity_score_threshold\",\n",
        "    search_kwargs = {\"k\": 3, \"score_threshold\": 0.1}\n",
        ")\n",
        "\n",
        "token_db_retriever = token_db.as_retriever(\n",
        "    search_type = \"similarity_score_threshold\",\n",
        "    search_kwargs = {\"k\": 3, \"score_threshold\": 0.1}\n",
        ")\n",
        "\n",
        "recr_db_retriever = recr_db.as_retriever(\n",
        "    search_type = \"similarity_score_threshold\",\n",
        "    search_kwargs = {\"k\": 3, \"score_threshold\": 0.1}\n",
        ")"
      ],
      "metadata": {
        "id": "-huP4DrW7cXG"
      },
      "execution_count": null,
      "outputs": []
    },
    {
      "cell_type": "code",
      "source": [
        "def format_retrieve(retriever, query):\n",
        "    relevant_doc = retriever.invoke(query)\n",
        "    print(relevant_doc.page_content)"
      ],
      "metadata": {
        "id": "QsHTnPDhCMEq"
      },
      "execution_count": null,
      "outputs": []
    },
    {
      "cell_type": "code",
      "source": [
        "query = \"In which movies the director was Ashutosh Gowariker ?\"\n",
        "for retriever in [char_db_retriever, token_db_retriever, recr_db_retriever]:\n",
        "    print(\"\\n\\n\")\n",
        "    relevant_docs = retriever.invoke(query)\n",
        "    for doc in relevant_docs:\n",
        "        print(doc.page_content)\n",
        "        print(\"-\"*30)"
      ],
      "metadata": {
        "colab": {
          "base_uri": "https://localhost:8080/"
        },
        "id": "K57Z3pEp_uRG",
        "outputId": "542fdfbb-b565-417c-9928-b7274277d7e4"
      },
      "execution_count": null,
      "outputs": [
        {
          "output_type": "stream",
          "name": "stdout",
          "text": [
            "\n",
            "\n",
            "\n",
            "Swades: We, the People (transl. Homeland) is a 2004 Indian Hindi-language drama film co-written, directed and produced by Ashutosh Gowariker.[3] The film stars Shah Rukh Khan, Gayatri Joshi and Kishori Ballal while Daya Shankar Pandey, Rajesh Vivek, Lekh Tandon appear in supporting roles.\n",
            "\n",
            "The plot was based on two episodes of the series Vaapsi on Zee TV's Yule Love Stories (1994–95) which had Gowariker playing the role of Mohan Bhargav\n",
            "------------------------------\n",
            "Lagaan: Once Upon a Time in India, or simply Lagaan, (transl. Land tax) is a 2001 Indian Hindi-language epic period musical[5] sports drama film written and directed by Ashutosh Gowariker. The film was produced by Aamir Khan, who stars alongside debutant Gracy Singh and British actors Rachel Shelley and Paul Blackthorne\n",
            "------------------------------\n",
            "It received widespread critical acclaim for Gowariker's direction, Khan's performance, dialogues, soundtrack, and the film's anti-imperialist stance. With earnings of ₹65.97 crore (US$13.98 million) during its initial release, the film was the third highest-grossing Hindi film of 2001. Lagaan was screened at numerous international film festivals and garnered multiple accolades\n",
            "------------------------------\n",
            "\n",
            "\n",
            "\n",
            "Swades: We, the People (transl. Homeland) is a 2004 Indian Hindi-language drama film co-written, directed and produced by Ashutosh Gowariker.[3] The film stars Shah Rukh Khan, Gayatri Joshi and Kishori Ballal while Daya Shankar Pandey, Rajesh Vivek, Lekh Tandon appear in supporting roles.\n",
            "\n",
            "The plot was based on two episodes of the series Vaapsi on Zee TV's Yule Love Stories (1994–95) which had Gowariker playing the role of Mohan Bhargav.[4] The story of the lead role setting up a micro hydroelectric project to generate electricity was reported to be inspired by the 2003 Kannada film Chigurida Kanasu which was based on the novel of the same name by Jnanapith awardee K. Shivaram Karanth[5][6][7] and Bapu Kuti by Rajni Bakshi.[8] Story writer MG Sathya had revealed that he was swayed over by the Gandhian principles and the socio - political environment during his formative years while studying in Kannada medium school in Jalahalli, Bengaluru.[9]\n",
            "\n",
            "The music and background score was composed by A. R. Rahman, with lyrics penned by Javed Akhtar.\n",
            "\n",
            "Swades was theatrically released on 17 December 2004, and it opened to rave reviews\n",
            "------------------------------\n",
            "Lagaan: Once Upon a Time in India, or simply Lagaan, (transl. Land tax) is a 2001 Indian Hindi-language epic period musical[5] sports drama film written and directed by Ashutosh Gowariker. The film was produced by Aamir Khan, who stars alongside debutant Gracy Singh and British actors Rachel Shelley and Paul Blackthorne. Set in 1893, during the late Victorian period of British colonial rule in India, the film follows the inhabitants of a village in Central India, who, burdened by high taxes and several years of drought, are challenged by an arrogant British Indian Army officer to a game of cricket as a wager to avoid paying the taxes they owe. The villagers face the arduous task of learning a game that is alien to them and playing for a victory.\n",
            "\n",
            "Produced on a budget of ₹25 crore (US$5.3 million), Lagaan was the most expensive Indian film at the time of its release. It faced multiple challenges during production: Khan was initially skeptical to star in a sports film, and later, prospective producers called for budget cuts and script modifications. Eventually, the film would become the maiden project of Aamir Khan Productions, and mark Khan's foray into film production. Gowariker was inspired by aspects of sports drama Naya Daur (1957) in developing the film. The language featured in the film was based on Awadhi,\n",
            "------------------------------\n",
            " film at the time of its release. It faced multiple challenges during production: Khan was initially skeptical to star in a sports film, and later, prospective producers called for budget cuts and script modifications. Eventually, the film would become the maiden project of Aamir Khan Productions, and mark Khan's foray into film production. Gowariker was inspired by aspects of sports drama Naya Daur (1957) in developing the film. The language featured in the film was based on Awadhi, but was diluted with standard Hindi for modern audiences. Principal photography took place in villages near Bhuj. Nitin Chandrakant Desai served as art director, while Bhanu Athaiya was the costume designer. The original soundtrack was composed by A. R. Rahman, with lyrics written by Javed Akhtar.\n",
            "\n",
            "Lagaan was theatrically released in India on 15 June 2001, clashing with Gadar: Ek Prem Katha. It received widespread critical acclaim for Gowariker's direction, Khan's performance, dialogues, soundtrack, and the film's anti-imperialist stance. With earnings of ₹65.97 crore (US$13.98 million) during its initial release, the film was the third highest-grossing Hindi film of 2001. Lagaan was screened at numerous international film festivals and garnered multiple accolades. It was the third, and as of 2024 the last, Indian film to be nominated for the Academy Award\n",
            "------------------------------\n",
            "\n",
            "\n",
            "\n",
            "foray into film production. Gowariker was inspired by aspects of sports drama Naya Daur (1957) in developing the film. The language featured in the film was based on Awadhi, but was diluted with standard Hindi for modern audiences. Principal photography took place in villages near Bhuj. Nitin Chandrakant Desai served as art director, while Bhanu Athaiya was the costume designer. The original soundtrack was composed by A. R. Rahman, with lyrics written by Javed Akhtar.\n",
            "------------------------------\n",
            "Swades: We, the People (transl. Homeland) is a 2004 Indian Hindi-language drama film co-written, directed and produced by Ashutosh Gowariker.[3] The film stars Shah Rukh Khan, Gayatri Joshi and Kishori Ballal while Daya Shankar Pandey, Rajesh Vivek, Lekh Tandon appear in supporting roles.\n",
            "------------------------------\n",
            "Lagaan: Once Upon a Time in India, or simply Lagaan, (transl. Land tax) is a 2001 Indian Hindi-language epic period musical[5] sports drama film written and directed by Ashutosh Gowariker. The film was produced by Aamir Khan, who stars alongside debutant Gracy Singh and British actors Rachel Shelley and Paul Blackthorne. Set in 1893, during the late Victorian period of British colonial rule in India, the film follows the inhabitants of a village in Central India, who, burdened by high taxes and\n",
            "------------------------------\n"
          ]
        }
      ]
    },
    {
      "cell_type": "markdown",
      "source": [
        "## Embedding Models\n",
        "\n",
        "There are plently of embedding models out there\n",
        "\n",
        "Here are links to some:\n",
        "1. [OpenAI Embeddings](https://platform.openai.com/docs/guides/embeddings)\n",
        "2. [sentence-transformers/all-MiniLM-L6-v2](https://huggingface.co/sentence-transformers/all-MiniLM-L6-v2)\n",
        "\n",
        "you can also explore more on (Hugging Face Hub](https://huggingface.co/models?pipeline_tag=sentence-similarity&sort=likes)\n",
        "\n",
        "In this section, we will compare these two embeddings and check the performance for retrieving the information\n",
        "\n",
        "Outline\n",
        "\n",
        "1. First we will scan all the text files and create a document object along with metedata\n",
        "2. Then we will chunk the documents\n",
        "3. Then use one of the embedding models to convert to numerical representation\n",
        "4. Then store these numerical vectors in vector database\n",
        "5. Compare the results with a single query to see how the embeddings are performing"
      ],
      "metadata": {
        "id": "wOLNcEH2mhMx"
      }
    },
    {
      "cell_type": "markdown",
      "source": [
        "### Load all the documents"
      ],
      "metadata": {
        "id": "LgvGu79Fpi6J"
      }
    },
    {
      "cell_type": "code",
      "source": [
        "combined_documents = []\n",
        "for txt_path in glob(\"*.txt\"):\n",
        "    text_loader = TextLoader(txt_path)\n",
        "    docs = text_loader.load()\n",
        "    for doc in docs:\n",
        "        combined_documents.append(doc)\n",
        "\n",
        "len(combined_documents)"
      ],
      "metadata": {
        "colab": {
          "base_uri": "https://localhost:8080/"
        },
        "id": "iHxvVlCTnl2v",
        "outputId": "7d135c79-a7c5-4161-a46b-8779f7e9fa0c"
      },
      "execution_count": 11,
      "outputs": [
        {
          "output_type": "execute_result",
          "data": {
            "text/plain": [
              "4"
            ]
          },
          "metadata": {},
          "execution_count": 11
        }
      ]
    },
    {
      "cell_type": "markdown",
      "source": [
        "### Chunking the documents"
      ],
      "metadata": {
        "id": "5tZRZm9KplaB"
      }
    },
    {
      "cell_type": "code",
      "source": [
        "text_splitter = RecursiveCharacterTextSplitter(chunk_size = 500, chunk_overlap = 100)\n",
        "chunks = text_splitter.split_documents(combined_documents)\n",
        "\n",
        "## find the average character length in all the chunks\n",
        "\n",
        "chars_count = [len(c.page_content) for c in chunks]\n",
        "chars_avg_count = sum(chars_count)/len(chunks)\n",
        "\n",
        "\n",
        "print(f\"All the documents were split into: {len(chunks)} chunks with average chunk length of {chars_avg_count:.0f}.\")"
      ],
      "metadata": {
        "colab": {
          "base_uri": "https://localhost:8080/"
        },
        "id": "_yw-UM9gorxa",
        "outputId": "39262e4e-15cc-4993-8002-1c632ccc1439"
      },
      "execution_count": 20,
      "outputs": [
        {
          "output_type": "stream",
          "name": "stdout",
          "text": [
            "All the documents were split into: 62 chunks with average chunk length of 388.\n"
          ]
        }
      ]
    },
    {
      "cell_type": "markdown",
      "source": [
        "### Embedding the chunks\n",
        "\n",
        "Loading embeddings from huggingface using [`HuggingFaceEmbeddings`](https://python.langchain.com/api_reference/huggingface/embeddings/langchain_huggingface.embeddings.huggingface.HuggingFaceEmbeddings.html)"
      ],
      "metadata": {
        "id": "ujA8kk4gxoWO"
      }
    },
    {
      "cell_type": "code",
      "source": [
        "open_ai_embedding = OpenAIEmbeddings(model='text-embedding-3-small')\n",
        "huggingface_embeddding = HuggingFaceEmbeddings(\n",
        "    model_name = \"sentence-transformers/all-MiniLM-L6-v2\",\n",
        "    model_kwargs = {'device': 'cpu'}\n",
        ")"
      ],
      "metadata": {
        "colab": {
          "base_uri": "https://localhost:8080/",
          "height": 493,
          "referenced_widgets": [
            "9ef34f9403d34672aab63346e34572b5",
            "05d9db901d4245c4834d27a38ee3620d",
            "7ad971c1022b4f3f961436efa8bdf6f6",
            "3da8c64adeef46f487f8a4ac3e8dba5b",
            "6e8e9c0a2e4144b1a7fd55882efa11fc",
            "ed90add37d2c458a9c720d303d145d65",
            "bed861bad6c84a268b42d859af7cdd85",
            "58d2370b09da4f488b56267961ff4d0d",
            "90be9f824a644c5abac4e545c242c632",
            "66928f5bad5b45f28629445c8f27d983",
            "73a02de6b76c4b8f822980eab5b90794",
            "461f1215878240a5a74b91b2efa87d2f",
            "32db67e96d394737b5cbd3cfd1bd74ad",
            "036a57aa19e5498a8af4f3b90cf3209c",
            "3787d8a10757463ba60c3db139a87f88",
            "a2e253e342f345d48a309c42500c0919",
            "594f84eb9c6942c4b04e49c5c93911fe",
            "9f99b75aace34dfda925db102cb30a1a",
            "cb8d454bf86945b7bb40c40c6730153c",
            "0a3db09e1a054d818129015eeba27c57",
            "1ff626fbb39c489cbee6ec1f98e95567",
            "d6294a64600f414ca75c248ef09ef0b1",
            "683d6d0322a1462a820a75b6ba901519",
            "be269c630341491fac86ee92956d32bc",
            "c627b9809de04e2ab0816f74442d6843",
            "0578c343a68048e29c8f494a746491f6",
            "e81022ff41c745ffa8d115e6a792204a",
            "c225a5831a734cedab10f62348bbbd5c",
            "213ba1e231c443d48c66f1f7bf551ecf",
            "28ce042c8a904eff8c5acaf0c956aba7",
            "acf44363f733463b8d86b3d764d41642",
            "7c50475921454029a248230a81098f38",
            "85c777a1f8064eeabda6a1e5e06ae765",
            "1b55ded9aa7b4c4ba1d54f6cfe6f3514",
            "f5329d8a8fdd4d379611446a9e53dc50",
            "f643257a61714d01a67bfde97f50f70d",
            "17232434c54f4faeb51e81ec7d88c87f",
            "ab79c363851646ee8d8cf779e4e30907",
            "1dfaf8180e1a4083a0156ee1776e8729",
            "4f2df7ef80c142ae8e98502676a3287e",
            "bf2bbf805802490da3cc8e8950deab30",
            "02657c6cd6574284a12f93a7041c7ff9",
            "2f4e0ccf540347588db7cf5aed978498",
            "fb587959b72e488b9ff752616725658a",
            "7a5414f8bca146e1ae86b6efcbb9abb8",
            "d17894abe254462e9e245b145cc86723",
            "851377d39958472e84963257cde6b5c4",
            "b950bed6d69044a7abd3e5a4aa5704c6",
            "b296261641ed4824af8f46e0cb0b43c0",
            "df1e37589b6e44b2a8ed9729d6b6fb1c",
            "c37a6f90399449e59db7099b24747774",
            "d7ee2853b3814faea1e29654504b99fc",
            "095470094e004704b7a39bf65d8a10f7",
            "f1ec8e4bdb6f45089aee7601607b6580",
            "4d1b14da4a6947bdb91a597d748822df",
            "29d23ad41209447d8c55be2600239ee4",
            "d196f734c30c48599749ecf7316f8469",
            "4451bbe609994068b5b183b27106cc5d",
            "5e4f43caa081450a8098bcb4f9b42da4",
            "0b22b4c1a3ce4d2281f6755fab4eca9a",
            "7655260846884729959a08f88b45e951",
            "5bc1cba71eaa4150a95174a3f626259b",
            "46edb5858c6f49d580023b822db189f8",
            "8444ece1d0b44fbeaf6f7d2e0dfc620c",
            "e98cef2a8bb34a58b598bf1b1eff0a1e",
            "d4c3018b4ee34245a6115349e05a02ec",
            "c40a5a790d47400092c5a2519fb21604",
            "b0dca0bb081b405e8ebb02abe02d75df",
            "9e256bd547c84d67b5e8b46354a2bac6",
            "1e04f1eedee04440a6a3bbfa782d6f8e",
            "df008ecbcc3e47fdb815531a628aadb9",
            "e7ffe2ab5f9d4d1ebcb7a60eaa194104",
            "bd1e228f66c84b95a5fb908bcdd6aa0e",
            "7322012d3ebc4d3c994ad420f28f53fe",
            "342a7d6d61cb4ba19d549449eb41bcb5",
            "fc749d3be10b4d05a0e0442f063354d7",
            "5035bac18b4546e8835f7f6001d54a28",
            "494d3480a6b349fd8a105d6570e7244f",
            "eadcd9b45ab54215b96903a93cd06996",
            "1a82c66b46034e72a050755d14b98976",
            "b8deb408339648f18378066cbdd3fc9e",
            "02b9c4ef04ff46ffb3b1e4c5e7b25e20",
            "696c09078c454792aa69a50eebea3343",
            "64283e5af33342f092688d88c43aaa82",
            "7d1282c92eed4ccdb12f5023c139cd2b",
            "16636fa44e364e19acf778149cf32d63",
            "9d9eb8f45ad04e0eb712bc91fd8dd6f2",
            "f8999995f04f4c41a6c93950e867da2e",
            "647553f491b14f76b131e4df2c103988",
            "bcb9a9b0c00142afb5fad97337b23c1e",
            "8ee67846afe0476fbd5f5cb1bc354291",
            "18e5d3d17e56442abab633dd4df1714f",
            "b31055ebca7b441a86a9f66931b41fd0",
            "326ecaee7558472ebaf0e9320a85d540",
            "7413ce027e5f44f09f1ecfcf58c5ae13",
            "d8be5ab038ba4c968ed37a75c28b5093",
            "f4fc49789eb54dbf9fdd5f1184674ce9",
            "a633df1d1d5c4f29a990242fb066e950",
            "d054d57e810549e8b719e30bce1918a8",
            "86b8455a25eb496fb08f99777c01c236",
            "07afc3dad4984eddb4ea6c640be3a1e7",
            "10832792ee944354b5d34b1a62e6b3da",
            "2c2614a84b7b4531b11e6086747aae33",
            "7359fd10d01d4e709497a8329def7470",
            "80003c463db54512bb82590b1698c597",
            "a4862882b72d40939a711b30674616ac",
            "b378c176e5624f76a4c54c8e7c7f8631",
            "fe65a216b4bc48c6962a4400ff4fe148",
            "e23ffb9a1b1f461396e578bdcd87d609",
            "a09a816d16a44bf2858610bc0dd532c0",
            "a1b22e7da92c440b8160cc6a6f25fd48",
            "4ba25d494c964035afed335e40313f85",
            "a13c1ef53036491ba8c99932e9921928",
            "64c519a8edd541608c7e12d338fedf3d",
            "1b9445ad14614e498e5ec7b95276f887",
            "ccf7c7f354ab40faa91e594e1ac53066",
            "da99ec9645bc4bb8a0711d2644315069",
            "202e7fec42694722bb6290d61e12e5b8",
            "37807010ed4b4b0d8ef9871d8ca028d4",
            "6f32647887d04788b3c86e4cdb037a21",
            "2dfe43ee61a44357817fd92956bf408e"
          ]
        },
        "id": "8Top9OkVwULV",
        "outputId": "52fc2884-ff08-4a01-88c6-335e4b6c5284"
      },
      "execution_count": 23,
      "outputs": [
        {
          "output_type": "stream",
          "name": "stderr",
          "text": [
            "/usr/local/lib/python3.10/dist-packages/huggingface_hub/utils/_auth.py:94: UserWarning: \n",
            "The secret `HF_TOKEN` does not exist in your Colab secrets.\n",
            "To authenticate with the Hugging Face Hub, create a token in your settings tab (https://huggingface.co/settings/tokens), set it as secret in your Google Colab and restart your session.\n",
            "You will be able to reuse this secret in all of your notebooks.\n",
            "Please note that authentication is recommended but still optional to access public models or datasets.\n",
            "  warnings.warn(\n"
          ]
        },
        {
          "output_type": "display_data",
          "data": {
            "text/plain": [
              "modules.json:   0%|          | 0.00/349 [00:00<?, ?B/s]"
            ],
            "application/vnd.jupyter.widget-view+json": {
              "version_major": 2,
              "version_minor": 0,
              "model_id": "9ef34f9403d34672aab63346e34572b5"
            }
          },
          "metadata": {}
        },
        {
          "output_type": "display_data",
          "data": {
            "text/plain": [
              "config_sentence_transformers.json:   0%|          | 0.00/116 [00:00<?, ?B/s]"
            ],
            "application/vnd.jupyter.widget-view+json": {
              "version_major": 2,
              "version_minor": 0,
              "model_id": "461f1215878240a5a74b91b2efa87d2f"
            }
          },
          "metadata": {}
        },
        {
          "output_type": "display_data",
          "data": {
            "text/plain": [
              "README.md:   0%|          | 0.00/10.7k [00:00<?, ?B/s]"
            ],
            "application/vnd.jupyter.widget-view+json": {
              "version_major": 2,
              "version_minor": 0,
              "model_id": "683d6d0322a1462a820a75b6ba901519"
            }
          },
          "metadata": {}
        },
        {
          "output_type": "display_data",
          "data": {
            "text/plain": [
              "sentence_bert_config.json:   0%|          | 0.00/53.0 [00:00<?, ?B/s]"
            ],
            "application/vnd.jupyter.widget-view+json": {
              "version_major": 2,
              "version_minor": 0,
              "model_id": "1b55ded9aa7b4c4ba1d54f6cfe6f3514"
            }
          },
          "metadata": {}
        },
        {
          "output_type": "display_data",
          "data": {
            "text/plain": [
              "config.json:   0%|          | 0.00/612 [00:00<?, ?B/s]"
            ],
            "application/vnd.jupyter.widget-view+json": {
              "version_major": 2,
              "version_minor": 0,
              "model_id": "7a5414f8bca146e1ae86b6efcbb9abb8"
            }
          },
          "metadata": {}
        },
        {
          "output_type": "display_data",
          "data": {
            "text/plain": [
              "model.safetensors:   0%|          | 0.00/90.9M [00:00<?, ?B/s]"
            ],
            "application/vnd.jupyter.widget-view+json": {
              "version_major": 2,
              "version_minor": 0,
              "model_id": "29d23ad41209447d8c55be2600239ee4"
            }
          },
          "metadata": {}
        },
        {
          "output_type": "display_data",
          "data": {
            "text/plain": [
              "tokenizer_config.json:   0%|          | 0.00/350 [00:00<?, ?B/s]"
            ],
            "application/vnd.jupyter.widget-view+json": {
              "version_major": 2,
              "version_minor": 0,
              "model_id": "c40a5a790d47400092c5a2519fb21604"
            }
          },
          "metadata": {}
        },
        {
          "output_type": "display_data",
          "data": {
            "text/plain": [
              "vocab.txt:   0%|          | 0.00/232k [00:00<?, ?B/s]"
            ],
            "application/vnd.jupyter.widget-view+json": {
              "version_major": 2,
              "version_minor": 0,
              "model_id": "494d3480a6b349fd8a105d6570e7244f"
            }
          },
          "metadata": {}
        },
        {
          "output_type": "display_data",
          "data": {
            "text/plain": [
              "tokenizer.json:   0%|          | 0.00/466k [00:00<?, ?B/s]"
            ],
            "application/vnd.jupyter.widget-view+json": {
              "version_major": 2,
              "version_minor": 0,
              "model_id": "647553f491b14f76b131e4df2c103988"
            }
          },
          "metadata": {}
        },
        {
          "output_type": "display_data",
          "data": {
            "text/plain": [
              "special_tokens_map.json:   0%|          | 0.00/112 [00:00<?, ?B/s]"
            ],
            "application/vnd.jupyter.widget-view+json": {
              "version_major": 2,
              "version_minor": 0,
              "model_id": "86b8455a25eb496fb08f99777c01c236"
            }
          },
          "metadata": {}
        },
        {
          "output_type": "display_data",
          "data": {
            "text/plain": [
              "1_Pooling/config.json:   0%|          | 0.00/190 [00:00<?, ?B/s]"
            ],
            "application/vnd.jupyter.widget-view+json": {
              "version_major": 2,
              "version_minor": 0,
              "model_id": "a1b22e7da92c440b8160cc6a6f25fd48"
            }
          },
          "metadata": {}
        }
      ]
    },
    {
      "cell_type": "markdown",
      "source": [
        "## Create Vector Database"
      ],
      "metadata": {
        "id": "sXpCzm3R04GZ"
      }
    },
    {
      "cell_type": "code",
      "source": [
        "def create_vector_database_v2(chunks: list, name:str, embeddings):\n",
        "\n",
        "    random_suffix = randomname.get_name()\n",
        "\n",
        "    persistent_directory = f\"db/chroma-{name}-({random_suffix})\"\n",
        "\n",
        "    ## If already there, delete and create a new one\n",
        "\n",
        "    for folder in glob(f\"db/chroma-{name}*\"):\n",
        "        if os.path.exists(folder):\n",
        "            shutil.rmtree(folder)\n",
        "\n",
        "    os.mkdir(persistent_directory)\n",
        "\n",
        "    vector_db = Chroma.from_documents(\n",
        "        documents = chunks,\n",
        "        collection_name = name,\n",
        "        embedding = embeddings,\n",
        "        persist_directory = persistent_directory\n",
        "    )\n",
        "\n",
        "    return vector_db"
      ],
      "metadata": {
        "id": "5sw2_u3G1ecS"
      },
      "execution_count": 26,
      "outputs": []
    },
    {
      "cell_type": "code",
      "source": [
        "os.makedirs(\"db\", exist_ok=True)"
      ],
      "metadata": {
        "id": "Sni3XZEY1tFW"
      },
      "execution_count": 27,
      "outputs": []
    },
    {
      "cell_type": "code",
      "source": [
        "openai_vector_db = create_vector_database_v2(\n",
        "    chunks = chunks,\n",
        "    name = \"open_ai_vector_database\",\n",
        "    embeddings = open_ai_embedding\n",
        ")"
      ],
      "metadata": {
        "id": "QRRMXBWVwSdP"
      },
      "execution_count": 28,
      "outputs": []
    },
    {
      "cell_type": "code",
      "source": [
        "huggingface_vector_db = create_vector_database_v2(\n",
        "    chunks = chunks,\n",
        "    name = \"huggingface_vector_database\",\n",
        "    embeddings = huggingface_embeddding\n",
        ")"
      ],
      "metadata": {
        "id": "t7EP2Mmk1-oP"
      },
      "execution_count": 29,
      "outputs": []
    },
    {
      "cell_type": "markdown",
      "source": [
        "### Retrieve the information from Vector Database"
      ],
      "metadata": {
        "id": "A_aGcmbV2FkR"
      }
    },
    {
      "cell_type": "code",
      "source": [
        "open_ai_retriever = openai_vector_db.as_retriever(\n",
        "    search_type = \"similarity_score_threshold\",\n",
        "    search_kwargs = {\"k\": 3, \"score_threshold\": 0.1}\n",
        ")\n",
        "\n",
        "huggingface_ai_retriever = huggingface_vector_db.as_retriever(\n",
        "    search_type = \"similarity_score_threshold\",\n",
        "    search_kwargs = {\"k\": 3, \"score_threshold\": 0.1}\n",
        ")"
      ],
      "metadata": {
        "id": "vE769H1k2FFi"
      },
      "execution_count": 31,
      "outputs": []
    },
    {
      "cell_type": "code",
      "source": [
        "query = \"In which movies the director was Ashutosh Gowariker ?\"\n",
        "\n",
        "for retriever in [open_ai_retriever, huggingface_ai_retriever]:\n",
        "    print(\"\\n\\n\")\n",
        "    relevant_docs = retriever.invoke(query)\n",
        "    for doc in relevant_docs:\n",
        "        print(doc.page_content)"
      ],
      "metadata": {
        "colab": {
          "base_uri": "https://localhost:8080/"
        },
        "id": "lj_EvKH63G5M",
        "outputId": "947876da-57c0-4949-cdb0-f3dc147ab3cd"
      },
      "execution_count": 34,
      "outputs": [
        {
          "output_type": "stream",
          "name": "stdout",
          "text": [
            "\n",
            "\n",
            "\n",
            "foray into film production. Gowariker was inspired by aspects of sports drama Naya Daur (1957) in developing the film. The language featured in the film was based on Awadhi, but was diluted with standard Hindi for modern audiences. Principal photography took place in villages near Bhuj. Nitin Chandrakant Desai served as art director, while Bhanu Athaiya was the costume designer. The original soundtrack was composed by A. R. Rahman, with lyrics written by Javed Akhtar.\n",
            "Swades: We, the People (transl. Homeland) is a 2004 Indian Hindi-language drama film co-written, directed and produced by Ashutosh Gowariker.[3] The film stars Shah Rukh Khan, Gayatri Joshi and Kishori Ballal while Daya Shankar Pandey, Rajesh Vivek, Lekh Tandon appear in supporting roles.\n",
            "Lagaan: Once Upon a Time in India, or simply Lagaan, (transl. Land tax) is a 2001 Indian Hindi-language epic period musical[5] sports drama film written and directed by Ashutosh Gowariker. The film was produced by Aamir Khan, who stars alongside debutant Gracy Singh and British actors Rachel Shelley and Paul Blackthorne. Set in 1893, during the late Victorian period of British colonial rule in India, the film follows the inhabitants of a village in Central India, who, burdened by high taxes and\n",
            "\n",
            "\n",
            "\n",
            "foray into film production. Gowariker was inspired by aspects of sports drama Naya Daur (1957) in developing the film. The language featured in the film was based on Awadhi, but was diluted with standard Hindi for modern audiences. Principal photography took place in villages near Bhuj. Nitin Chandrakant Desai served as art director, while Bhanu Athaiya was the costume designer. The original soundtrack was composed by A. R. Rahman, with lyrics written by Javed Akhtar.\n",
            "Produced on a budget of ₹25 crore (US$5.3 million), Lagaan was the most expensive Indian film at the time of its release. It faced multiple challenges during production: Khan was initially skeptical to star in a sports film, and later, prospective producers called for budget cuts and script modifications. Eventually, the film would become the maiden project of Aamir Khan Productions, and mark Khan's foray into film production. Gowariker was inspired by aspects of sports drama Naya Daur (1957)\n",
            "Lagaan was theatrically released in India on 15 June 2001, clashing with Gadar: Ek Prem Katha. It received widespread critical acclaim for Gowariker's direction, Khan's performance, dialogues, soundtrack, and the film's anti-imperialist stance. With earnings of ₹65.97 crore (US$13.98 million) during its initial release, the film was the third highest-grossing Hindi film of 2001. Lagaan was screened at numerous international film festivals and garnered multiple accolades. It was the third, and\n"
          ]
        }
      ]
    },
    {
      "cell_type": "markdown",
      "source": [
        "## Retriever\n",
        "\n",
        "\n",
        "\n",
        "\n",
        "For retrieving the most relevant documents from a vector store, there are many different methods to score the relevancies:\n",
        "\n",
        "1. Top - K Similar Results\n",
        "2. MMR\n",
        "3. Similarity Scores with a threshold\n",
        "\n",
        "[`langchain_core.vectorstores.base.VectorStore.as_retriever`](https://python.langchain.com/api_reference/core/vectorstores/langchain_core.vectorstores.base.VectorStore.html#langchain_core.vectorstores.base.VectorStore.as_retriever)\n",
        "\n",
        "**Ranking Metric**\n",
        "\n",
        "Two key techniques for ranking document relevancy: cosine similarity and Maximal Marginal Relevance (MMR).\n",
        "\n",
        "1. **Cosine Similarity**: This method focuses solely on finding the most similar documents to the query by measuring the cosine of the angle between the query vector and document vectors. While effective for identifying closely related documents, it often results in a more homogeneous set of results, lacking diversity.\n",
        "\n",
        "2. **Maximal Marginal Relevance (MMR)**: MMR enhances the diversity of search results by balancing relevance and novelty. Unlike cosine similarity, MMR introduces a mechanism to penalize selections that are too similar to previously chosen items. This ensures that the final set of documents is not only relevant but also diverse, reducing redundancy and providing a broader range of information. This approach is particularly beneficial in scenarios where a wide variety of information is desired.\n",
        "\n",
        "In summary, while cosine similarity is great for finding the closest matches, MMR goes a step further by ensuring that the results are both relevant and diverse, making it a sophisticated technique for improving the quality of search results in a RAG pipeline"
      ],
      "metadata": {
        "id": "FqGMEAbJ941Z"
      }
    },
    {
      "cell_type": "code",
      "source": [
        "open_ai_mmr_retriever = openai_vector_db.as_retriever(\n",
        "    search_type = \"mmr\",\n",
        "    search_kwargs = {\"k\": 5}\n",
        ")\n",
        "\n",
        "open_ai_similarity_retriever = openai_vector_db.as_retriever(\n",
        "    search_type = \"similarity\",\n",
        "    search_kwargs = {\"k\": 5}\n",
        ")\n",
        "\n",
        "query = \"In which movies the director was Ashutosh Gowariker ?\"\n",
        "print(query)\n",
        "for retriever in [open_ai_mmr_retriever, open_ai_similarity_retriever]:\n",
        "    print(\"\\n\\n\")\n",
        "    relevant_docs = retriever.invoke(query)\n",
        "    for i, doc in enumerate(relevant_docs):\n",
        "        print(f\"{i+1}.\",doc.page_content)\n",
        "        print()"
      ],
      "metadata": {
        "colab": {
          "base_uri": "https://localhost:8080/"
        },
        "id": "V4Q19kx7P5i0",
        "outputId": "991e57fd-a714-40ac-a549-dbfb36367ff8"
      },
      "execution_count": 43,
      "outputs": [
        {
          "output_type": "stream",
          "name": "stdout",
          "text": [
            "In which movies the director was Ashutosh Gowariker ?\n",
            "\n",
            "\n",
            "\n",
            "1. foray into film production. Gowariker was inspired by aspects of sports drama Naya Daur (1957) in developing the film. The language featured in the film was based on Awadhi, but was diluted with standard Hindi for modern audiences. Principal photography took place in villages near Bhuj. Nitin Chandrakant Desai served as art director, while Bhanu Athaiya was the costume designer. The original soundtrack was composed by A. R. Rahman, with lyrics written by Javed Akhtar.\n",
            "\n",
            "2. Swades: We, the People (transl. Homeland) is a 2004 Indian Hindi-language drama film co-written, directed and produced by Ashutosh Gowariker.[3] The film stars Shah Rukh Khan, Gayatri Joshi and Kishori Ballal while Daya Shankar Pandey, Rajesh Vivek, Lekh Tandon appear in supporting roles.\n",
            "\n",
            "3. Lagaan: Once Upon a Time in India, or simply Lagaan, (transl. Land tax) is a 2001 Indian Hindi-language epic period musical[5] sports drama film written and directed by Ashutosh Gowariker. The film was produced by Aamir Khan, who stars alongside debutant Gracy Singh and British actors Rachel Shelley and Paul Blackthorne. Set in 1893, during the late Victorian period of British colonial rule in India, the film follows the inhabitants of a village in Central India, who, burdened by high taxes and\n",
            "\n",
            "4. sparking a romance with a house doctor, Suman (Singh), unaware that she is his childhood friend and Asthana's daughter. The film was followed by its sequel, Lage Raho Munna Bhai (2006).[3]\n",
            "\n",
            "5. Karanth[5][6][7] and Bapu Kuti by Rajni Bakshi.[8] Story writer MG Sathya had revealed that he was swayed over by the Gandhian principles and the socio - political environment during his formative years while studying in Kannada medium school in Jalahalli, Bengaluru.[9]\n",
            "\n",
            "\n",
            "\n",
            "\n",
            "1. foray into film production. Gowariker was inspired by aspects of sports drama Naya Daur (1957) in developing the film. The language featured in the film was based on Awadhi, but was diluted with standard Hindi for modern audiences. Principal photography took place in villages near Bhuj. Nitin Chandrakant Desai served as art director, while Bhanu Athaiya was the costume designer. The original soundtrack was composed by A. R. Rahman, with lyrics written by Javed Akhtar.\n",
            "\n",
            "2. Swades: We, the People (transl. Homeland) is a 2004 Indian Hindi-language drama film co-written, directed and produced by Ashutosh Gowariker.[3] The film stars Shah Rukh Khan, Gayatri Joshi and Kishori Ballal while Daya Shankar Pandey, Rajesh Vivek, Lekh Tandon appear in supporting roles.\n",
            "\n",
            "3. Lagaan: Once Upon a Time in India, or simply Lagaan, (transl. Land tax) is a 2001 Indian Hindi-language epic period musical[5] sports drama film written and directed by Ashutosh Gowariker. The film was produced by Aamir Khan, who stars alongside debutant Gracy Singh and British actors Rachel Shelley and Paul Blackthorne. Set in 1893, during the late Victorian period of British colonial rule in India, the film follows the inhabitants of a village in Central India, who, burdened by high taxes and\n",
            "\n",
            "4. Lagaan was theatrically released in India on 15 June 2001, clashing with Gadar: Ek Prem Katha. It received widespread critical acclaim for Gowariker's direction, Khan's performance, dialogues, soundtrack, and the film's anti-imperialist stance. With earnings of ₹65.97 crore (US$13.98 million) during its initial release, the film was the third highest-grossing Hindi film of 2001. Lagaan was screened at numerous international film festivals and garnered multiple accolades. It was the third, and\n",
            "\n",
            "5. Produced on a budget of ₹25 crore (US$5.3 million), Lagaan was the most expensive Indian film at the time of its release. It faced multiple challenges during production: Khan was initially skeptical to star in a sports film, and later, prospective producers called for budget cuts and script modifications. Eventually, the film would become the maiden project of Aamir Khan Productions, and mark Khan's foray into film production. Gowariker was inspired by aspects of sports drama Naya Daur (1957)\n",
            "\n"
          ]
        }
      ]
    },
    {
      "cell_type": "markdown",
      "source": [
        "We can see that the mmr gives more diverse results"
      ],
      "metadata": {
        "id": "ENl-rL-VT-oi"
      }
    },
    {
      "cell_type": "markdown",
      "source": [
        "## Re-ranking to improve RAG\n",
        "\n",
        "**Reranking techniques to improve Retrieval-Augmented Generation (RAG) pipelines:**\n",
        "\n",
        "<img src=\"https://miro.medium.com/v2/resize:fit:1400/format:webp/1*q1QQSnNCu-OoN1Ttgh-AVw.png\" height=400/>\n",
        "\n",
        "1. Initial Retrieval: The process starts by retrieving the top K documents from a vector database based on similarity scores. This step is fast and efficient, using methods like cosine similarity.\n",
        "\n",
        "2. Reranking: After the initial retrieval, a reranker model re-evaluates these top K documents to improve their relevance to the query. This model can be more sophisticated and context-aware, often using techniques like cross-attention.\n",
        "\n",
        "3. Cross-Attention: This technique allows the reranker to consider the interaction between the query and each document more deeply, capturing nuanced relationships and improving the ranking quality.\n",
        "\n",
        "4. Reordering: Based on the new relevance scores from the reranker, the documents are reordered to ensure the most relevant ones are at the top.\n",
        "\n",
        "5. Final Selection: The top N documents from the reranked list are selected for the next steps in the RAG pipeline, such as being passed to the language model for generating a response.\n",
        "\n",
        "6. Model Sophistication: While the reranker is often more advanced than the initial retrieval model, it doesn't always have to be. The key is that the reranker provides a different perspective or additional layer of evaluation to enhance the quality of the results.\n",
        "\n",
        "7. ChromaDB: ChromaDB supports reranking, and you can use models like cross-encoders to re-evaluate and improve the initial search results.\n",
        "\n",
        "Overall, reranking helps refine the initial retrieval results by applying a more detailed and context-aware evaluation, leading to better and more relevant document selection\n",
        "\n",
        "References\n",
        "\n",
        "1. [Rerankers and Two-Stage Retrieval](https://www.pinecone.io/learn/series/rag/rerankers/)\n",
        "2. https://adasci.org/a-hands-on-guide-to-enhance-rag-with-re-ranking/"
      ],
      "metadata": {
        "id": "VvgLYrgROTt-"
      }
    },
    {
      "cell_type": "markdown",
      "source": [
        "## Generation part of RAG\n",
        "\n",
        "Now here we will Augment the relevant information that we have retrieved from the vector database into a prompt which will be passed on to our LLM model for answering."
      ],
      "metadata": {
        "id": "WOVlvCFQVhc4"
      }
    },
    {
      "cell_type": "code",
      "source": [
        "prompt_template = ChatPromptTemplate.from_messages(\n",
        "    messages = [\n",
        "        (\"system\", \"Based on the relevant information below\\n\\n{relevant_information}\"),\n",
        "        (\"human\", \"Answer the following: {query}\")\n",
        "    ]\n",
        ")\n",
        "\n",
        "query = \"In which movies the director was Ashutosh Gowariker ?\"\n",
        "\n",
        "results = open_ai_mmr_retriever.invoke(query)\n",
        "relevant_information = \"\\n\".join([f\"{i+1}. {r.page_content}\" for i, r in enumerate(results)])"
      ],
      "metadata": {
        "id": "pv_b5SdzOTZN"
      },
      "execution_count": 63,
      "outputs": []
    },
    {
      "cell_type": "markdown",
      "source": [
        "this is how the prompt looks like:"
      ],
      "metadata": {
        "id": "TftKMtnoYK-5"
      }
    },
    {
      "cell_type": "code",
      "source": [
        "print(prompt_template.invoke(\n",
        "    {\n",
        "        \"relevant_information\": relevant_information,\n",
        "        \"query\": query\n",
        "    }\n",
        ").messages[0].content)"
      ],
      "metadata": {
        "id": "bVnsLrfNXQ2d",
        "outputId": "b871472e-5972-4163-c472-6a0a6960f5a3",
        "colab": {
          "base_uri": "https://localhost:8080/"
        }
      },
      "execution_count": 62,
      "outputs": [
        {
          "output_type": "stream",
          "name": "stdout",
          "text": [
            "Based on the relevant information below\n",
            "\n",
            "1. foray into film production. Gowariker was inspired by aspects of sports drama Naya Daur (1957) in developing the film. The language featured in the film was based on Awadhi, but was diluted with standard Hindi for modern audiences. Principal photography took place in villages near Bhuj. Nitin Chandrakant Desai served as art director, while Bhanu Athaiya was the costume designer. The original soundtrack was composed by A. R. Rahman, with lyrics written by Javed Akhtar.\n",
            "2. Swades: We, the People (transl. Homeland) is a 2004 Indian Hindi-language drama film co-written, directed and produced by Ashutosh Gowariker.[3] The film stars Shah Rukh Khan, Gayatri Joshi and Kishori Ballal while Daya Shankar Pandey, Rajesh Vivek, Lekh Tandon appear in supporting roles.\n",
            "3. Lagaan: Once Upon a Time in India, or simply Lagaan, (transl. Land tax) is a 2001 Indian Hindi-language epic period musical[5] sports drama film written and directed by Ashutosh Gowariker. The film was produced by Aamir Khan, who stars alongside debutant Gracy Singh and British actors Rachel Shelley and Paul Blackthorne. Set in 1893, during the late Victorian period of British colonial rule in India, the film follows the inhabitants of a village in Central India, who, burdened by high taxes and\n",
            "4. sparking a romance with a house doctor, Suman (Singh), unaware that she is his childhood friend and Asthana's daughter. The film was followed by its sequel, Lage Raho Munna Bhai (2006).[3]\n",
            "5. Karanth[5][6][7] and Bapu Kuti by Rajni Bakshi.[8] Story writer MG Sathya had revealed that he was swayed over by the Gandhian principles and the socio - political environment during his formative years while studying in Kannada medium school in Jalahalli, Bengaluru.[9]\n"
          ]
        }
      ]
    },
    {
      "cell_type": "code",
      "source": [
        "chain =  prompt_template | model | StrOutputParser()"
      ],
      "metadata": {
        "id": "B3Ima61ZYO33"
      },
      "execution_count": 66,
      "outputs": []
    },
    {
      "cell_type": "code",
      "source": [
        "message = chain.invoke({\"query\": query, \"relevant_information\": relevant_information})\n",
        "message.content"
      ],
      "metadata": {
        "id": "GEUC5M_PYdW0",
        "outputId": "2b635197-3bba-4b1e-eeb5-69d70e0f6b0a",
        "colab": {
          "base_uri": "https://localhost:8080/",
          "height": 36
        }
      },
      "execution_count": 71,
      "outputs": [
        {
          "output_type": "execute_result",
          "data": {
            "text/plain": [
              "'The director Ashutosh Gowariker was behind the movies \"Swades: We, the People\" and \"Lagaan: Once Upon a Time in India.\"'"
            ],
            "application/vnd.google.colaboratory.intrinsic+json": {
              "type": "string"
            }
          },
          "metadata": {},
          "execution_count": 71
        }
      ]
    }
  ]
}